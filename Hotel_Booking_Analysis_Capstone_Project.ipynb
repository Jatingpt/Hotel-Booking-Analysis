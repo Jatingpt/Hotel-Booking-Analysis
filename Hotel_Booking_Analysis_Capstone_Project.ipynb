{
  "nbformat": 4,
  "nbformat_minor": 0,
  "metadata": {
    "kernelspec": {
      "display_name": "Python 3",
      "language": "python",
      "name": "python3"
    },
    "language_info": {
      "codemirror_mode": {
        "name": "ipython",
        "version": 3
      },
      "file_extension": ".py",
      "mimetype": "text/x-python",
      "name": "python",
      "nbconvert_exporter": "python",
      "pygments_lexer": "ipython3",
      "version": "3.6.6"
    },
    "colab": {
      "provenance": [],
      "include_colab_link": true
    }
  },
  "cells": [
    {
      "cell_type": "markdown",
      "metadata": {
        "id": "view-in-github",
        "colab_type": "text"
      },
      "source": [
        "<a href=\"https://colab.research.google.com/github/Jatingpt/Hotel-Booking-Analysis/blob/main/Hotel_Booking_Analysis_Capstone_Project.ipynb\" target=\"_parent\"><img src=\"https://colab.research.google.com/assets/colab-badge.svg\" alt=\"Open In Colab\"/></a>"
      ]
    },
    {
      "cell_type": "markdown",
      "source": [
        "## **Problem Statement:**"
      ],
      "metadata": {
        "id": "wEwGuX9W2_Hi"
      }
    },
    {
      "cell_type": "markdown",
      "source": [
        "## **Have you ever wondered when the best time of year to book a hotel room is? Or the optimal length of stay in order to get the best daily rate? What if you wanted to predict whether or not a hotel was likely to receive a disproportionately high number of special requests? This hotel booking dataset can help you explore those questions!**\n",
        "## **Explore and analyze the data to discover important factors that govern the bookings.**"
      ],
      "metadata": {
        "id": "hD6ieT1W3cRx"
      }
    },
    {
      "cell_type": "markdown",
      "source": [
        "## **About Dataset**"
      ],
      "metadata": {
        "id": "gcXCu66n3wMa"
      }
    },
    {
      "cell_type": "markdown",
      "source": [
        "## **This data set contains booking information for a city hotel and a resort hotel, and includes information such as when the booking was made, length of stay, the number of adults, children, and/or babies, and the number of available parking spaces, among other things. All personally identifying information has been removed from the data.**"
      ],
      "metadata": {
        "id": "w5k80z7-4KlK"
      }
    },
    {
      "cell_type": "markdown",
      "metadata": {
        "id": "qA4Qp_Bik8c0"
      },
      "source": [
        "## **Approach used:**\n",
        "\n",
        "The approach we have used in this project is defined in the given format-\n",
        "\n",
        "1) **Loading our data :** In this section we just loaded our dataset in colab notebook and read the csv file.\n",
        "\n",
        "\n",
        "2) **Data Cleaning and Processing :** In this section we have tried to remove the null values and for some of the columns we have replaced the null values with the appropriate values with reasonable assumptions.\n",
        "\n",
        "3) **Analysis and Visualization :** In this section we have tried to explore all variables which can play an important role for the analysis. In the next parts we have tried to explore the effect of one over the other. In the next part we tried to answers our hypothetical questions."
      ]
    },
    {
      "cell_type": "markdown",
      "metadata": {
        "id": "ubvCyG2mosT_"
      },
      "source": [
        "## **Python Libraries we used:**\n",
        "\n",
        "* **Numpy**\n",
        "\n",
        "* **Pandas**\n",
        "\n",
        "* **Seaborn**\n",
        "\n",
        "* **Matplotlib**\n",
        "\n",
        "*  **klib**\n",
        "\n",
        "\n"
      ]
    },
    {
      "cell_type": "markdown",
      "metadata": {
        "id": "uHaCQTsdqkNL"
      },
      "source": [
        "# **What is EDA?**\n",
        "\n",
        " **EDA** stands for **“Exploratory Data Analysis “** EDA is applied to **investigate** the data and **summarize** the key **insights**.\n",
        "It will give you the basic understanding of your data, it’s **distribution**, null values and much more.\n",
        "You can either explore data using graphs or through some **python functions**.\n",
        "\n",
        "The following steps are involved in the **process of EDA:**\n",
        "\n",
        "* **Acquire and loading data**\n",
        "* **Understanding the variables**\n",
        "* **Cleaning dataset**\n",
        "* **Exploring and Visualizing Data**\n",
        "* **Analyzing relationships between variables**"
      ]
    },
    {
      "cell_type": "markdown",
      "metadata": {
        "id": "RYHThcNBueWl"
      },
      "source": [
        "## **Understanding the column names-**\n",
        "- **hotel** - Name of hotel ( City or Resort)\n",
        "- **is_canceled** - Whether the booking is canceled or not (0 for no canceled and 1 for canceled)\n",
        "- **lead_time** - time (in days) between booking transaction and actual arrival.\n",
        "- **arrival_date_year** - Year of arrival\n",
        "- **arrival_date_month** - month of arrival\n",
        "- **arrival_date_week_number** - week number of arrival date.\n",
        "- **arrival_date_day_of_month** - Day of month of arrival date\n",
        "- **stays_in_weekend_nights** - No. of weekend nights spent in a hotel\n",
        "- **stays_in_week_nights** - No. of weeknights spent in a hotel\n",
        "- **adults** - No. of adults in single booking record.\n",
        "- **children** - No. of children in single booking record.\n",
        "- **babies** - No. of babies in single booking record.\n",
        "- **meal** - Type of meal chosen\n",
        "- **country** - Country of origin of customers (as mentioned by them)\n",
        "- **market_segment** - What segment via booking was made and for what purpose.\n",
        "- **distribution_channel** - Via which medium booking was made.\n",
        "- **is_repeated_guest** - Whether the customer has made any booking before(0 for No and 1 for Yes)\n",
        "- **previous_cancellations** - No. of previous canceled bookings.\n",
        "- **previous_bookings_not_canceled** - No. of previous non-canceled bookings.\n",
        "- **reserved_room_type** - Room type reserved by a customer.\n",
        "- **assigned_room_type** - Room type assigned to the customer.\n",
        "- **booking_changes** - No. of booking changes done by customers\n",
        "- **deposit_type** - Type of deposit at the time of making a booking (No deposit/ Refundable/ No refund)\n",
        "- **agent** - Id of agent for booking\n",
        "- **company** - Id of the company making a booking.\n",
        "- **days_in_waiting_list** - No. of days on waiting list.\n",
        "- **customer_type** - Type of customer(Transient, Group, etc.)\n",
        "- **adr** - Average Daily rate.\n",
        "- **required_car_parking_spaces** - No. of car parking asked in booking\n",
        "- **total_of_special_requests** - total no. of special request.\n",
        "- **reservation_status** - Whether a customer has checked out or canceled,or not showed\n",
        "- **reservation_status_date** - Date of making reservation status.\n",
        "\n",
        "- **Total number of rows in data** - 119390\n",
        "- **Total number of columns** - 32\n",
        "\n"
      ]
    },
    {
      "cell_type": "markdown",
      "metadata": {
        "id": "-HTCTS9F5UA4"
      },
      "source": [
        "# **Table of content**\n",
        "- Loading Data\n",
        "\n",
        "- Checking for NaN values\n",
        "\n",
        "- Handling NaNs\n",
        "\n",
        "- Analysis\n",
        "\n",
        "**Performed EDA and tried answering the following questions:**\n",
        "\n",
        "Question1) From which country maximum number of customers are booking hotels?\n",
        "\n",
        "Question2) Give a table of all the countries and their repeated customers showing the highest and the lowest country with repeated customers.\n",
        "\n",
        "Question3) In which hotel there is maximum chances of cancellation?\n",
        "\n",
        "Question4)What is the data for the repetition of guests for both of the hotels?\n",
        "\n",
        "Question5) Which hotel has longer waiting time?\n",
        "\n",
        "Question6) Find the number of customers who booked Resort hotel and City and not cancelled booking further.\n",
        "\n",
        "Question7) Find the first three months with maximum number of bookings and average rent across all the months for both Resort Hotel and City hotel.\n",
        "\n",
        "Question8)  Find out the average rent and waiting time for different types of customers for City hotel and Resort Hotel.\n",
        "\n",
        "Question9) Find the Agent who has done most number of bookings for Resort hotel and City Hotel.\n",
        "\n",
        "Question10)  Find out the count of customers who booked tickets through various modes and through which mode highest booking was made.\n",
        "\n",
        "Question 11) Find the most popular Rooms booked and their respective rents."
      ]
    },
    {
      "cell_type": "code",
      "execution_count": 1,
      "metadata": {
        "id": "WD7c3Oc8kIiW",
        "outputId": "f8afc427-71f9-495a-f9cf-f6b130970bdc",
        "colab": {
          "base_uri": "https://localhost:8080/"
        }
      },
      "outputs": [
        {
          "output_type": "stream",
          "name": "stdout",
          "text": [
            "Collecting klib\n",
            "  Downloading klib-1.3.2-py3-none-any.whl.metadata (7.4 kB)\n",
            "Requirement already satisfied: jinja2>=3.1.0 in /usr/local/lib/python3.10/dist-packages (from klib) (3.1.4)\n",
            "Requirement already satisfied: matplotlib>=3.6.0 in /usr/local/lib/python3.10/dist-packages (from klib) (3.8.0)\n",
            "Requirement already satisfied: numpy>=1.26.0 in /usr/local/lib/python3.10/dist-packages (from klib) (1.26.4)\n",
            "Requirement already satisfied: pandas<3.0,>=1.4 in /usr/local/lib/python3.10/dist-packages (from klib) (2.2.2)\n",
            "Requirement already satisfied: plotly>=5.11.0 in /usr/local/lib/python3.10/dist-packages (from klib) (5.24.1)\n",
            "Requirement already satisfied: scipy>=1.10.0 in /usr/local/lib/python3.10/dist-packages (from klib) (1.13.1)\n",
            "Collecting screeninfo>=0.8.1 (from klib)\n",
            "  Downloading screeninfo-0.8.1-py3-none-any.whl.metadata (2.9 kB)\n",
            "Requirement already satisfied: seaborn>=0.12.0 in /usr/local/lib/python3.10/dist-packages (from klib) (0.13.2)\n",
            "Requirement already satisfied: MarkupSafe>=2.0 in /usr/local/lib/python3.10/dist-packages (from jinja2>=3.1.0->klib) (3.0.2)\n",
            "Requirement already satisfied: contourpy>=1.0.1 in /usr/local/lib/python3.10/dist-packages (from matplotlib>=3.6.0->klib) (1.3.1)\n",
            "Requirement already satisfied: cycler>=0.10 in /usr/local/lib/python3.10/dist-packages (from matplotlib>=3.6.0->klib) (0.12.1)\n",
            "Requirement already satisfied: fonttools>=4.22.0 in /usr/local/lib/python3.10/dist-packages (from matplotlib>=3.6.0->klib) (4.55.3)\n",
            "Requirement already satisfied: kiwisolver>=1.0.1 in /usr/local/lib/python3.10/dist-packages (from matplotlib>=3.6.0->klib) (1.4.7)\n",
            "Requirement already satisfied: packaging>=20.0 in /usr/local/lib/python3.10/dist-packages (from matplotlib>=3.6.0->klib) (24.2)\n",
            "Requirement already satisfied: pillow>=6.2.0 in /usr/local/lib/python3.10/dist-packages (from matplotlib>=3.6.0->klib) (11.0.0)\n",
            "Requirement already satisfied: pyparsing>=2.3.1 in /usr/local/lib/python3.10/dist-packages (from matplotlib>=3.6.0->klib) (3.2.0)\n",
            "Requirement already satisfied: python-dateutil>=2.7 in /usr/local/lib/python3.10/dist-packages (from matplotlib>=3.6.0->klib) (2.8.2)\n",
            "Requirement already satisfied: pytz>=2020.1 in /usr/local/lib/python3.10/dist-packages (from pandas<3.0,>=1.4->klib) (2024.2)\n",
            "Requirement already satisfied: tzdata>=2022.7 in /usr/local/lib/python3.10/dist-packages (from pandas<3.0,>=1.4->klib) (2024.2)\n",
            "Requirement already satisfied: tenacity>=6.2.0 in /usr/local/lib/python3.10/dist-packages (from plotly>=5.11.0->klib) (9.0.0)\n",
            "Requirement already satisfied: six>=1.5 in /usr/local/lib/python3.10/dist-packages (from python-dateutil>=2.7->matplotlib>=3.6.0->klib) (1.17.0)\n",
            "Downloading klib-1.3.2-py3-none-any.whl (23 kB)\n",
            "Downloading screeninfo-0.8.1-py3-none-any.whl (12 kB)\n",
            "Installing collected packages: screeninfo, klib\n",
            "Successfully installed klib-1.3.2 screeninfo-0.8.1\n"
          ]
        }
      ],
      "source": [
        "# installing Klib library\n",
        "!pip install klib\n",
        "\n",
        "import numpy as np\n",
        "import matplotlib.pyplot as plt\n",
        "%matplotlib inline\n",
        "import matplotlib\n",
        "import seaborn as sns\n",
        "import pandas as pd\n",
        "import klib"
      ]
    },
    {
      "cell_type": "markdown",
      "metadata": {
        "id": "cpjD9G3UagJt"
      },
      "source": [
        "## **Mounting the data from drive**"
      ]
    },
    {
      "cell_type": "code",
      "source": [
        "from google.colab import drive\n",
        "drive.mount('/content/drive/')"
      ],
      "metadata": {
        "id": "va5bnQ6t5iBf",
        "outputId": "5a807a91-238a-4fef-c028-4985f0722b27",
        "colab": {
          "base_uri": "https://localhost:8080/"
        }
      },
      "execution_count": null,
      "outputs": [
        {
          "output_type": "stream",
          "name": "stdout",
          "text": [
            "Mounted at /content/drive/\n"
          ]
        }
      ]
    },
    {
      "cell_type": "markdown",
      "metadata": {
        "id": "nhWrDsuMaTVB"
      },
      "source": [
        "## **Loading the data**"
      ]
    },
    {
      "cell_type": "code",
      "source": [
        "file_path = '/content/drive/MyDrive/Copy of Hotel Bookings.csv'\n",
        "df = pd.read_csv(file_path)\n",
        "df"
      ],
      "metadata": {
        "id": "Vph8wfUb6cWT",
        "outputId": "cbc3144b-6481-4d3f-f9eb-ee5302e65df4",
        "colab": {
          "base_uri": "https://localhost:8080/",
          "height": 661
        }
      },
      "execution_count": null,
      "outputs": [
        {
          "output_type": "execute_result",
          "data": {
            "text/plain": [
              "               hotel  is_canceled  lead_time  arrival_date_year  \\\n",
              "0       Resort Hotel            0        342               2015   \n",
              "1       Resort Hotel            0        737               2015   \n",
              "2       Resort Hotel            0          7               2015   \n",
              "3       Resort Hotel            0         13               2015   \n",
              "4       Resort Hotel            0         14               2015   \n",
              "...              ...          ...        ...                ...   \n",
              "119385    City Hotel            0         23               2017   \n",
              "119386    City Hotel            0        102               2017   \n",
              "119387    City Hotel            0         34               2017   \n",
              "119388    City Hotel            0        109               2017   \n",
              "119389    City Hotel            0        205               2017   \n",
              "\n",
              "       arrival_date_month  arrival_date_week_number  \\\n",
              "0                    July                        27   \n",
              "1                    July                        27   \n",
              "2                    July                        27   \n",
              "3                    July                        27   \n",
              "4                    July                        27   \n",
              "...                   ...                       ...   \n",
              "119385             August                        35   \n",
              "119386             August                        35   \n",
              "119387             August                        35   \n",
              "119388             August                        35   \n",
              "119389             August                        35   \n",
              "\n",
              "        arrival_date_day_of_month  stays_in_weekend_nights  \\\n",
              "0                               1                        0   \n",
              "1                               1                        0   \n",
              "2                               1                        0   \n",
              "3                               1                        0   \n",
              "4                               1                        0   \n",
              "...                           ...                      ...   \n",
              "119385                         30                        2   \n",
              "119386                         31                        2   \n",
              "119387                         31                        2   \n",
              "119388                         31                        2   \n",
              "119389                         29                        2   \n",
              "\n",
              "        stays_in_week_nights  adults  ...  deposit_type  agent company  \\\n",
              "0                          0       2  ...    No Deposit    NaN     NaN   \n",
              "1                          0       2  ...    No Deposit    NaN     NaN   \n",
              "2                          1       1  ...    No Deposit    NaN     NaN   \n",
              "3                          1       1  ...    No Deposit  304.0     NaN   \n",
              "4                          2       2  ...    No Deposit  240.0     NaN   \n",
              "...                      ...     ...  ...           ...    ...     ...   \n",
              "119385                     5       2  ...    No Deposit  394.0     NaN   \n",
              "119386                     5       3  ...    No Deposit    9.0     NaN   \n",
              "119387                     5       2  ...    No Deposit    9.0     NaN   \n",
              "119388                     5       2  ...    No Deposit   89.0     NaN   \n",
              "119389                     7       2  ...    No Deposit    9.0     NaN   \n",
              "\n",
              "       days_in_waiting_list customer_type     adr  \\\n",
              "0                         0     Transient    0.00   \n",
              "1                         0     Transient    0.00   \n",
              "2                         0     Transient   75.00   \n",
              "3                         0     Transient   75.00   \n",
              "4                         0     Transient   98.00   \n",
              "...                     ...           ...     ...   \n",
              "119385                    0     Transient   96.14   \n",
              "119386                    0     Transient  225.43   \n",
              "119387                    0     Transient  157.71   \n",
              "119388                    0     Transient  104.40   \n",
              "119389                    0     Transient  151.20   \n",
              "\n",
              "        required_car_parking_spaces  total_of_special_requests  \\\n",
              "0                                 0                          0   \n",
              "1                                 0                          0   \n",
              "2                                 0                          0   \n",
              "3                                 0                          0   \n",
              "4                                 0                          1   \n",
              "...                             ...                        ...   \n",
              "119385                            0                          0   \n",
              "119386                            0                          2   \n",
              "119387                            0                          4   \n",
              "119388                            0                          0   \n",
              "119389                            0                          2   \n",
              "\n",
              "        reservation_status reservation_status_date  \n",
              "0                Check-Out              2015-07-01  \n",
              "1                Check-Out              2015-07-01  \n",
              "2                Check-Out              2015-07-02  \n",
              "3                Check-Out              2015-07-02  \n",
              "4                Check-Out              2015-07-03  \n",
              "...                    ...                     ...  \n",
              "119385           Check-Out              2017-09-06  \n",
              "119386           Check-Out              2017-09-07  \n",
              "119387           Check-Out              2017-09-07  \n",
              "119388           Check-Out              2017-09-07  \n",
              "119389           Check-Out              2017-09-07  \n",
              "\n",
              "[119390 rows x 32 columns]"
            ],
            "text/html": [
              "\n",
              "  <div id=\"df-6e6b4938-596d-4601-b06c-6e96c81f3a25\">\n",
              "    <div class=\"colab-df-container\">\n",
              "      <div>\n",
              "<style scoped>\n",
              "    .dataframe tbody tr th:only-of-type {\n",
              "        vertical-align: middle;\n",
              "    }\n",
              "\n",
              "    .dataframe tbody tr th {\n",
              "        vertical-align: top;\n",
              "    }\n",
              "\n",
              "    .dataframe thead th {\n",
              "        text-align: right;\n",
              "    }\n",
              "</style>\n",
              "<table border=\"1\" class=\"dataframe\">\n",
              "  <thead>\n",
              "    <tr style=\"text-align: right;\">\n",
              "      <th></th>\n",
              "      <th>hotel</th>\n",
              "      <th>is_canceled</th>\n",
              "      <th>lead_time</th>\n",
              "      <th>arrival_date_year</th>\n",
              "      <th>arrival_date_month</th>\n",
              "      <th>arrival_date_week_number</th>\n",
              "      <th>arrival_date_day_of_month</th>\n",
              "      <th>stays_in_weekend_nights</th>\n",
              "      <th>stays_in_week_nights</th>\n",
              "      <th>adults</th>\n",
              "      <th>...</th>\n",
              "      <th>deposit_type</th>\n",
              "      <th>agent</th>\n",
              "      <th>company</th>\n",
              "      <th>days_in_waiting_list</th>\n",
              "      <th>customer_type</th>\n",
              "      <th>adr</th>\n",
              "      <th>required_car_parking_spaces</th>\n",
              "      <th>total_of_special_requests</th>\n",
              "      <th>reservation_status</th>\n",
              "      <th>reservation_status_date</th>\n",
              "    </tr>\n",
              "  </thead>\n",
              "  <tbody>\n",
              "    <tr>\n",
              "      <th>0</th>\n",
              "      <td>Resort Hotel</td>\n",
              "      <td>0</td>\n",
              "      <td>342</td>\n",
              "      <td>2015</td>\n",
              "      <td>July</td>\n",
              "      <td>27</td>\n",
              "      <td>1</td>\n",
              "      <td>0</td>\n",
              "      <td>0</td>\n",
              "      <td>2</td>\n",
              "      <td>...</td>\n",
              "      <td>No Deposit</td>\n",
              "      <td>NaN</td>\n",
              "      <td>NaN</td>\n",
              "      <td>0</td>\n",
              "      <td>Transient</td>\n",
              "      <td>0.00</td>\n",
              "      <td>0</td>\n",
              "      <td>0</td>\n",
              "      <td>Check-Out</td>\n",
              "      <td>2015-07-01</td>\n",
              "    </tr>\n",
              "    <tr>\n",
              "      <th>1</th>\n",
              "      <td>Resort Hotel</td>\n",
              "      <td>0</td>\n",
              "      <td>737</td>\n",
              "      <td>2015</td>\n",
              "      <td>July</td>\n",
              "      <td>27</td>\n",
              "      <td>1</td>\n",
              "      <td>0</td>\n",
              "      <td>0</td>\n",
              "      <td>2</td>\n",
              "      <td>...</td>\n",
              "      <td>No Deposit</td>\n",
              "      <td>NaN</td>\n",
              "      <td>NaN</td>\n",
              "      <td>0</td>\n",
              "      <td>Transient</td>\n",
              "      <td>0.00</td>\n",
              "      <td>0</td>\n",
              "      <td>0</td>\n",
              "      <td>Check-Out</td>\n",
              "      <td>2015-07-01</td>\n",
              "    </tr>\n",
              "    <tr>\n",
              "      <th>2</th>\n",
              "      <td>Resort Hotel</td>\n",
              "      <td>0</td>\n",
              "      <td>7</td>\n",
              "      <td>2015</td>\n",
              "      <td>July</td>\n",
              "      <td>27</td>\n",
              "      <td>1</td>\n",
              "      <td>0</td>\n",
              "      <td>1</td>\n",
              "      <td>1</td>\n",
              "      <td>...</td>\n",
              "      <td>No Deposit</td>\n",
              "      <td>NaN</td>\n",
              "      <td>NaN</td>\n",
              "      <td>0</td>\n",
              "      <td>Transient</td>\n",
              "      <td>75.00</td>\n",
              "      <td>0</td>\n",
              "      <td>0</td>\n",
              "      <td>Check-Out</td>\n",
              "      <td>2015-07-02</td>\n",
              "    </tr>\n",
              "    <tr>\n",
              "      <th>3</th>\n",
              "      <td>Resort Hotel</td>\n",
              "      <td>0</td>\n",
              "      <td>13</td>\n",
              "      <td>2015</td>\n",
              "      <td>July</td>\n",
              "      <td>27</td>\n",
              "      <td>1</td>\n",
              "      <td>0</td>\n",
              "      <td>1</td>\n",
              "      <td>1</td>\n",
              "      <td>...</td>\n",
              "      <td>No Deposit</td>\n",
              "      <td>304.0</td>\n",
              "      <td>NaN</td>\n",
              "      <td>0</td>\n",
              "      <td>Transient</td>\n",
              "      <td>75.00</td>\n",
              "      <td>0</td>\n",
              "      <td>0</td>\n",
              "      <td>Check-Out</td>\n",
              "      <td>2015-07-02</td>\n",
              "    </tr>\n",
              "    <tr>\n",
              "      <th>4</th>\n",
              "      <td>Resort Hotel</td>\n",
              "      <td>0</td>\n",
              "      <td>14</td>\n",
              "      <td>2015</td>\n",
              "      <td>July</td>\n",
              "      <td>27</td>\n",
              "      <td>1</td>\n",
              "      <td>0</td>\n",
              "      <td>2</td>\n",
              "      <td>2</td>\n",
              "      <td>...</td>\n",
              "      <td>No Deposit</td>\n",
              "      <td>240.0</td>\n",
              "      <td>NaN</td>\n",
              "      <td>0</td>\n",
              "      <td>Transient</td>\n",
              "      <td>98.00</td>\n",
              "      <td>0</td>\n",
              "      <td>1</td>\n",
              "      <td>Check-Out</td>\n",
              "      <td>2015-07-03</td>\n",
              "    </tr>\n",
              "    <tr>\n",
              "      <th>...</th>\n",
              "      <td>...</td>\n",
              "      <td>...</td>\n",
              "      <td>...</td>\n",
              "      <td>...</td>\n",
              "      <td>...</td>\n",
              "      <td>...</td>\n",
              "      <td>...</td>\n",
              "      <td>...</td>\n",
              "      <td>...</td>\n",
              "      <td>...</td>\n",
              "      <td>...</td>\n",
              "      <td>...</td>\n",
              "      <td>...</td>\n",
              "      <td>...</td>\n",
              "      <td>...</td>\n",
              "      <td>...</td>\n",
              "      <td>...</td>\n",
              "      <td>...</td>\n",
              "      <td>...</td>\n",
              "      <td>...</td>\n",
              "      <td>...</td>\n",
              "    </tr>\n",
              "    <tr>\n",
              "      <th>119385</th>\n",
              "      <td>City Hotel</td>\n",
              "      <td>0</td>\n",
              "      <td>23</td>\n",
              "      <td>2017</td>\n",
              "      <td>August</td>\n",
              "      <td>35</td>\n",
              "      <td>30</td>\n",
              "      <td>2</td>\n",
              "      <td>5</td>\n",
              "      <td>2</td>\n",
              "      <td>...</td>\n",
              "      <td>No Deposit</td>\n",
              "      <td>394.0</td>\n",
              "      <td>NaN</td>\n",
              "      <td>0</td>\n",
              "      <td>Transient</td>\n",
              "      <td>96.14</td>\n",
              "      <td>0</td>\n",
              "      <td>0</td>\n",
              "      <td>Check-Out</td>\n",
              "      <td>2017-09-06</td>\n",
              "    </tr>\n",
              "    <tr>\n",
              "      <th>119386</th>\n",
              "      <td>City Hotel</td>\n",
              "      <td>0</td>\n",
              "      <td>102</td>\n",
              "      <td>2017</td>\n",
              "      <td>August</td>\n",
              "      <td>35</td>\n",
              "      <td>31</td>\n",
              "      <td>2</td>\n",
              "      <td>5</td>\n",
              "      <td>3</td>\n",
              "      <td>...</td>\n",
              "      <td>No Deposit</td>\n",
              "      <td>9.0</td>\n",
              "      <td>NaN</td>\n",
              "      <td>0</td>\n",
              "      <td>Transient</td>\n",
              "      <td>225.43</td>\n",
              "      <td>0</td>\n",
              "      <td>2</td>\n",
              "      <td>Check-Out</td>\n",
              "      <td>2017-09-07</td>\n",
              "    </tr>\n",
              "    <tr>\n",
              "      <th>119387</th>\n",
              "      <td>City Hotel</td>\n",
              "      <td>0</td>\n",
              "      <td>34</td>\n",
              "      <td>2017</td>\n",
              "      <td>August</td>\n",
              "      <td>35</td>\n",
              "      <td>31</td>\n",
              "      <td>2</td>\n",
              "      <td>5</td>\n",
              "      <td>2</td>\n",
              "      <td>...</td>\n",
              "      <td>No Deposit</td>\n",
              "      <td>9.0</td>\n",
              "      <td>NaN</td>\n",
              "      <td>0</td>\n",
              "      <td>Transient</td>\n",
              "      <td>157.71</td>\n",
              "      <td>0</td>\n",
              "      <td>4</td>\n",
              "      <td>Check-Out</td>\n",
              "      <td>2017-09-07</td>\n",
              "    </tr>\n",
              "    <tr>\n",
              "      <th>119388</th>\n",
              "      <td>City Hotel</td>\n",
              "      <td>0</td>\n",
              "      <td>109</td>\n",
              "      <td>2017</td>\n",
              "      <td>August</td>\n",
              "      <td>35</td>\n",
              "      <td>31</td>\n",
              "      <td>2</td>\n",
              "      <td>5</td>\n",
              "      <td>2</td>\n",
              "      <td>...</td>\n",
              "      <td>No Deposit</td>\n",
              "      <td>89.0</td>\n",
              "      <td>NaN</td>\n",
              "      <td>0</td>\n",
              "      <td>Transient</td>\n",
              "      <td>104.40</td>\n",
              "      <td>0</td>\n",
              "      <td>0</td>\n",
              "      <td>Check-Out</td>\n",
              "      <td>2017-09-07</td>\n",
              "    </tr>\n",
              "    <tr>\n",
              "      <th>119389</th>\n",
              "      <td>City Hotel</td>\n",
              "      <td>0</td>\n",
              "      <td>205</td>\n",
              "      <td>2017</td>\n",
              "      <td>August</td>\n",
              "      <td>35</td>\n",
              "      <td>29</td>\n",
              "      <td>2</td>\n",
              "      <td>7</td>\n",
              "      <td>2</td>\n",
              "      <td>...</td>\n",
              "      <td>No Deposit</td>\n",
              "      <td>9.0</td>\n",
              "      <td>NaN</td>\n",
              "      <td>0</td>\n",
              "      <td>Transient</td>\n",
              "      <td>151.20</td>\n",
              "      <td>0</td>\n",
              "      <td>2</td>\n",
              "      <td>Check-Out</td>\n",
              "      <td>2017-09-07</td>\n",
              "    </tr>\n",
              "  </tbody>\n",
              "</table>\n",
              "<p>119390 rows × 32 columns</p>\n",
              "</div>\n",
              "      <button class=\"colab-df-convert\" onclick=\"convertToInteractive('df-6e6b4938-596d-4601-b06c-6e96c81f3a25')\"\n",
              "              title=\"Convert this dataframe to an interactive table.\"\n",
              "              style=\"display:none;\">\n",
              "        \n",
              "  <svg xmlns=\"http://www.w3.org/2000/svg\" height=\"24px\"viewBox=\"0 0 24 24\"\n",
              "       width=\"24px\">\n",
              "    <path d=\"M0 0h24v24H0V0z\" fill=\"none\"/>\n",
              "    <path d=\"M18.56 5.44l.94 2.06.94-2.06 2.06-.94-2.06-.94-.94-2.06-.94 2.06-2.06.94zm-11 1L8.5 8.5l.94-2.06 2.06-.94-2.06-.94L8.5 2.5l-.94 2.06-2.06.94zm10 10l.94 2.06.94-2.06 2.06-.94-2.06-.94-.94-2.06-.94 2.06-2.06.94z\"/><path d=\"M17.41 7.96l-1.37-1.37c-.4-.4-.92-.59-1.43-.59-.52 0-1.04.2-1.43.59L10.3 9.45l-7.72 7.72c-.78.78-.78 2.05 0 2.83L4 21.41c.39.39.9.59 1.41.59.51 0 1.02-.2 1.41-.59l7.78-7.78 2.81-2.81c.8-.78.8-2.07 0-2.86zM5.41 20L4 18.59l7.72-7.72 1.47 1.35L5.41 20z\"/>\n",
              "  </svg>\n",
              "      </button>\n",
              "      \n",
              "  <style>\n",
              "    .colab-df-container {\n",
              "      display:flex;\n",
              "      flex-wrap:wrap;\n",
              "      gap: 12px;\n",
              "    }\n",
              "\n",
              "    .colab-df-convert {\n",
              "      background-color: #E8F0FE;\n",
              "      border: none;\n",
              "      border-radius: 50%;\n",
              "      cursor: pointer;\n",
              "      display: none;\n",
              "      fill: #1967D2;\n",
              "      height: 32px;\n",
              "      padding: 0 0 0 0;\n",
              "      width: 32px;\n",
              "    }\n",
              "\n",
              "    .colab-df-convert:hover {\n",
              "      background-color: #E2EBFA;\n",
              "      box-shadow: 0px 1px 2px rgba(60, 64, 67, 0.3), 0px 1px 3px 1px rgba(60, 64, 67, 0.15);\n",
              "      fill: #174EA6;\n",
              "    }\n",
              "\n",
              "    [theme=dark] .colab-df-convert {\n",
              "      background-color: #3B4455;\n",
              "      fill: #D2E3FC;\n",
              "    }\n",
              "\n",
              "    [theme=dark] .colab-df-convert:hover {\n",
              "      background-color: #434B5C;\n",
              "      box-shadow: 0px 1px 3px 1px rgba(0, 0, 0, 0.15);\n",
              "      filter: drop-shadow(0px 1px 2px rgba(0, 0, 0, 0.3));\n",
              "      fill: #FFFFFF;\n",
              "    }\n",
              "  </style>\n",
              "\n",
              "      <script>\n",
              "        const buttonEl =\n",
              "          document.querySelector('#df-6e6b4938-596d-4601-b06c-6e96c81f3a25 button.colab-df-convert');\n",
              "        buttonEl.style.display =\n",
              "          google.colab.kernel.accessAllowed ? 'block' : 'none';\n",
              "\n",
              "        async function convertToInteractive(key) {\n",
              "          const element = document.querySelector('#df-6e6b4938-596d-4601-b06c-6e96c81f3a25');\n",
              "          const dataTable =\n",
              "            await google.colab.kernel.invokeFunction('convertToInteractive',\n",
              "                                                     [key], {});\n",
              "          if (!dataTable) return;\n",
              "\n",
              "          const docLinkHtml = 'Like what you see? Visit the ' +\n",
              "            '<a target=\"_blank\" href=https://colab.research.google.com/notebooks/data_table.ipynb>data table notebook</a>'\n",
              "            + ' to learn more about interactive tables.';\n",
              "          element.innerHTML = '';\n",
              "          dataTable['output_type'] = 'display_data';\n",
              "          await google.colab.output.renderOutput(dataTable, element);\n",
              "          const docLink = document.createElement('div');\n",
              "          docLink.innerHTML = docLinkHtml;\n",
              "          element.appendChild(docLink);\n",
              "        }\n",
              "      </script>\n",
              "    </div>\n",
              "  </div>\n",
              "  "
            ]
          },
          "metadata": {},
          "execution_count": 3
        }
      ]
    },
    {
      "cell_type": "code",
      "source": [
        "df.info()"
      ],
      "metadata": {
        "id": "KtU-aKWx65V8",
        "colab": {
          "base_uri": "https://localhost:8080/"
        },
        "outputId": "0697c8d8-4d93-41eb-e52d-e9d5ba71e072"
      },
      "execution_count": null,
      "outputs": [
        {
          "output_type": "stream",
          "name": "stdout",
          "text": [
            "<class 'pandas.core.frame.DataFrame'>\n",
            "RangeIndex: 119390 entries, 0 to 119389\n",
            "Data columns (total 32 columns):\n",
            " #   Column                          Non-Null Count   Dtype  \n",
            "---  ------                          --------------   -----  \n",
            " 0   hotel                           119390 non-null  object \n",
            " 1   is_canceled                     119390 non-null  int64  \n",
            " 2   lead_time                       119390 non-null  int64  \n",
            " 3   arrival_date_year               119390 non-null  int64  \n",
            " 4   arrival_date_month              119390 non-null  object \n",
            " 5   arrival_date_week_number        119390 non-null  int64  \n",
            " 6   arrival_date_day_of_month       119390 non-null  int64  \n",
            " 7   stays_in_weekend_nights         119390 non-null  int64  \n",
            " 8   stays_in_week_nights            119390 non-null  int64  \n",
            " 9   adults                          119390 non-null  int64  \n",
            " 10  children                        119386 non-null  float64\n",
            " 11  babies                          119390 non-null  int64  \n",
            " 12  meal                            119390 non-null  object \n",
            " 13  country                         118902 non-null  object \n",
            " 14  market_segment                  119390 non-null  object \n",
            " 15  distribution_channel            119390 non-null  object \n",
            " 16  is_repeated_guest               119390 non-null  int64  \n",
            " 17  previous_cancellations          119390 non-null  int64  \n",
            " 18  previous_bookings_not_canceled  119390 non-null  int64  \n",
            " 19  reserved_room_type              119390 non-null  object \n",
            " 20  assigned_room_type              119390 non-null  object \n",
            " 21  booking_changes                 119390 non-null  int64  \n",
            " 22  deposit_type                    119390 non-null  object \n",
            " 23  agent                           103050 non-null  float64\n",
            " 24  company                         6797 non-null    float64\n",
            " 25  days_in_waiting_list            119390 non-null  int64  \n",
            " 26  customer_type                   119390 non-null  object \n",
            " 27  adr                             119390 non-null  float64\n",
            " 28  required_car_parking_spaces     119390 non-null  int64  \n",
            " 29  total_of_special_requests       119390 non-null  int64  \n",
            " 30  reservation_status              119390 non-null  object \n",
            " 31  reservation_status_date         119390 non-null  object \n",
            "dtypes: float64(4), int64(16), object(12)\n",
            "memory usage: 29.1+ MB\n"
          ]
        }
      ]
    },
    {
      "cell_type": "code",
      "source": [
        "df.shape"
      ],
      "metadata": {
        "id": "rujg53_y0_zU",
        "colab": {
          "base_uri": "https://localhost:8080/"
        },
        "outputId": "5e92a3d4-5c60-4eda-f5e9-37d459301751"
      },
      "execution_count": null,
      "outputs": [
        {
          "output_type": "execute_result",
          "data": {
            "text/plain": [
              "(119390, 32)"
            ]
          },
          "metadata": {},
          "execution_count": 5
        }
      ]
    },
    {
      "cell_type": "code",
      "source": [
        "df.describe()"
      ],
      "metadata": {
        "colab": {
          "base_uri": "https://localhost:8080/",
          "height": 364
        },
        "id": "Q9csa8-S2pLW",
        "outputId": "a834cd6b-d675-4b73-c6ab-1d2ace48bda2"
      },
      "execution_count": null,
      "outputs": [
        {
          "output_type": "execute_result",
          "data": {
            "text/plain": [
              "         is_canceled      lead_time  arrival_date_year  \\\n",
              "count  119390.000000  119390.000000      119390.000000   \n",
              "mean        0.370416     104.011416        2016.156554   \n",
              "std         0.482918     106.863097           0.707476   \n",
              "min         0.000000       0.000000        2015.000000   \n",
              "25%         0.000000      18.000000        2016.000000   \n",
              "50%         0.000000      69.000000        2016.000000   \n",
              "75%         1.000000     160.000000        2017.000000   \n",
              "max         1.000000     737.000000        2017.000000   \n",
              "\n",
              "       arrival_date_week_number  arrival_date_day_of_month  \\\n",
              "count             119390.000000              119390.000000   \n",
              "mean                  27.165173                  15.798241   \n",
              "std                   13.605138                   8.780829   \n",
              "min                    1.000000                   1.000000   \n",
              "25%                   16.000000                   8.000000   \n",
              "50%                   28.000000                  16.000000   \n",
              "75%                   38.000000                  23.000000   \n",
              "max                   53.000000                  31.000000   \n",
              "\n",
              "       stays_in_weekend_nights  stays_in_week_nights         adults  \\\n",
              "count            119390.000000         119390.000000  119390.000000   \n",
              "mean                  0.927599              2.500302       1.856403   \n",
              "std                   0.998613              1.908286       0.579261   \n",
              "min                   0.000000              0.000000       0.000000   \n",
              "25%                   0.000000              1.000000       2.000000   \n",
              "50%                   1.000000              2.000000       2.000000   \n",
              "75%                   2.000000              3.000000       2.000000   \n",
              "max                  19.000000             50.000000      55.000000   \n",
              "\n",
              "            children         babies  is_repeated_guest  \\\n",
              "count  119386.000000  119390.000000      119390.000000   \n",
              "mean        0.103890       0.007949           0.031912   \n",
              "std         0.398561       0.097436           0.175767   \n",
              "min         0.000000       0.000000           0.000000   \n",
              "25%         0.000000       0.000000           0.000000   \n",
              "50%         0.000000       0.000000           0.000000   \n",
              "75%         0.000000       0.000000           0.000000   \n",
              "max        10.000000      10.000000           1.000000   \n",
              "\n",
              "       previous_cancellations  previous_bookings_not_canceled  \\\n",
              "count           119390.000000                   119390.000000   \n",
              "mean                 0.087118                        0.137097   \n",
              "std                  0.844336                        1.497437   \n",
              "min                  0.000000                        0.000000   \n",
              "25%                  0.000000                        0.000000   \n",
              "50%                  0.000000                        0.000000   \n",
              "75%                  0.000000                        0.000000   \n",
              "max                 26.000000                       72.000000   \n",
              "\n",
              "       booking_changes          agent      company  days_in_waiting_list  \\\n",
              "count    119390.000000  103050.000000  6797.000000         119390.000000   \n",
              "mean          0.221124      86.693382   189.266735              2.321149   \n",
              "std           0.652306     110.774548   131.655015             17.594721   \n",
              "min           0.000000       1.000000     6.000000              0.000000   \n",
              "25%           0.000000       9.000000    62.000000              0.000000   \n",
              "50%           0.000000      14.000000   179.000000              0.000000   \n",
              "75%           0.000000     229.000000   270.000000              0.000000   \n",
              "max          21.000000     535.000000   543.000000            391.000000   \n",
              "\n",
              "                 adr  required_car_parking_spaces  total_of_special_requests  \n",
              "count  119390.000000                119390.000000              119390.000000  \n",
              "mean      101.831122                     0.062518                   0.571363  \n",
              "std        50.535790                     0.245291                   0.792798  \n",
              "min        -6.380000                     0.000000                   0.000000  \n",
              "25%        69.290000                     0.000000                   0.000000  \n",
              "50%        94.575000                     0.000000                   0.000000  \n",
              "75%       126.000000                     0.000000                   1.000000  \n",
              "max      5400.000000                     8.000000                   5.000000  "
            ],
            "text/html": [
              "\n",
              "  <div id=\"df-350a97e0-1017-4aa8-bfca-0995c389ddec\">\n",
              "    <div class=\"colab-df-container\">\n",
              "      <div>\n",
              "<style scoped>\n",
              "    .dataframe tbody tr th:only-of-type {\n",
              "        vertical-align: middle;\n",
              "    }\n",
              "\n",
              "    .dataframe tbody tr th {\n",
              "        vertical-align: top;\n",
              "    }\n",
              "\n",
              "    .dataframe thead th {\n",
              "        text-align: right;\n",
              "    }\n",
              "</style>\n",
              "<table border=\"1\" class=\"dataframe\">\n",
              "  <thead>\n",
              "    <tr style=\"text-align: right;\">\n",
              "      <th></th>\n",
              "      <th>is_canceled</th>\n",
              "      <th>lead_time</th>\n",
              "      <th>arrival_date_year</th>\n",
              "      <th>arrival_date_week_number</th>\n",
              "      <th>arrival_date_day_of_month</th>\n",
              "      <th>stays_in_weekend_nights</th>\n",
              "      <th>stays_in_week_nights</th>\n",
              "      <th>adults</th>\n",
              "      <th>children</th>\n",
              "      <th>babies</th>\n",
              "      <th>is_repeated_guest</th>\n",
              "      <th>previous_cancellations</th>\n",
              "      <th>previous_bookings_not_canceled</th>\n",
              "      <th>booking_changes</th>\n",
              "      <th>agent</th>\n",
              "      <th>company</th>\n",
              "      <th>days_in_waiting_list</th>\n",
              "      <th>adr</th>\n",
              "      <th>required_car_parking_spaces</th>\n",
              "      <th>total_of_special_requests</th>\n",
              "    </tr>\n",
              "  </thead>\n",
              "  <tbody>\n",
              "    <tr>\n",
              "      <th>count</th>\n",
              "      <td>119390.000000</td>\n",
              "      <td>119390.000000</td>\n",
              "      <td>119390.000000</td>\n",
              "      <td>119390.000000</td>\n",
              "      <td>119390.000000</td>\n",
              "      <td>119390.000000</td>\n",
              "      <td>119390.000000</td>\n",
              "      <td>119390.000000</td>\n",
              "      <td>119386.000000</td>\n",
              "      <td>119390.000000</td>\n",
              "      <td>119390.000000</td>\n",
              "      <td>119390.000000</td>\n",
              "      <td>119390.000000</td>\n",
              "      <td>119390.000000</td>\n",
              "      <td>103050.000000</td>\n",
              "      <td>6797.000000</td>\n",
              "      <td>119390.000000</td>\n",
              "      <td>119390.000000</td>\n",
              "      <td>119390.000000</td>\n",
              "      <td>119390.000000</td>\n",
              "    </tr>\n",
              "    <tr>\n",
              "      <th>mean</th>\n",
              "      <td>0.370416</td>\n",
              "      <td>104.011416</td>\n",
              "      <td>2016.156554</td>\n",
              "      <td>27.165173</td>\n",
              "      <td>15.798241</td>\n",
              "      <td>0.927599</td>\n",
              "      <td>2.500302</td>\n",
              "      <td>1.856403</td>\n",
              "      <td>0.103890</td>\n",
              "      <td>0.007949</td>\n",
              "      <td>0.031912</td>\n",
              "      <td>0.087118</td>\n",
              "      <td>0.137097</td>\n",
              "      <td>0.221124</td>\n",
              "      <td>86.693382</td>\n",
              "      <td>189.266735</td>\n",
              "      <td>2.321149</td>\n",
              "      <td>101.831122</td>\n",
              "      <td>0.062518</td>\n",
              "      <td>0.571363</td>\n",
              "    </tr>\n",
              "    <tr>\n",
              "      <th>std</th>\n",
              "      <td>0.482918</td>\n",
              "      <td>106.863097</td>\n",
              "      <td>0.707476</td>\n",
              "      <td>13.605138</td>\n",
              "      <td>8.780829</td>\n",
              "      <td>0.998613</td>\n",
              "      <td>1.908286</td>\n",
              "      <td>0.579261</td>\n",
              "      <td>0.398561</td>\n",
              "      <td>0.097436</td>\n",
              "      <td>0.175767</td>\n",
              "      <td>0.844336</td>\n",
              "      <td>1.497437</td>\n",
              "      <td>0.652306</td>\n",
              "      <td>110.774548</td>\n",
              "      <td>131.655015</td>\n",
              "      <td>17.594721</td>\n",
              "      <td>50.535790</td>\n",
              "      <td>0.245291</td>\n",
              "      <td>0.792798</td>\n",
              "    </tr>\n",
              "    <tr>\n",
              "      <th>min</th>\n",
              "      <td>0.000000</td>\n",
              "      <td>0.000000</td>\n",
              "      <td>2015.000000</td>\n",
              "      <td>1.000000</td>\n",
              "      <td>1.000000</td>\n",
              "      <td>0.000000</td>\n",
              "      <td>0.000000</td>\n",
              "      <td>0.000000</td>\n",
              "      <td>0.000000</td>\n",
              "      <td>0.000000</td>\n",
              "      <td>0.000000</td>\n",
              "      <td>0.000000</td>\n",
              "      <td>0.000000</td>\n",
              "      <td>0.000000</td>\n",
              "      <td>1.000000</td>\n",
              "      <td>6.000000</td>\n",
              "      <td>0.000000</td>\n",
              "      <td>-6.380000</td>\n",
              "      <td>0.000000</td>\n",
              "      <td>0.000000</td>\n",
              "    </tr>\n",
              "    <tr>\n",
              "      <th>25%</th>\n",
              "      <td>0.000000</td>\n",
              "      <td>18.000000</td>\n",
              "      <td>2016.000000</td>\n",
              "      <td>16.000000</td>\n",
              "      <td>8.000000</td>\n",
              "      <td>0.000000</td>\n",
              "      <td>1.000000</td>\n",
              "      <td>2.000000</td>\n",
              "      <td>0.000000</td>\n",
              "      <td>0.000000</td>\n",
              "      <td>0.000000</td>\n",
              "      <td>0.000000</td>\n",
              "      <td>0.000000</td>\n",
              "      <td>0.000000</td>\n",
              "      <td>9.000000</td>\n",
              "      <td>62.000000</td>\n",
              "      <td>0.000000</td>\n",
              "      <td>69.290000</td>\n",
              "      <td>0.000000</td>\n",
              "      <td>0.000000</td>\n",
              "    </tr>\n",
              "    <tr>\n",
              "      <th>50%</th>\n",
              "      <td>0.000000</td>\n",
              "      <td>69.000000</td>\n",
              "      <td>2016.000000</td>\n",
              "      <td>28.000000</td>\n",
              "      <td>16.000000</td>\n",
              "      <td>1.000000</td>\n",
              "      <td>2.000000</td>\n",
              "      <td>2.000000</td>\n",
              "      <td>0.000000</td>\n",
              "      <td>0.000000</td>\n",
              "      <td>0.000000</td>\n",
              "      <td>0.000000</td>\n",
              "      <td>0.000000</td>\n",
              "      <td>0.000000</td>\n",
              "      <td>14.000000</td>\n",
              "      <td>179.000000</td>\n",
              "      <td>0.000000</td>\n",
              "      <td>94.575000</td>\n",
              "      <td>0.000000</td>\n",
              "      <td>0.000000</td>\n",
              "    </tr>\n",
              "    <tr>\n",
              "      <th>75%</th>\n",
              "      <td>1.000000</td>\n",
              "      <td>160.000000</td>\n",
              "      <td>2017.000000</td>\n",
              "      <td>38.000000</td>\n",
              "      <td>23.000000</td>\n",
              "      <td>2.000000</td>\n",
              "      <td>3.000000</td>\n",
              "      <td>2.000000</td>\n",
              "      <td>0.000000</td>\n",
              "      <td>0.000000</td>\n",
              "      <td>0.000000</td>\n",
              "      <td>0.000000</td>\n",
              "      <td>0.000000</td>\n",
              "      <td>0.000000</td>\n",
              "      <td>229.000000</td>\n",
              "      <td>270.000000</td>\n",
              "      <td>0.000000</td>\n",
              "      <td>126.000000</td>\n",
              "      <td>0.000000</td>\n",
              "      <td>1.000000</td>\n",
              "    </tr>\n",
              "    <tr>\n",
              "      <th>max</th>\n",
              "      <td>1.000000</td>\n",
              "      <td>737.000000</td>\n",
              "      <td>2017.000000</td>\n",
              "      <td>53.000000</td>\n",
              "      <td>31.000000</td>\n",
              "      <td>19.000000</td>\n",
              "      <td>50.000000</td>\n",
              "      <td>55.000000</td>\n",
              "      <td>10.000000</td>\n",
              "      <td>10.000000</td>\n",
              "      <td>1.000000</td>\n",
              "      <td>26.000000</td>\n",
              "      <td>72.000000</td>\n",
              "      <td>21.000000</td>\n",
              "      <td>535.000000</td>\n",
              "      <td>543.000000</td>\n",
              "      <td>391.000000</td>\n",
              "      <td>5400.000000</td>\n",
              "      <td>8.000000</td>\n",
              "      <td>5.000000</td>\n",
              "    </tr>\n",
              "  </tbody>\n",
              "</table>\n",
              "</div>\n",
              "      <button class=\"colab-df-convert\" onclick=\"convertToInteractive('df-350a97e0-1017-4aa8-bfca-0995c389ddec')\"\n",
              "              title=\"Convert this dataframe to an interactive table.\"\n",
              "              style=\"display:none;\">\n",
              "        \n",
              "  <svg xmlns=\"http://www.w3.org/2000/svg\" height=\"24px\"viewBox=\"0 0 24 24\"\n",
              "       width=\"24px\">\n",
              "    <path d=\"M0 0h24v24H0V0z\" fill=\"none\"/>\n",
              "    <path d=\"M18.56 5.44l.94 2.06.94-2.06 2.06-.94-2.06-.94-.94-2.06-.94 2.06-2.06.94zm-11 1L8.5 8.5l.94-2.06 2.06-.94-2.06-.94L8.5 2.5l-.94 2.06-2.06.94zm10 10l.94 2.06.94-2.06 2.06-.94-2.06-.94-.94-2.06-.94 2.06-2.06.94z\"/><path d=\"M17.41 7.96l-1.37-1.37c-.4-.4-.92-.59-1.43-.59-.52 0-1.04.2-1.43.59L10.3 9.45l-7.72 7.72c-.78.78-.78 2.05 0 2.83L4 21.41c.39.39.9.59 1.41.59.51 0 1.02-.2 1.41-.59l7.78-7.78 2.81-2.81c.8-.78.8-2.07 0-2.86zM5.41 20L4 18.59l7.72-7.72 1.47 1.35L5.41 20z\"/>\n",
              "  </svg>\n",
              "      </button>\n",
              "      \n",
              "  <style>\n",
              "    .colab-df-container {\n",
              "      display:flex;\n",
              "      flex-wrap:wrap;\n",
              "      gap: 12px;\n",
              "    }\n",
              "\n",
              "    .colab-df-convert {\n",
              "      background-color: #E8F0FE;\n",
              "      border: none;\n",
              "      border-radius: 50%;\n",
              "      cursor: pointer;\n",
              "      display: none;\n",
              "      fill: #1967D2;\n",
              "      height: 32px;\n",
              "      padding: 0 0 0 0;\n",
              "      width: 32px;\n",
              "    }\n",
              "\n",
              "    .colab-df-convert:hover {\n",
              "      background-color: #E2EBFA;\n",
              "      box-shadow: 0px 1px 2px rgba(60, 64, 67, 0.3), 0px 1px 3px 1px rgba(60, 64, 67, 0.15);\n",
              "      fill: #174EA6;\n",
              "    }\n",
              "\n",
              "    [theme=dark] .colab-df-convert {\n",
              "      background-color: #3B4455;\n",
              "      fill: #D2E3FC;\n",
              "    }\n",
              "\n",
              "    [theme=dark] .colab-df-convert:hover {\n",
              "      background-color: #434B5C;\n",
              "      box-shadow: 0px 1px 3px 1px rgba(0, 0, 0, 0.15);\n",
              "      filter: drop-shadow(0px 1px 2px rgba(0, 0, 0, 0.3));\n",
              "      fill: #FFFFFF;\n",
              "    }\n",
              "  </style>\n",
              "\n",
              "      <script>\n",
              "        const buttonEl =\n",
              "          document.querySelector('#df-350a97e0-1017-4aa8-bfca-0995c389ddec button.colab-df-convert');\n",
              "        buttonEl.style.display =\n",
              "          google.colab.kernel.accessAllowed ? 'block' : 'none';\n",
              "\n",
              "        async function convertToInteractive(key) {\n",
              "          const element = document.querySelector('#df-350a97e0-1017-4aa8-bfca-0995c389ddec');\n",
              "          const dataTable =\n",
              "            await google.colab.kernel.invokeFunction('convertToInteractive',\n",
              "                                                     [key], {});\n",
              "          if (!dataTable) return;\n",
              "\n",
              "          const docLinkHtml = 'Like what you see? Visit the ' +\n",
              "            '<a target=\"_blank\" href=https://colab.research.google.com/notebooks/data_table.ipynb>data table notebook</a>'\n",
              "            + ' to learn more about interactive tables.';\n",
              "          element.innerHTML = '';\n",
              "          dataTable['output_type'] = 'display_data';\n",
              "          await google.colab.output.renderOutput(dataTable, element);\n",
              "          const docLink = document.createElement('div');\n",
              "          docLink.innerHTML = docLinkHtml;\n",
              "          element.appendChild(docLink);\n",
              "        }\n",
              "      </script>\n",
              "    </div>\n",
              "  </div>\n",
              "  "
            ]
          },
          "metadata": {},
          "execution_count": 6
        }
      ]
    },
    {
      "cell_type": "markdown",
      "metadata": {
        "id": "nxpMQFe-bHYc"
      },
      "source": [
        "## **Checking the missing values.**"
      ]
    },
    {
      "cell_type": "code",
      "execution_count": null,
      "metadata": {
        "id": "TLxBAASUZnwJ",
        "colab": {
          "base_uri": "https://localhost:8080/"
        },
        "outputId": "2e783e29-e997-45eb-c0d8-53963dfe7ad3"
      },
      "outputs": [
        {
          "output_type": "execute_result",
          "data": {
            "text/plain": [
              "hotel                                  0\n",
              "is_canceled                            0\n",
              "lead_time                              0\n",
              "arrival_date_year                      0\n",
              "arrival_date_month                     0\n",
              "arrival_date_week_number               0\n",
              "arrival_date_day_of_month              0\n",
              "stays_in_weekend_nights                0\n",
              "stays_in_week_nights                   0\n",
              "adults                                 0\n",
              "children                               4\n",
              "babies                                 0\n",
              "meal                                   0\n",
              "country                              488\n",
              "market_segment                         0\n",
              "distribution_channel                   0\n",
              "is_repeated_guest                      0\n",
              "previous_cancellations                 0\n",
              "previous_bookings_not_canceled         0\n",
              "reserved_room_type                     0\n",
              "assigned_room_type                     0\n",
              "booking_changes                        0\n",
              "deposit_type                           0\n",
              "agent                              16340\n",
              "company                           112593\n",
              "days_in_waiting_list                   0\n",
              "customer_type                          0\n",
              "adr                                    0\n",
              "required_car_parking_spaces            0\n",
              "total_of_special_requests              0\n",
              "reservation_status                     0\n",
              "reservation_status_date                0\n",
              "dtype: int64"
            ]
          },
          "metadata": {},
          "execution_count": 7
        }
      ],
      "source": [
        "df.isnull().sum()"
      ]
    },
    {
      "cell_type": "markdown",
      "metadata": {
        "id": "fpTAUCp3bOjU"
      },
      "source": [
        "## **Inserting some default values in missing values**\n",
        "\n",
        "Since, company and agent columns have company number and agent numbers as data. There may be some cases when customer didn't book hotel via any agent or via any company. So in that case values can be null under these columns. We will replace null values by 0 in these columns and the countries in which the name of the country is not present we will replace the null values by 'x'."
      ]
    },
    {
      "cell_type": "code",
      "source": [
        "df['company'].fillna(0, inplace = True)\n",
        "df['agent'].fillna(0, inplace = True)\n",
        "df['country'].fillna('x', inplace = True)"
      ],
      "metadata": {
        "id": "hrRFHfZR3oJw"
      },
      "execution_count": null,
      "outputs": []
    },
    {
      "cell_type": "markdown",
      "metadata": {
        "id": "FkC6P3NCeKAB"
      },
      "source": [
        "Next column with missing values is children. This column 'children' has 0 as value which means 0 children were present in group of customers who made that transaction.  "
      ]
    },
    {
      "cell_type": "code",
      "source": [
        "df['children'].unique()"
      ],
      "metadata": {
        "colab": {
          "base_uri": "https://localhost:8080/"
        },
        "id": "t_aUff3xAYIq",
        "outputId": "0807017b-7886-455a-dd37-5cb9ae613032"
      },
      "execution_count": null,
      "outputs": [
        {
          "output_type": "execute_result",
          "data": {
            "text/plain": [
              "array([ 0.,  1.,  2., 10.,  3., nan])"
            ]
          },
          "metadata": {},
          "execution_count": 9
        }
      ]
    },
    {
      "cell_type": "markdown",
      "metadata": {
        "id": "gUkvchInegKi"
      },
      "source": [
        "So, 'nan' values are the missing values due to error of recording data Or may be not mentioned by the guests. So we are replacing the NaN values by '0'."
      ]
    },
    {
      "cell_type": "code",
      "source": [
        "df['children'].fillna(0, inplace = True)"
      ],
      "metadata": {
        "id": "MIKc0waPAsch"
      },
      "execution_count": null,
      "outputs": []
    },
    {
      "cell_type": "code",
      "source": [
        "df.isnull().sum()"
      ],
      "metadata": {
        "colab": {
          "base_uri": "https://localhost:8080/"
        },
        "id": "0ixglGc9A9TF",
        "outputId": "65285d70-a9b0-44e3-e168-6f43767929b3"
      },
      "execution_count": null,
      "outputs": [
        {
          "output_type": "execute_result",
          "data": {
            "text/plain": [
              "hotel                             0\n",
              "is_canceled                       0\n",
              "lead_time                         0\n",
              "arrival_date_year                 0\n",
              "arrival_date_month                0\n",
              "arrival_date_week_number          0\n",
              "arrival_date_day_of_month         0\n",
              "stays_in_weekend_nights           0\n",
              "stays_in_week_nights              0\n",
              "adults                            0\n",
              "children                          0\n",
              "babies                            0\n",
              "meal                              0\n",
              "country                           0\n",
              "market_segment                    0\n",
              "distribution_channel              0\n",
              "is_repeated_guest                 0\n",
              "previous_cancellations            0\n",
              "previous_bookings_not_canceled    0\n",
              "reserved_room_type                0\n",
              "assigned_room_type                0\n",
              "booking_changes                   0\n",
              "deposit_type                      0\n",
              "agent                             0\n",
              "company                           0\n",
              "days_in_waiting_list              0\n",
              "customer_type                     0\n",
              "adr                               0\n",
              "required_car_parking_spaces       0\n",
              "total_of_special_requests         0\n",
              "reservation_status                0\n",
              "reservation_status_date           0\n",
              "dtype: int64"
            ]
          },
          "metadata": {},
          "execution_count": 11
        }
      ]
    },
    {
      "cell_type": "markdown",
      "source": [
        "As we can see, we don't have missing values."
      ],
      "metadata": {
        "id": "wnN9Rfz0BP_o"
      }
    },
    {
      "cell_type": "markdown",
      "source": [
        "## **Adding Columns:**"
      ],
      "metadata": {
        "id": "ewAg-mznRUzw"
      }
    },
    {
      "cell_type": "code",
      "source": [
        "df['total_persons'] = df['adults'] + df['children'] + df['babies']"
      ],
      "metadata": {
        "id": "YkNJp5xDBBC4"
      },
      "execution_count": null,
      "outputs": []
    },
    {
      "cell_type": "code",
      "source": [
        "df.columns"
      ],
      "metadata": {
        "colab": {
          "base_uri": "https://localhost:8080/"
        },
        "id": "jkkmX6Z_Bv1n",
        "outputId": "770cc086-5119-43a0-cb92-88eb2598f846"
      },
      "execution_count": null,
      "outputs": [
        {
          "output_type": "execute_result",
          "data": {
            "text/plain": [
              "Index(['hotel', 'is_canceled', 'lead_time', 'arrival_date_year',\n",
              "       'arrival_date_month', 'arrival_date_week_number',\n",
              "       'arrival_date_day_of_month', 'stays_in_weekend_nights',\n",
              "       'stays_in_week_nights', 'adults', 'children', 'babies', 'meal',\n",
              "       'country', 'market_segment', 'distribution_channel',\n",
              "       'is_repeated_guest', 'previous_cancellations',\n",
              "       'previous_bookings_not_canceled', 'reserved_room_type',\n",
              "       'assigned_room_type', 'booking_changes', 'deposit_type', 'agent',\n",
              "       'company', 'days_in_waiting_list', 'customer_type', 'adr',\n",
              "       'required_car_parking_spaces', 'total_of_special_requests',\n",
              "       'reservation_status', 'reservation_status_date', 'total_persons'],\n",
              "      dtype='object')"
            ]
          },
          "metadata": {},
          "execution_count": 13
        }
      ]
    },
    {
      "cell_type": "markdown",
      "source": [
        "## **Dropping unwanted columns:**"
      ],
      "metadata": {
        "id": "Cn7pKN_rCK6N"
      }
    },
    {
      "cell_type": "code",
      "execution_count": null,
      "metadata": {
        "id": "kSyHRWYqgWDE"
      },
      "outputs": [],
      "source": [
        "new_df = df.drop(['market_segment', 'stays_in_weekend_nights', 'stays_in_week_nights', 'arrival_date_week_number', 'adults', 'babies', 'children'], axis = 1, inplace=True)\n",
        "new_df"
      ]
    },
    {
      "cell_type": "code",
      "source": [
        "klib.corr_plot(df)"
      ],
      "metadata": {
        "colab": {
          "base_uri": "https://localhost:8080/"
        },
        "id": "EUIAg-AU8UCP",
        "outputId": "8dd799a0-b9c3-450b-c1ad-3d845cab499b"
      },
      "execution_count": null,
      "outputs": [
        {
          "output_type": "execute_result",
          "data": {
            "text/plain": [
              "<matplotlib.axes._subplots.AxesSubplot at 0x7f62ca491850>"
            ]
          },
          "metadata": {},
          "execution_count": 15
        },
        {
          "output_type": "display_data",
          "data": {
            "text/plain": [
              "<Figure size 864x720 with 2 Axes>"
            ],
            "image/png": "[encoded data removed]"
          },
          "metadata": {
            "needs_background": "light"
          }
        }
      ]
    },
    {
      "cell_type": "markdown",
      "source": [
        "# **From the above map we can notice few things:**\n",
        "\n",
        "\n",
        "1.Columns 'adr' and 'total_person' are corelated which means that more the number of people comming to hotel means more revenue.\n",
        "\n",
        "2.There is a corelation between 'is_repeated_guests' and 'previous_booking_not_canceled' which means there are few repeated guests who have not cancelled their previous bookings.\n",
        "\n",
        "3.There is also a slight coreraltion between columns 'is_canceled' and 'lead_time' which means as the lead time increases the chances of room cancellation also increases.\n",
        "\n",
        "\n"
      ],
      "metadata": {
        "id": "UKwT9Pd0DjJI"
      }
    },
    {
      "cell_type": "markdown",
      "metadata": {
        "id": "rkdjDAgQialu"
      },
      "source": [
        "## **Question 1) From which country maximum number of customers are booking hotels?**"
      ]
    },
    {
      "cell_type": "code",
      "source": [
        "country = df['country'].value_counts().head(10)"
      ],
      "metadata": {
        "id": "G_iXCucs8vj7"
      },
      "execution_count": null,
      "outputs": []
    },
    {
      "cell_type": "code",
      "source": [
        "pd.DataFrame(country)"
      ],
      "metadata": {
        "colab": {
          "base_uri": "https://localhost:8080/"
        },
        "id": "ofOkJUUm9KTW",
        "outputId": "60525602-a53f-4405-cb3e-49a3a9a2b984"
      },
      "execution_count": null,
      "outputs": [
        {
          "output_type": "execute_result",
          "data": {
            "text/plain": [
              "     country\n",
              "PRT    48590\n",
              "GBR    12129\n",
              "FRA    10415\n",
              "ESP     8568\n",
              "DEU     7287\n",
              "ITA     3766\n",
              "IRL     3375\n",
              "BEL     2342\n",
              "BRA     2224\n",
              "NLD     2104"
            ],
            "text/html": [
              "\n",
              "  <div id=\"df-1e35135e-6770-40dd-8239-c558f5b41f4e\">\n",
              "    <div class=\"colab-df-container\">\n",
              "      <div>\n",
              "<style scoped>\n",
              "    .dataframe tbody tr th:only-of-type {\n",
              "        vertical-align: middle;\n",
              "    }\n",
              "\n",
              "    .dataframe tbody tr th {\n",
              "        vertical-align: top;\n",
              "    }\n",
              "\n",
              "    .dataframe thead th {\n",
              "        text-align: right;\n",
              "    }\n",
              "</style>\n",
              "<table border=\"1\" class=\"dataframe\">\n",
              "  <thead>\n",
              "    <tr style=\"text-align: right;\">\n",
              "      <th></th>\n",
              "      <th>country</th>\n",
              "    </tr>\n",
              "  </thead>\n",
              "  <tbody>\n",
              "    <tr>\n",
              "      <th>PRT</th>\n",
              "      <td>48590</td>\n",
              "    </tr>\n",
              "    <tr>\n",
              "      <th>GBR</th>\n",
              "      <td>12129</td>\n",
              "    </tr>\n",
              "    <tr>\n",
              "      <th>FRA</th>\n",
              "      <td>10415</td>\n",
              "    </tr>\n",
              "    <tr>\n",
              "      <th>ESP</th>\n",
              "      <td>8568</td>\n",
              "    </tr>\n",
              "    <tr>\n",
              "      <th>DEU</th>\n",
              "      <td>7287</td>\n",
              "    </tr>\n",
              "    <tr>\n",
              "      <th>ITA</th>\n",
              "      <td>3766</td>\n",
              "    </tr>\n",
              "    <tr>\n",
              "      <th>IRL</th>\n",
              "      <td>3375</td>\n",
              "    </tr>\n",
              "    <tr>\n",
              "      <th>BEL</th>\n",
              "      <td>2342</td>\n",
              "    </tr>\n",
              "    <tr>\n",
              "      <th>BRA</th>\n",
              "      <td>2224</td>\n",
              "    </tr>\n",
              "    <tr>\n",
              "      <th>NLD</th>\n",
              "      <td>2104</td>\n",
              "    </tr>\n",
              "  </tbody>\n",
              "</table>\n",
              "</div>\n",
              "      <button class=\"colab-df-convert\" onclick=\"convertToInteractive('df-1e35135e-6770-40dd-8239-c558f5b41f4e')\"\n",
              "              title=\"Convert this dataframe to an interactive table.\"\n",
              "              style=\"display:none;\">\n",
              "        \n",
              "  <svg xmlns=\"http://www.w3.org/2000/svg\" height=\"24px\"viewBox=\"0 0 24 24\"\n",
              "       width=\"24px\">\n",
              "    <path d=\"M0 0h24v24H0V0z\" fill=\"none\"/>\n",
              "    <path d=\"M18.56 5.44l.94 2.06.94-2.06 2.06-.94-2.06-.94-.94-2.06-.94 2.06-2.06.94zm-11 1L8.5 8.5l.94-2.06 2.06-.94-2.06-.94L8.5 2.5l-.94 2.06-2.06.94zm10 10l.94 2.06.94-2.06 2.06-.94-2.06-.94-.94-2.06-.94 2.06-2.06.94z\"/><path d=\"M17.41 7.96l-1.37-1.37c-.4-.4-.92-.59-1.43-.59-.52 0-1.04.2-1.43.59L10.3 9.45l-7.72 7.72c-.78.78-.78 2.05 0 2.83L4 21.41c.39.39.9.59 1.41.59.51 0 1.02-.2 1.41-.59l7.78-7.78 2.81-2.81c.8-.78.8-2.07 0-2.86zM5.41 20L4 18.59l7.72-7.72 1.47 1.35L5.41 20z\"/>\n",
              "  </svg>\n",
              "      </button>\n",
              "      \n",
              "  <style>\n",
              "    .colab-df-container {\n",
              "      display:flex;\n",
              "      flex-wrap:wrap;\n",
              "      gap: 12px;\n",
              "    }\n",
              "\n",
              "    .colab-df-convert {\n",
              "      background-color: #E8F0FE;\n",
              "      border: none;\n",
              "      border-radius: 50%;\n",
              "      cursor: pointer;\n",
              "      display: none;\n",
              "      fill: #1967D2;\n",
              "      height: 32px;\n",
              "      padding: 0 0 0 0;\n",
              "      width: 32px;\n",
              "    }\n",
              "\n",
              "    .colab-df-convert:hover {\n",
              "      background-color: #E2EBFA;\n",
              "      box-shadow: 0px 1px 2px rgba(60, 64, 67, 0.3), 0px 1px 3px 1px rgba(60, 64, 67, 0.15);\n",
              "      fill: #174EA6;\n",
              "    }\n",
              "\n",
              "    [theme=dark] .colab-df-convert {\n",
              "      background-color: #3B4455;\n",
              "      fill: #D2E3FC;\n",
              "    }\n",
              "\n",
              "    [theme=dark] .colab-df-convert:hover {\n",
              "      background-color: #434B5C;\n",
              "      box-shadow: 0px 1px 3px 1px rgba(0, 0, 0, 0.15);\n",
              "      filter: drop-shadow(0px 1px 2px rgba(0, 0, 0, 0.3));\n",
              "      fill: #FFFFFF;\n",
              "    }\n",
              "  </style>\n",
              "\n",
              "      <script>\n",
              "        const buttonEl =\n",
              "          document.querySelector('#df-1e35135e-6770-40dd-8239-c558f5b41f4e button.colab-df-convert');\n",
              "        buttonEl.style.display =\n",
              "          google.colab.kernel.accessAllowed ? 'block' : 'none';\n",
              "\n",
              "        async function convertToInteractive(key) {\n",
              "          const element = document.querySelector('#df-1e35135e-6770-40dd-8239-c558f5b41f4e');\n",
              "          const dataTable =\n",
              "            await google.colab.kernel.invokeFunction('convertToInteractive',\n",
              "                                                     [key], {});\n",
              "          if (!dataTable) return;\n",
              "\n",
              "          const docLinkHtml = 'Like what you see? Visit the ' +\n",
              "            '<a target=\"_blank\" href=https://colab.research.google.com/notebooks/data_table.ipynb>data table notebook</a>'\n",
              "            + ' to learn more about interactive tables.';\n",
              "          element.innerHTML = '';\n",
              "          dataTable['output_type'] = 'display_data';\n",
              "          await google.colab.output.renderOutput(dataTable, element);\n",
              "          const docLink = document.createElement('div');\n",
              "          docLink.innerHTML = docLinkHtml;\n",
              "          element.appendChild(docLink);\n",
              "        }\n",
              "      </script>\n",
              "    </div>\n",
              "  </div>\n",
              "  "
            ]
          },
          "metadata": {},
          "execution_count": 17
        }
      ]
    },
    {
      "cell_type": "code",
      "source": [
        "sns.set_style('whitegrid')\n",
        "plt.rcParams['font.size'] = 10\n",
        "plt.rcParams['figure.figsize'] = (10,5)"
      ],
      "metadata": {
        "id": "tmFP-UsB9akk"
      },
      "execution_count": null,
      "outputs": []
    },
    {
      "cell_type": "code",
      "source": [
        "sns.barplot (y= list(df.country.value_counts().head (10)), x= list(df.country.value_counts().head(10).index))"
      ],
      "metadata": {
        "colab": {
          "base_uri": "https://localhost:8080/"
        },
        "id": "iKvL8_fV96AK",
        "outputId": "33d920c3-9488-4d32-ecae-92b6bec30510"
      },
      "execution_count": null,
      "outputs": [
        {
          "output_type": "execute_result",
          "data": {
            "text/plain": [
              "<matplotlib.axes._subplots.AxesSubplot at 0x7f62c79e8910>"
            ]
          },
          "metadata": {},
          "execution_count": 19
        },
        {
          "output_type": "display_data",
          "data": {
            "text/plain": [
              "<Figure size 720x360 with 1 Axes>"
            ],
            "image/png": "[encoded data removed]"
          },
          "metadata": {}
        }
      ]
    },
    {
      "cell_type": "markdown",
      "metadata": {
        "id": "zB3VnVpRwPM-"
      },
      "source": [
        "**Observations - So, most of the customers come from Portugal, Great Britain, France and Spain.**"
      ]
    },
    {
      "cell_type": "markdown",
      "source": [
        "# **Question 2) Give a  table of all the countries and their repeated customers showing the highest and the lowest country with repeated customers.**"
      ],
      "metadata": {
        "id": "oBHLd5ZmOvJd"
      }
    },
    {
      "cell_type": "markdown",
      "source": [
        "**For Resort Hotel**"
      ],
      "metadata": {
        "id": "s7MpSidP5zrV"
      }
    },
    {
      "cell_type": "code",
      "source": [
        "actual_resort_hotel = df[(df['hotel'] == 'Resort Hotel') & (df['is_canceled'] == 0) & (df['is_repeated_guest'] == 1)]"
      ],
      "metadata": {
        "id": "4B7eQYNG54wc"
      },
      "execution_count": null,
      "outputs": []
    },
    {
      "cell_type": "code",
      "source": [
        "booking = actual_resort_hotel.groupby('country')['is_repeated_guest'].count().reset_index().sort_values(by = 'is_repeated_guest', ascending = False)"
      ],
      "metadata": {
        "id": "lxddoauH6tE7"
      },
      "execution_count": null,
      "outputs": []
    },
    {
      "cell_type": "code",
      "source": [
        "booking = booking.rename(columns = {'is_repeated_guest': 'No of repeated guest'})"
      ],
      "metadata": {
        "id": "vrpo0M8l78Ct"
      },
      "execution_count": null,
      "outputs": []
    },
    {
      "cell_type": "code",
      "source": [
        "booking.head(10)"
      ],
      "metadata": {
        "id": "Am7is1o4-QcW",
        "outputId": "79e1ff34-f88f-41d8-fbf6-fc8bf80fab74",
        "colab": {
          "base_uri": "https://localhost:8080/",
          "height": 363
        }
      },
      "execution_count": null,
      "outputs": [
        {
          "output_type": "execute_result",
          "data": {
            "text/plain": [
              "   country  No of repeated guest\n",
              "24     PRT                  1388\n",
              "12     GBR                    92\n",
              "9      ESP                    36\n",
              "13     IRL                    26\n",
              "15     ITA                    22\n",
              "11     FRA                    16\n",
              "20     NLD                    15\n",
              "4      BRA                     7\n",
              "27     USA                     7\n",
              "23     PRI                     6"
            ],
            "text/html": [
              "\n",
              "  <div id=\"df-a5c5f3d6-22fb-4b0b-b9ce-66e080cbf7d4\">\n",
              "    <div class=\"colab-df-container\">\n",
              "      <div>\n",
              "<style scoped>\n",
              "    .dataframe tbody tr th:only-of-type {\n",
              "        vertical-align: middle;\n",
              "    }\n",
              "\n",
              "    .dataframe tbody tr th {\n",
              "        vertical-align: top;\n",
              "    }\n",
              "\n",
              "    .dataframe thead th {\n",
              "        text-align: right;\n",
              "    }\n",
              "</style>\n",
              "<table border=\"1\" class=\"dataframe\">\n",
              "  <thead>\n",
              "    <tr style=\"text-align: right;\">\n",
              "      <th></th>\n",
              "      <th>country</th>\n",
              "      <th>No of repeated guest</th>\n",
              "    </tr>\n",
              "  </thead>\n",
              "  <tbody>\n",
              "    <tr>\n",
              "      <th>24</th>\n",
              "      <td>PRT</td>\n",
              "      <td>1388</td>\n",
              "    </tr>\n",
              "    <tr>\n",
              "      <th>12</th>\n",
              "      <td>GBR</td>\n",
              "      <td>92</td>\n",
              "    </tr>\n",
              "    <tr>\n",
              "      <th>9</th>\n",
              "      <td>ESP</td>\n",
              "      <td>36</td>\n",
              "    </tr>\n",
              "    <tr>\n",
              "      <th>13</th>\n",
              "      <td>IRL</td>\n",
              "      <td>26</td>\n",
              "    </tr>\n",
              "    <tr>\n",
              "      <th>15</th>\n",
              "      <td>ITA</td>\n",
              "      <td>22</td>\n",
              "    </tr>\n",
              "    <tr>\n",
              "      <th>11</th>\n",
              "      <td>FRA</td>\n",
              "      <td>16</td>\n",
              "    </tr>\n",
              "    <tr>\n",
              "      <th>20</th>\n",
              "      <td>NLD</td>\n",
              "      <td>15</td>\n",
              "    </tr>\n",
              "    <tr>\n",
              "      <th>4</th>\n",
              "      <td>BRA</td>\n",
              "      <td>7</td>\n",
              "    </tr>\n",
              "    <tr>\n",
              "      <th>27</th>\n",
              "      <td>USA</td>\n",
              "      <td>7</td>\n",
              "    </tr>\n",
              "    <tr>\n",
              "      <th>23</th>\n",
              "      <td>PRI</td>\n",
              "      <td>6</td>\n",
              "    </tr>\n",
              "  </tbody>\n",
              "</table>\n",
              "</div>\n",
              "      <button class=\"colab-df-convert\" onclick=\"convertToInteractive('df-a5c5f3d6-22fb-4b0b-b9ce-66e080cbf7d4')\"\n",
              "              title=\"Convert this dataframe to an interactive table.\"\n",
              "              style=\"display:none;\">\n",
              "        \n",
              "  <svg xmlns=\"http://www.w3.org/2000/svg\" height=\"24px\"viewBox=\"0 0 24 24\"\n",
              "       width=\"24px\">\n",
              "    <path d=\"M0 0h24v24H0V0z\" fill=\"none\"/>\n",
              "    <path d=\"M18.56 5.44l.94 2.06.94-2.06 2.06-.94-2.06-.94-.94-2.06-.94 2.06-2.06.94zm-11 1L8.5 8.5l.94-2.06 2.06-.94-2.06-.94L8.5 2.5l-.94 2.06-2.06.94zm10 10l.94 2.06.94-2.06 2.06-.94-2.06-.94-.94-2.06-.94 2.06-2.06.94z\"/><path d=\"M17.41 7.96l-1.37-1.37c-.4-.4-.92-.59-1.43-.59-.52 0-1.04.2-1.43.59L10.3 9.45l-7.72 7.72c-.78.78-.78 2.05 0 2.83L4 21.41c.39.39.9.59 1.41.59.51 0 1.02-.2 1.41-.59l7.78-7.78 2.81-2.81c.8-.78.8-2.07 0-2.86zM5.41 20L4 18.59l7.72-7.72 1.47 1.35L5.41 20z\"/>\n",
              "  </svg>\n",
              "      </button>\n",
              "      \n",
              "  <style>\n",
              "    .colab-df-container {\n",
              "      display:flex;\n",
              "      flex-wrap:wrap;\n",
              "      gap: 12px;\n",
              "    }\n",
              "\n",
              "    .colab-df-convert {\n",
              "      background-color: #E8F0FE;\n",
              "      border: none;\n",
              "      border-radius: 50%;\n",
              "      cursor: pointer;\n",
              "      display: none;\n",
              "      fill: #1967D2;\n",
              "      height: 32px;\n",
              "      padding: 0 0 0 0;\n",
              "      width: 32px;\n",
              "    }\n",
              "\n",
              "    .colab-df-convert:hover {\n",
              "      background-color: #E2EBFA;\n",
              "      box-shadow: 0px 1px 2px rgba(60, 64, 67, 0.3), 0px 1px 3px 1px rgba(60, 64, 67, 0.15);\n",
              "      fill: #174EA6;\n",
              "    }\n",
              "\n",
              "    [theme=dark] .colab-df-convert {\n",
              "      background-color: #3B4455;\n",
              "      fill: #D2E3FC;\n",
              "    }\n",
              "\n",
              "    [theme=dark] .colab-df-convert:hover {\n",
              "      background-color: #434B5C;\n",
              "      box-shadow: 0px 1px 3px 1px rgba(0, 0, 0, 0.15);\n",
              "      filter: drop-shadow(0px 1px 2px rgba(0, 0, 0, 0.3));\n",
              "      fill: #FFFFFF;\n",
              "    }\n",
              "  </style>\n",
              "\n",
              "      <script>\n",
              "        const buttonEl =\n",
              "          document.querySelector('#df-a5c5f3d6-22fb-4b0b-b9ce-66e080cbf7d4 button.colab-df-convert');\n",
              "        buttonEl.style.display =\n",
              "          google.colab.kernel.accessAllowed ? 'block' : 'none';\n",
              "\n",
              "        async function convertToInteractive(key) {\n",
              "          const element = document.querySelector('#df-a5c5f3d6-22fb-4b0b-b9ce-66e080cbf7d4');\n",
              "          const dataTable =\n",
              "            await google.colab.kernel.invokeFunction('convertToInteractive',\n",
              "                                                     [key], {});\n",
              "          if (!dataTable) return;\n",
              "\n",
              "          const docLinkHtml = 'Like what you see? Visit the ' +\n",
              "            '<a target=\"_blank\" href=https://colab.research.google.com/notebooks/data_table.ipynb>data table notebook</a>'\n",
              "            + ' to learn more about interactive tables.';\n",
              "          element.innerHTML = '';\n",
              "          dataTable['output_type'] = 'display_data';\n",
              "          await google.colab.output.renderOutput(dataTable, element);\n",
              "          const docLink = document.createElement('div');\n",
              "          docLink.innerHTML = docLinkHtml;\n",
              "          element.appendChild(docLink);\n",
              "        }\n",
              "      </script>\n",
              "    </div>\n",
              "  </div>\n",
              "  "
            ]
          },
          "metadata": {},
          "execution_count": 23
        }
      ]
    },
    {
      "cell_type": "markdown",
      "source": [
        "**Graphical Representation**"
      ],
      "metadata": {
        "id": "K4i0sA3T-dyA"
      }
    },
    {
      "cell_type": "code",
      "source": [
        "sns.set_style('whitegrid')\n",
        "plt.rcParams['figure.figsize'] = (16,5)\n",
        "plt.rcParams['font.size'] = 10"
      ],
      "metadata": {
        "id": "CFvB0Y4X-Tym"
      },
      "execution_count": null,
      "outputs": []
    },
    {
      "cell_type": "code",
      "source": [
        "sns.barplot(y = 'No of repeated guest', x = 'country', data = booking).set_title(\"Number of Repeated guests from various countries for Resort Hotel\")"
      ],
      "metadata": {
        "id": "T9NpjoAK_e0l",
        "outputId": "21cd0434-183f-4208-8178-4349b1e0bfd8",
        "colab": {
          "base_uri": "https://localhost:8080/",
          "height": 367
        }
      },
      "execution_count": null,
      "outputs": [
        {
          "output_type": "execute_result",
          "data": {
            "text/plain": [
              "Text(0.5, 1.0, 'Number of Repeated guests from various countries for Resort Hotel')"
            ]
          },
          "metadata": {},
          "execution_count": 25
        },
        {
          "output_type": "display_data",
          "data": {
            "text/plain": [
              "<Figure size 1152x360 with 1 Axes>"
            ],
            "image/png": "[encoded data removed]"
          },
          "metadata": {}
        }
      ]
    },
    {
      "cell_type": "markdown",
      "source": [
        "**Observation:The maximum  of repeated customers have come from the country Portugal represented as 'PRT' for Resort hotel**"
      ],
      "metadata": {
        "id": "frWkXEU5pTaS"
      }
    },
    {
      "cell_type": "markdown",
      "source": [
        "**For City Hotel**"
      ],
      "metadata": {
        "id": "_M6T25FFDaEM"
      }
    },
    {
      "cell_type": "code",
      "source": [
        "actual_city_hotel = df[(df['hotel'] == 'City Hotel') & (df['is_canceled'] == 0) & (df['is_repeated_guest'] == 1)]"
      ],
      "metadata": {
        "id": "Pr4cSK8JDoIQ"
      },
      "execution_count": null,
      "outputs": []
    },
    {
      "cell_type": "code",
      "source": [
        "city_booking = actual_city_hotel.groupby('country')['is_repeated_guest'].count().reset_index().rename(columns = {'is_repeated_guest': 'Number of Repeated Guest'})"
      ],
      "metadata": {
        "id": "z-PAzCDKDxCQ"
      },
      "execution_count": null,
      "outputs": []
    },
    {
      "cell_type": "code",
      "source": [
        "city_booking.sort_values('Number of Repeated Guest', ascending = False, inplace = True)"
      ],
      "metadata": {
        "id": "dvwbNxBlLqT4"
      },
      "execution_count": null,
      "outputs": []
    },
    {
      "cell_type": "code",
      "source": [
        "city_booking.head(10)"
      ],
      "metadata": {
        "id": "wp4qkvYuOKbr",
        "outputId": "b0a9c2f5-b310-454e-d113-13b61371ea65",
        "colab": {
          "base_uri": "https://localhost:8080/",
          "height": 363
        }
      },
      "execution_count": null,
      "outputs": [
        {
          "output_type": "execute_result",
          "data": {
            "text/plain": [
              "   country  Number of Repeated Guest\n",
              "28     PRT                      1336\n",
              "13     FRA                        56\n",
              "12     ESP                        48\n",
              "9      DEU                        19\n",
              "18     ITA                        16\n",
              "14     GBR                        14\n",
              "0      AGO                        14\n",
              "34     USA                        11\n",
              "5      BEL                        10\n",
              "33     TUR                         9"
            ],
            "text/html": [
              "\n",
              "  <div id=\"df-9f54395e-2a73-4973-aa91-5bd7a6efa1bb\">\n",
              "    <div class=\"colab-df-container\">\n",
              "      <div>\n",
              "<style scoped>\n",
              "    .dataframe tbody tr th:only-of-type {\n",
              "        vertical-align: middle;\n",
              "    }\n",
              "\n",
              "    .dataframe tbody tr th {\n",
              "        vertical-align: top;\n",
              "    }\n",
              "\n",
              "    .dataframe thead th {\n",
              "        text-align: right;\n",
              "    }\n",
              "</style>\n",
              "<table border=\"1\" class=\"dataframe\">\n",
              "  <thead>\n",
              "    <tr style=\"text-align: right;\">\n",
              "      <th></th>\n",
              "      <th>country</th>\n",
              "      <th>Number of Repeated Guest</th>\n",
              "    </tr>\n",
              "  </thead>\n",
              "  <tbody>\n",
              "    <tr>\n",
              "      <th>28</th>\n",
              "      <td>PRT</td>\n",
              "      <td>1336</td>\n",
              "    </tr>\n",
              "    <tr>\n",
              "      <th>13</th>\n",
              "      <td>FRA</td>\n",
              "      <td>56</td>\n",
              "    </tr>\n",
              "    <tr>\n",
              "      <th>12</th>\n",
              "      <td>ESP</td>\n",
              "      <td>48</td>\n",
              "    </tr>\n",
              "    <tr>\n",
              "      <th>9</th>\n",
              "      <td>DEU</td>\n",
              "      <td>19</td>\n",
              "    </tr>\n",
              "    <tr>\n",
              "      <th>18</th>\n",
              "      <td>ITA</td>\n",
              "      <td>16</td>\n",
              "    </tr>\n",
              "    <tr>\n",
              "      <th>14</th>\n",
              "      <td>GBR</td>\n",
              "      <td>14</td>\n",
              "    </tr>\n",
              "    <tr>\n",
              "      <th>0</th>\n",
              "      <td>AGO</td>\n",
              "      <td>14</td>\n",
              "    </tr>\n",
              "    <tr>\n",
              "      <th>34</th>\n",
              "      <td>USA</td>\n",
              "      <td>11</td>\n",
              "    </tr>\n",
              "    <tr>\n",
              "      <th>5</th>\n",
              "      <td>BEL</td>\n",
              "      <td>10</td>\n",
              "    </tr>\n",
              "    <tr>\n",
              "      <th>33</th>\n",
              "      <td>TUR</td>\n",
              "      <td>9</td>\n",
              "    </tr>\n",
              "  </tbody>\n",
              "</table>\n",
              "</div>\n",
              "      <button class=\"colab-df-convert\" onclick=\"convertToInteractive('df-9f54395e-2a73-4973-aa91-5bd7a6efa1bb')\"\n",
              "              title=\"Convert this dataframe to an interactive table.\"\n",
              "              style=\"display:none;\">\n",
              "        \n",
              "  <svg xmlns=\"http://www.w3.org/2000/svg\" height=\"24px\"viewBox=\"0 0 24 24\"\n",
              "       width=\"24px\">\n",
              "    <path d=\"M0 0h24v24H0V0z\" fill=\"none\"/>\n",
              "    <path d=\"M18.56 5.44l.94 2.06.94-2.06 2.06-.94-2.06-.94-.94-2.06-.94 2.06-2.06.94zm-11 1L8.5 8.5l.94-2.06 2.06-.94-2.06-.94L8.5 2.5l-.94 2.06-2.06.94zm10 10l.94 2.06.94-2.06 2.06-.94-2.06-.94-.94-2.06-.94 2.06-2.06.94z\"/><path d=\"M17.41 7.96l-1.37-1.37c-.4-.4-.92-.59-1.43-.59-.52 0-1.04.2-1.43.59L10.3 9.45l-7.72 7.72c-.78.78-.78 2.05 0 2.83L4 21.41c.39.39.9.59 1.41.59.51 0 1.02-.2 1.41-.59l7.78-7.78 2.81-2.81c.8-.78.8-2.07 0-2.86zM5.41 20L4 18.59l7.72-7.72 1.47 1.35L5.41 20z\"/>\n",
              "  </svg>\n",
              "      </button>\n",
              "      \n",
              "  <style>\n",
              "    .colab-df-container {\n",
              "      display:flex;\n",
              "      flex-wrap:wrap;\n",
              "      gap: 12px;\n",
              "    }\n",
              "\n",
              "    .colab-df-convert {\n",
              "      background-color: #E8F0FE;\n",
              "      border: none;\n",
              "      border-radius: 50%;\n",
              "      cursor: pointer;\n",
              "      display: none;\n",
              "      fill: #1967D2;\n",
              "      height: 32px;\n",
              "      padding: 0 0 0 0;\n",
              "      width: 32px;\n",
              "    }\n",
              "\n",
              "    .colab-df-convert:hover {\n",
              "      background-color: #E2EBFA;\n",
              "      box-shadow: 0px 1px 2px rgba(60, 64, 67, 0.3), 0px 1px 3px 1px rgba(60, 64, 67, 0.15);\n",
              "      fill: #174EA6;\n",
              "    }\n",
              "\n",
              "    [theme=dark] .colab-df-convert {\n",
              "      background-color: #3B4455;\n",
              "      fill: #D2E3FC;\n",
              "    }\n",
              "\n",
              "    [theme=dark] .colab-df-convert:hover {\n",
              "      background-color: #434B5C;\n",
              "      box-shadow: 0px 1px 3px 1px rgba(0, 0, 0, 0.15);\n",
              "      filter: drop-shadow(0px 1px 2px rgba(0, 0, 0, 0.3));\n",
              "      fill: #FFFFFF;\n",
              "    }\n",
              "  </style>\n",
              "\n",
              "      <script>\n",
              "        const buttonEl =\n",
              "          document.querySelector('#df-9f54395e-2a73-4973-aa91-5bd7a6efa1bb button.colab-df-convert');\n",
              "        buttonEl.style.display =\n",
              "          google.colab.kernel.accessAllowed ? 'block' : 'none';\n",
              "\n",
              "        async function convertToInteractive(key) {\n",
              "          const element = document.querySelector('#df-9f54395e-2a73-4973-aa91-5bd7a6efa1bb');\n",
              "          const dataTable =\n",
              "            await google.colab.kernel.invokeFunction('convertToInteractive',\n",
              "                                                     [key], {});\n",
              "          if (!dataTable) return;\n",
              "\n",
              "          const docLinkHtml = 'Like what you see? Visit the ' +\n",
              "            '<a target=\"_blank\" href=https://colab.research.google.com/notebooks/data_table.ipynb>data table notebook</a>'\n",
              "            + ' to learn more about interactive tables.';\n",
              "          element.innerHTML = '';\n",
              "          dataTable['output_type'] = 'display_data';\n",
              "          await google.colab.output.renderOutput(dataTable, element);\n",
              "          const docLink = document.createElement('div');\n",
              "          docLink.innerHTML = docLinkHtml;\n",
              "          element.appendChild(docLink);\n",
              "        }\n",
              "      </script>\n",
              "    </div>\n",
              "  </div>\n",
              "  "
            ]
          },
          "metadata": {},
          "execution_count": 29
        }
      ]
    },
    {
      "cell_type": "markdown",
      "source": [
        "**Graphical Representation**"
      ],
      "metadata": {
        "id": "ryFGxENYP-D1"
      }
    },
    {
      "cell_type": "code",
      "source": [
        "sns.set_style('whitegrid')\n",
        "plt.rcParams['figure.figsize'] = (16,6)\n",
        "plt.rcParams['font.size'] = 10"
      ],
      "metadata": {
        "id": "DCnebNU3P2xL"
      },
      "execution_count": null,
      "outputs": []
    },
    {
      "cell_type": "code",
      "source": [
        "sns.barplot(x = 'country', y = 'Number of Repeated Guest', data = city_booking ).set_title(\"Number of Repeated guests from various countries for City Hotel\")"
      ],
      "metadata": {
        "id": "Fe-N-GjwQlrt",
        "outputId": "8d43884a-9f96-42bc-faa9-109f4b389c22",
        "colab": {
          "base_uri": "https://localhost:8080/",
          "height": 421
        }
      },
      "execution_count": null,
      "outputs": [
        {
          "output_type": "execute_result",
          "data": {
            "text/plain": [
              "Text(0.5, 1.0, 'Number of Repeated guests from various countries for City Hotel')"
            ]
          },
          "metadata": {},
          "execution_count": 31
        },
        {
          "output_type": "display_data",
          "data": {
            "text/plain": [
              "<Figure size 1152x432 with 1 Axes>"
            ],
            "image/png": "[encoded data removed]"
          },
          "metadata": {}
        }
      ]
    },
    {
      "cell_type": "markdown",
      "source": [
        "**Observation:The maximum  of repeated customers have come from the country Portugal represented as'PRT' for City hotel.**\n",
        "\n",
        "**So, overall the number of repeated customers are mostly from Portugal in both City and Resort Hotels.**"
      ],
      "metadata": {
        "id": "UIZfmz3eq0gg"
      }
    },
    {
      "cell_type": "markdown",
      "metadata": {
        "id": "Q0VhTsYVcXJ7"
      },
      "source": [
        "## **Question 3) In which hotel there is maximum chances of cancellation?**"
      ]
    },
    {
      "cell_type": "code",
      "execution_count": null,
      "metadata": {
        "id": "D_JCcDuf6fpU",
        "colab": {
          "base_uri": "https://localhost:8080/"
        },
        "outputId": "6e676bd4-a999-4279-d196-9c36fd148d49"
      },
      "outputs": [
        {
          "output_type": "execute_result",
          "data": {
            "text/plain": [
              "              total_cancelled_bookings  total_bookings  cancel_%\n",
              "hotel                                                           \n",
              "City Hotel                       33102           79330     41.73\n",
              "Resort Hotel                     11122           40060     27.76"
            ],
            "text/html": [
              "\n",
              "  <div id=\"df-2bd16f0d-d6d8-4193-9932-0271fcf2cd6f\">\n",
              "    <div class=\"colab-df-container\">\n",
              "      <div>\n",
              "<style scoped>\n",
              "    .dataframe tbody tr th:only-of-type {\n",
              "        vertical-align: middle;\n",
              "    }\n",
              "\n",
              "    .dataframe tbody tr th {\n",
              "        vertical-align: top;\n",
              "    }\n",
              "\n",
              "    .dataframe thead th {\n",
              "        text-align: right;\n",
              "    }\n",
              "</style>\n",
              "<table border=\"1\" class=\"dataframe\">\n",
              "  <thead>\n",
              "    <tr style=\"text-align: right;\">\n",
              "      <th></th>\n",
              "      <th>total_cancelled_bookings</th>\n",
              "      <th>total_bookings</th>\n",
              "      <th>cancel_%</th>\n",
              "    </tr>\n",
              "    <tr>\n",
              "      <th>hotel</th>\n",
              "      <th></th>\n",
              "      <th></th>\n",
              "      <th></th>\n",
              "    </tr>\n",
              "  </thead>\n",
              "  <tbody>\n",
              "    <tr>\n",
              "      <th>City Hotel</th>\n",
              "      <td>33102</td>\n",
              "      <td>79330</td>\n",
              "      <td>41.73</td>\n",
              "    </tr>\n",
              "    <tr>\n",
              "      <th>Resort Hotel</th>\n",
              "      <td>11122</td>\n",
              "      <td>40060</td>\n",
              "      <td>27.76</td>\n",
              "    </tr>\n",
              "  </tbody>\n",
              "</table>\n",
              "</div>\n",
              "      <button class=\"colab-df-convert\" onclick=\"convertToInteractive('df-2bd16f0d-d6d8-4193-9932-0271fcf2cd6f')\"\n",
              "              title=\"Convert this dataframe to an interactive table.\"\n",
              "              style=\"display:none;\">\n",
              "        \n",
              "  <svg xmlns=\"http://www.w3.org/2000/svg\" height=\"24px\"viewBox=\"0 0 24 24\"\n",
              "       width=\"24px\">\n",
              "    <path d=\"M0 0h24v24H0V0z\" fill=\"none\"/>\n",
              "    <path d=\"M18.56 5.44l.94 2.06.94-2.06 2.06-.94-2.06-.94-.94-2.06-.94 2.06-2.06.94zm-11 1L8.5 8.5l.94-2.06 2.06-.94-2.06-.94L8.5 2.5l-.94 2.06-2.06.94zm10 10l.94 2.06.94-2.06 2.06-.94-2.06-.94-.94-2.06-.94 2.06-2.06.94z\"/><path d=\"M17.41 7.96l-1.37-1.37c-.4-.4-.92-.59-1.43-.59-.52 0-1.04.2-1.43.59L10.3 9.45l-7.72 7.72c-.78.78-.78 2.05 0 2.83L4 21.41c.39.39.9.59 1.41.59.51 0 1.02-.2 1.41-.59l7.78-7.78 2.81-2.81c.8-.78.8-2.07 0-2.86zM5.41 20L4 18.59l7.72-7.72 1.47 1.35L5.41 20z\"/>\n",
              "  </svg>\n",
              "      </button>\n",
              "      \n",
              "  <style>\n",
              "    .colab-df-container {\n",
              "      display:flex;\n",
              "      flex-wrap:wrap;\n",
              "      gap: 12px;\n",
              "    }\n",
              "\n",
              "    .colab-df-convert {\n",
              "      background-color: #E8F0FE;\n",
              "      border: none;\n",
              "      border-radius: 50%;\n",
              "      cursor: pointer;\n",
              "      display: none;\n",
              "      fill: #1967D2;\n",
              "      height: 32px;\n",
              "      padding: 0 0 0 0;\n",
              "      width: 32px;\n",
              "    }\n",
              "\n",
              "    .colab-df-convert:hover {\n",
              "      background-color: #E2EBFA;\n",
              "      box-shadow: 0px 1px 2px rgba(60, 64, 67, 0.3), 0px 1px 3px 1px rgba(60, 64, 67, 0.15);\n",
              "      fill: #174EA6;\n",
              "    }\n",
              "\n",
              "    [theme=dark] .colab-df-convert {\n",
              "      background-color: #3B4455;\n",
              "      fill: #D2E3FC;\n",
              "    }\n",
              "\n",
              "    [theme=dark] .colab-df-convert:hover {\n",
              "      background-color: #434B5C;\n",
              "      box-shadow: 0px 1px 3px 1px rgba(0, 0, 0, 0.15);\n",
              "      filter: drop-shadow(0px 1px 2px rgba(0, 0, 0, 0.3));\n",
              "      fill: #FFFFFF;\n",
              "    }\n",
              "  </style>\n",
              "\n",
              "      <script>\n",
              "        const buttonEl =\n",
              "          document.querySelector('#df-2bd16f0d-d6d8-4193-9932-0271fcf2cd6f button.colab-df-convert');\n",
              "        buttonEl.style.display =\n",
              "          google.colab.kernel.accessAllowed ? 'block' : 'none';\n",
              "\n",
              "        async function convertToInteractive(key) {\n",
              "          const element = document.querySelector('#df-2bd16f0d-d6d8-4193-9932-0271fcf2cd6f');\n",
              "          const dataTable =\n",
              "            await google.colab.kernel.invokeFunction('convertToInteractive',\n",
              "                                                     [key], {});\n",
              "          if (!dataTable) return;\n",
              "\n",
              "          const docLinkHtml = 'Like what you see? Visit the ' +\n",
              "            '<a target=\"_blank\" href=https://colab.research.google.com/notebooks/data_table.ipynb>data table notebook</a>'\n",
              "            + ' to learn more about interactive tables.';\n",
              "          element.innerHTML = '';\n",
              "          dataTable['output_type'] = 'display_data';\n",
              "          await google.colab.output.renderOutput(dataTable, element);\n",
              "          const docLink = document.createElement('div');\n",
              "          docLink.innerHTML = docLinkHtml;\n",
              "          element.appendChild(docLink);\n",
              "        }\n",
              "      </script>\n",
              "    </div>\n",
              "  </div>\n",
              "  "
            ]
          },
          "metadata": {},
          "execution_count": 32
        }
      ],
      "source": [
        "cancelled_data = df[df['is_canceled'] == 1]\n",
        "cancel_grp = cancelled_data.groupby('hotel')\n",
        "cancel_grp\n",
        "D1 = pd.DataFrame(cancel_grp.size()).rename(columns = {0:'total_cancelled_bookings'})\n",
        "\n",
        " #Counting total number of bookings for each type of hotel\n",
        "grouped_by_hotel = df.groupby('hotel')\n",
        "total_booking = grouped_by_hotel.size()\n",
        "D2 = pd.DataFrame(total_booking).rename(columns = {0: 'total_bookings'})\n",
        "D3 = pd.concat([D1,D2], axis = 1)\n",
        "\n",
        " #Calculating cancel percentage\n",
        "D3['cancel_%'] = round((D3['total_cancelled_bookings']/D3['total_bookings'])*100,2)\n",
        "D3"
      ]
    },
    {
      "cell_type": "code",
      "execution_count": null,
      "metadata": {
        "id": "179cvTMwBE8a",
        "colab": {
          "base_uri": "https://localhost:8080/"
        },
        "outputId": "1307a58f-2e34-40b1-8603-f39aa63b28ae"
      },
      "outputs": [
        {
          "output_type": "execute_result",
          "data": {
            "text/plain": [
              "<matplotlib.axes._subplots.AxesSubplot at 0x7f62c598f810>"
            ]
          },
          "metadata": {},
          "execution_count": 33
        },
        {
          "output_type": "display_data",
          "data": {
            "text/plain": [
              "<Figure size 720x360 with 1 Axes>"
            ],
            "image/png": "[encoded data removed]"
          },
          "metadata": {}
        }
      ],
      "source": [
        "plt.figure(figsize = (10,5))\n",
        "sns.barplot(x = D3.index, y = D3['cancel_%'])"
      ]
    },
    {
      "cell_type": "markdown",
      "metadata": {
        "id": "ogqPJ4uRBd-G"
      },
      "source": [
        "**Observations - Here we can see that almost 41% of City Hotel and 27% of Resort Hotel were cancelled. So, we can clearly see that the large number of cancellations have been done in City Hotel as compare to the Resort Hotel.**"
      ]
    },
    {
      "cell_type": "markdown",
      "source": [
        "##**In which month the maximum number of guests are coming.**"
      ],
      "metadata": {
        "id": "qyqbnKI_JNX0"
      }
    },
    {
      "cell_type": "code",
      "execution_count": null,
      "metadata": {
        "id": "X1b4yZEyBLHI",
        "colab": {
          "base_uri": "https://localhost:8080/"
        },
        "outputId": "c6d99acb-d348-4583-bfc6-ed238d9010dd"
      },
      "outputs": [
        {
          "output_type": "execute_result",
          "data": {
            "text/plain": [
              "                                      hotel  is_canceled  lead_time  \\\n",
              "arrival_date_month arrival_date_year                                  \n",
              "April              2016                5428         5428       5428   \n",
              "                   2017                5661         5661       5661   \n",
              "August             2015                3889         3889       3889   \n",
              "                   2016                5063         5063       5063   \n",
              "                   2017                4925         4925       4925   \n",
              "December           2015                2920         2920       2920   \n",
              "                   2016                3860         3860       3860   \n",
              "February           2016                3891         3891       3891   \n",
              "                   2017                4177         4177       4177   \n",
              "January            2016                2248         2248       2248   \n",
              "                   2017                3681         3681       3681   \n",
              "July               2015                2776         2776       2776   \n",
              "                   2016                4572         4572       4572   \n",
              "                   2017                5313         5313       5313   \n",
              "June               2016                5292         5292       5292   \n",
              "                   2017                5647         5647       5647   \n",
              "March              2016                4824         4824       4824   \n",
              "                   2017                4970         4970       4970   \n",
              "May                2016                5478         5478       5478   \n",
              "                   2017                6313         6313       6313   \n",
              "November           2015                2340         2340       2340   \n",
              "                   2016                4454         4454       4454   \n",
              "October            2015                4957         4957       4957   \n",
              "                   2016                6203         6203       6203   \n",
              "September          2015                5114         5114       5114   \n",
              "                   2016                5394         5394       5394   \n",
              "\n",
              "                                      arrival_date_day_of_month  meal  \\\n",
              "arrival_date_month arrival_date_year                                    \n",
              "April              2016                                    5428  5428   \n",
              "                   2017                                    5661  5661   \n",
              "August             2015                                    3889  3889   \n",
              "                   2016                                    5063  5063   \n",
              "                   2017                                    4925  4925   \n",
              "December           2015                                    2920  2920   \n",
              "                   2016                                    3860  3860   \n",
              "February           2016                                    3891  3891   \n",
              "                   2017                                    4177  4177   \n",
              "January            2016                                    2248  2248   \n",
              "                   2017                                    3681  3681   \n",
              "July               2015                                    2776  2776   \n",
              "                   2016                                    4572  4572   \n",
              "                   2017                                    5313  5313   \n",
              "June               2016                                    5292  5292   \n",
              "                   2017                                    5647  5647   \n",
              "March              2016                                    4824  4824   \n",
              "                   2017                                    4970  4970   \n",
              "May                2016                                    5478  5478   \n",
              "                   2017                                    6313  6313   \n",
              "November           2015                                    2340  2340   \n",
              "                   2016                                    4454  4454   \n",
              "October            2015                                    4957  4957   \n",
              "                   2016                                    6203  6203   \n",
              "September          2015                                    5114  5114   \n",
              "                   2016                                    5394  5394   \n",
              "\n",
              "                                      country  distribution_channel  \\\n",
              "arrival_date_month arrival_date_year                                  \n",
              "April              2016                  5428                  5428   \n",
              "                   2017                  5661                  5661   \n",
              "August             2015                  3889                  3889   \n",
              "                   2016                  5063                  5063   \n",
              "                   2017                  4925                  4925   \n",
              "December           2015                  2920                  2920   \n",
              "                   2016                  3860                  3860   \n",
              "February           2016                  3891                  3891   \n",
              "                   2017                  4177                  4177   \n",
              "January            2016                  2248                  2248   \n",
              "                   2017                  3681                  3681   \n",
              "July               2015                  2776                  2776   \n",
              "                   2016                  4572                  4572   \n",
              "                   2017                  5313                  5313   \n",
              "June               2016                  5292                  5292   \n",
              "                   2017                  5647                  5647   \n",
              "March              2016                  4824                  4824   \n",
              "                   2017                  4970                  4970   \n",
              "May                2016                  5478                  5478   \n",
              "                   2017                  6313                  6313   \n",
              "November           2015                  2340                  2340   \n",
              "                   2016                  4454                  4454   \n",
              "October            2015                  4957                  4957   \n",
              "                   2016                  6203                  6203   \n",
              "September          2015                  5114                  5114   \n",
              "                   2016                  5394                  5394   \n",
              "\n",
              "                                      is_repeated_guest  \\\n",
              "arrival_date_month arrival_date_year                      \n",
              "April              2016                            5428   \n",
              "                   2017                            5661   \n",
              "August             2015                            3889   \n",
              "                   2016                            5063   \n",
              "                   2017                            4925   \n",
              "December           2015                            2920   \n",
              "                   2016                            3860   \n",
              "February           2016                            3891   \n",
              "                   2017                            4177   \n",
              "January            2016                            2248   \n",
              "                   2017                            3681   \n",
              "July               2015                            2776   \n",
              "                   2016                            4572   \n",
              "                   2017                            5313   \n",
              "June               2016                            5292   \n",
              "                   2017                            5647   \n",
              "March              2016                            4824   \n",
              "                   2017                            4970   \n",
              "May                2016                            5478   \n",
              "                   2017                            6313   \n",
              "November           2015                            2340   \n",
              "                   2016                            4454   \n",
              "October            2015                            4957   \n",
              "                   2016                            6203   \n",
              "September          2015                            5114   \n",
              "                   2016                            5394   \n",
              "\n",
              "                                      previous_cancellations  \\\n",
              "arrival_date_month arrival_date_year                           \n",
              "April              2016                                 5428   \n",
              "                   2017                                 5661   \n",
              "August             2015                                 3889   \n",
              "                   2016                                 5063   \n",
              "                   2017                                 4925   \n",
              "December           2015                                 2920   \n",
              "                   2016                                 3860   \n",
              "February           2016                                 3891   \n",
              "                   2017                                 4177   \n",
              "January            2016                                 2248   \n",
              "                   2017                                 3681   \n",
              "July               2015                                 2776   \n",
              "                   2016                                 4572   \n",
              "                   2017                                 5313   \n",
              "June               2016                                 5292   \n",
              "                   2017                                 5647   \n",
              "March              2016                                 4824   \n",
              "                   2017                                 4970   \n",
              "May                2016                                 5478   \n",
              "                   2017                                 6313   \n",
              "November           2015                                 2340   \n",
              "                   2016                                 4454   \n",
              "October            2015                                 4957   \n",
              "                   2016                                 6203   \n",
              "September          2015                                 5114   \n",
              "                   2016                                 5394   \n",
              "\n",
              "                                      previous_bookings_not_canceled  ...  \\\n",
              "arrival_date_month arrival_date_year                                  ...   \n",
              "April              2016                                         5428  ...   \n",
              "                   2017                                         5661  ...   \n",
              "August             2015                                         3889  ...   \n",
              "                   2016                                         5063  ...   \n",
              "                   2017                                         4925  ...   \n",
              "December           2015                                         2920  ...   \n",
              "                   2016                                         3860  ...   \n",
              "February           2016                                         3891  ...   \n",
              "                   2017                                         4177  ...   \n",
              "January            2016                                         2248  ...   \n",
              "                   2017                                         3681  ...   \n",
              "July               2015                                         2776  ...   \n",
              "                   2016                                         4572  ...   \n",
              "                   2017                                         5313  ...   \n",
              "June               2016                                         5292  ...   \n",
              "                   2017                                         5647  ...   \n",
              "March              2016                                         4824  ...   \n",
              "                   2017                                         4970  ...   \n",
              "May                2016                                         5478  ...   \n",
              "                   2017                                         6313  ...   \n",
              "November           2015                                         2340  ...   \n",
              "                   2016                                         4454  ...   \n",
              "October            2015                                         4957  ...   \n",
              "                   2016                                         6203  ...   \n",
              "September          2015                                         5114  ...   \n",
              "                   2016                                         5394  ...   \n",
              "\n",
              "                                      agent  company  days_in_waiting_list  \\\n",
              "arrival_date_month arrival_date_year                                         \n",
              "April              2016                5428     5428                  5428   \n",
              "                   2017                5661     5661                  5661   \n",
              "August             2015                3889     3889                  3889   \n",
              "                   2016                5063     5063                  5063   \n",
              "                   2017                4925     4925                  4925   \n",
              "December           2015                2920     2920                  2920   \n",
              "                   2016                3860     3860                  3860   \n",
              "February           2016                3891     3891                  3891   \n",
              "                   2017                4177     4177                  4177   \n",
              "January            2016                2248     2248                  2248   \n",
              "                   2017                3681     3681                  3681   \n",
              "July               2015                2776     2776                  2776   \n",
              "                   2016                4572     4572                  4572   \n",
              "                   2017                5313     5313                  5313   \n",
              "June               2016                5292     5292                  5292   \n",
              "                   2017                5647     5647                  5647   \n",
              "March              2016                4824     4824                  4824   \n",
              "                   2017                4970     4970                  4970   \n",
              "May                2016                5478     5478                  5478   \n",
              "                   2017                6313     6313                  6313   \n",
              "November           2015                2340     2340                  2340   \n",
              "                   2016                4454     4454                  4454   \n",
              "October            2015                4957     4957                  4957   \n",
              "                   2016                6203     6203                  6203   \n",
              "September          2015                5114     5114                  5114   \n",
              "                   2016                5394     5394                  5394   \n",
              "\n",
              "                                      customer_type   adr  \\\n",
              "arrival_date_month arrival_date_year                        \n",
              "April              2016                        5428  5428   \n",
              "                   2017                        5661  5661   \n",
              "August             2015                        3889  3889   \n",
              "                   2016                        5063  5063   \n",
              "                   2017                        4925  4925   \n",
              "December           2015                        2920  2920   \n",
              "                   2016                        3860  3860   \n",
              "February           2016                        3891  3891   \n",
              "                   2017                        4177  4177   \n",
              "January            2016                        2248  2248   \n",
              "                   2017                        3681  3681   \n",
              "July               2015                        2776  2776   \n",
              "                   2016                        4572  4572   \n",
              "                   2017                        5313  5313   \n",
              "June               2016                        5292  5292   \n",
              "                   2017                        5647  5647   \n",
              "March              2016                        4824  4824   \n",
              "                   2017                        4970  4970   \n",
              "May                2016                        5478  5478   \n",
              "                   2017                        6313  6313   \n",
              "November           2015                        2340  2340   \n",
              "                   2016                        4454  4454   \n",
              "October            2015                        4957  4957   \n",
              "                   2016                        6203  6203   \n",
              "September          2015                        5114  5114   \n",
              "                   2016                        5394  5394   \n",
              "\n",
              "                                      required_car_parking_spaces  \\\n",
              "arrival_date_month arrival_date_year                                \n",
              "April              2016                                      5428   \n",
              "                   2017                                      5661   \n",
              "August             2015                                      3889   \n",
              "                   2016                                      5063   \n",
              "                   2017                                      4925   \n",
              "December           2015                                      2920   \n",
              "                   2016                                      3860   \n",
              "February           2016                                      3891   \n",
              "                   2017                                      4177   \n",
              "January            2016                                      2248   \n",
              "                   2017                                      3681   \n",
              "July               2015                                      2776   \n",
              "                   2016                                      4572   \n",
              "                   2017                                      5313   \n",
              "June               2016                                      5292   \n",
              "                   2017                                      5647   \n",
              "March              2016                                      4824   \n",
              "                   2017                                      4970   \n",
              "May                2016                                      5478   \n",
              "                   2017                                      6313   \n",
              "November           2015                                      2340   \n",
              "                   2016                                      4454   \n",
              "October            2015                                      4957   \n",
              "                   2016                                      6203   \n",
              "September          2015                                      5114   \n",
              "                   2016                                      5394   \n",
              "\n",
              "                                      total_of_special_requests  \\\n",
              "arrival_date_month arrival_date_year                              \n",
              "April              2016                                    5428   \n",
              "                   2017                                    5661   \n",
              "August             2015                                    3889   \n",
              "                   2016                                    5063   \n",
              "                   2017                                    4925   \n",
              "December           2015                                    2920   \n",
              "                   2016                                    3860   \n",
              "February           2016                                    3891   \n",
              "                   2017                                    4177   \n",
              "January            2016                                    2248   \n",
              "                   2017                                    3681   \n",
              "July               2015                                    2776   \n",
              "                   2016                                    4572   \n",
              "                   2017                                    5313   \n",
              "June               2016                                    5292   \n",
              "                   2017                                    5647   \n",
              "March              2016                                    4824   \n",
              "                   2017                                    4970   \n",
              "May                2016                                    5478   \n",
              "                   2017                                    6313   \n",
              "November           2015                                    2340   \n",
              "                   2016                                    4454   \n",
              "October            2015                                    4957   \n",
              "                   2016                                    6203   \n",
              "September          2015                                    5114   \n",
              "                   2016                                    5394   \n",
              "\n",
              "                                      reservation_status  \\\n",
              "arrival_date_month arrival_date_year                       \n",
              "April              2016                             5428   \n",
              "                   2017                             5661   \n",
              "August             2015                             3889   \n",
              "                   2016                             5063   \n",
              "                   2017                             4925   \n",
              "December           2015                             2920   \n",
              "                   2016                             3860   \n",
              "February           2016                             3891   \n",
              "                   2017                             4177   \n",
              "January            2016                             2248   \n",
              "                   2017                             3681   \n",
              "July               2015                             2776   \n",
              "                   2016                             4572   \n",
              "                   2017                             5313   \n",
              "June               2016                             5292   \n",
              "                   2017                             5647   \n",
              "March              2016                             4824   \n",
              "                   2017                             4970   \n",
              "May                2016                             5478   \n",
              "                   2017                             6313   \n",
              "November           2015                             2340   \n",
              "                   2016                             4454   \n",
              "October            2015                             4957   \n",
              "                   2016                             6203   \n",
              "September          2015                             5114   \n",
              "                   2016                             5394   \n",
              "\n",
              "                                      reservation_status_date  total_persons  \n",
              "arrival_date_month arrival_date_year                                          \n",
              "April              2016                                  5428           5428  \n",
              "                   2017                                  5661           5661  \n",
              "August             2015                                  3889           3889  \n",
              "                   2016                                  5063           5063  \n",
              "                   2017                                  4925           4925  \n",
              "December           2015                                  2920           2920  \n",
              "                   2016                                  3860           3860  \n",
              "February           2016                                  3891           3891  \n",
              "                   2017                                  4177           4177  \n",
              "January            2016                                  2248           2248  \n",
              "                   2017                                  3681           3681  \n",
              "July               2015                                  2776           2776  \n",
              "                   2016                                  4572           4572  \n",
              "                   2017                                  5313           5313  \n",
              "June               2016                                  5292           5292  \n",
              "                   2017                                  5647           5647  \n",
              "March              2016                                  4824           4824  \n",
              "                   2017                                  4970           4970  \n",
              "May                2016                                  5478           5478  \n",
              "                   2017                                  6313           6313  \n",
              "November           2015                                  2340           2340  \n",
              "                   2016                                  4454           4454  \n",
              "October            2015                                  4957           4957  \n",
              "                   2016                                  6203           6203  \n",
              "September          2015                                  5114           5114  \n",
              "                   2016                                  5394           5394  \n",
              "\n",
              "[26 rows x 24 columns]"
            ],
            "text/html": [
              "\n",
              "  <div id=\"df-b7f8abfd-1bac-42d0-ad81-b2264ecb7bf1\">\n",
              "    <div class=\"colab-df-container\">\n",
              "      <div>\n",
              "<style scoped>\n",
              "    .dataframe tbody tr th:only-of-type {\n",
              "        vertical-align: middle;\n",
              "    }\n",
              "\n",
              "    .dataframe tbody tr th {\n",
              "        vertical-align: top;\n",
              "    }\n",
              "\n",
              "    .dataframe thead th {\n",
              "        text-align: right;\n",
              "    }\n",
              "</style>\n",
              "<table border=\"1\" class=\"dataframe\">\n",
              "  <thead>\n",
              "    <tr style=\"text-align: right;\">\n",
              "      <th></th>\n",
              "      <th></th>\n",
              "      <th>hotel</th>\n",
              "      <th>is_canceled</th>\n",
              "      <th>lead_time</th>\n",
              "      <th>arrival_date_day_of_month</th>\n",
              "      <th>meal</th>\n",
              "      <th>country</th>\n",
              "      <th>distribution_channel</th>\n",
              "      <th>is_repeated_guest</th>\n",
              "      <th>previous_cancellations</th>\n",
              "      <th>previous_bookings_not_canceled</th>\n",
              "      <th>...</th>\n",
              "      <th>agent</th>\n",
              "      <th>company</th>\n",
              "      <th>days_in_waiting_list</th>\n",
              "      <th>customer_type</th>\n",
              "      <th>adr</th>\n",
              "      <th>required_car_parking_spaces</th>\n",
              "      <th>total_of_special_requests</th>\n",
              "      <th>reservation_status</th>\n",
              "      <th>reservation_status_date</th>\n",
              "      <th>total_persons</th>\n",
              "    </tr>\n",
              "    <tr>\n",
              "      <th>arrival_date_month</th>\n",
              "      <th>arrival_date_year</th>\n",
              "      <th></th>\n",
              "      <th></th>\n",
              "      <th></th>\n",
              "      <th></th>\n",
              "      <th></th>\n",
              "      <th></th>\n",
              "      <th></th>\n",
              "      <th></th>\n",
              "      <th></th>\n",
              "      <th></th>\n",
              "      <th></th>\n",
              "      <th></th>\n",
              "      <th></th>\n",
              "      <th></th>\n",
              "      <th></th>\n",
              "      <th></th>\n",
              "      <th></th>\n",
              "      <th></th>\n",
              "      <th></th>\n",
              "      <th></th>\n",
              "      <th></th>\n",
              "    </tr>\n",
              "  </thead>\n",
              "  <tbody>\n",
              "    <tr>\n",
              "      <th rowspan=\"2\" valign=\"top\">April</th>\n",
              "      <th>2016</th>\n",
              "      <td>5428</td>\n",
              "      <td>5428</td>\n",
              "      <td>5428</td>\n",
              "      <td>5428</td>\n",
              "      <td>5428</td>\n",
              "      <td>5428</td>\n",
              "      <td>5428</td>\n",
              "      <td>5428</td>\n",
              "      <td>5428</td>\n",
              "      <td>5428</td>\n",
              "      <td>...</td>\n",
              "      <td>5428</td>\n",
              "      <td>5428</td>\n",
              "      <td>5428</td>\n",
              "      <td>5428</td>\n",
              "      <td>5428</td>\n",
              "      <td>5428</td>\n",
              "      <td>5428</td>\n",
              "      <td>5428</td>\n",
              "      <td>5428</td>\n",
              "      <td>5428</td>\n",
              "    </tr>\n",
              "    <tr>\n",
              "      <th>2017</th>\n",
              "      <td>5661</td>\n",
              "      <td>5661</td>\n",
              "      <td>5661</td>\n",
              "      <td>5661</td>\n",
              "      <td>5661</td>\n",
              "      <td>5661</td>\n",
              "      <td>5661</td>\n",
              "      <td>5661</td>\n",
              "      <td>5661</td>\n",
              "      <td>5661</td>\n",
              "      <td>...</td>\n",
              "      <td>5661</td>\n",
              "      <td>5661</td>\n",
              "      <td>5661</td>\n",
              "      <td>5661</td>\n",
              "      <td>5661</td>\n",
              "      <td>5661</td>\n",
              "      <td>5661</td>\n",
              "      <td>5661</td>\n",
              "      <td>5661</td>\n",
              "      <td>5661</td>\n",
              "    </tr>\n",
              "    <tr>\n",
              "      <th rowspan=\"3\" valign=\"top\">August</th>\n",
              "      <th>2015</th>\n",
              "      <td>3889</td>\n",
              "      <td>3889</td>\n",
              "      <td>3889</td>\n",
              "      <td>3889</td>\n",
              "      <td>3889</td>\n",
              "      <td>3889</td>\n",
              "      <td>3889</td>\n",
              "      <td>3889</td>\n",
              "      <td>3889</td>\n",
              "      <td>3889</td>\n",
              "      <td>...</td>\n",
              "      <td>3889</td>\n",
              "      <td>3889</td>\n",
              "      <td>3889</td>\n",
              "      <td>3889</td>\n",
              "      <td>3889</td>\n",
              "      <td>3889</td>\n",
              "      <td>3889</td>\n",
              "      <td>3889</td>\n",
              "      <td>3889</td>\n",
              "      <td>3889</td>\n",
              "    </tr>\n",
              "    <tr>\n",
              "      <th>2016</th>\n",
              "      <td>5063</td>\n",
              "      <td>5063</td>\n",
              "      <td>5063</td>\n",
              "      <td>5063</td>\n",
              "      <td>5063</td>\n",
              "      <td>5063</td>\n",
              "      <td>5063</td>\n",
              "      <td>5063</td>\n",
              "      <td>5063</td>\n",
              "      <td>5063</td>\n",
              "      <td>...</td>\n",
              "      <td>5063</td>\n",
              "      <td>5063</td>\n",
              "      <td>5063</td>\n",
              "      <td>5063</td>\n",
              "      <td>5063</td>\n",
              "      <td>5063</td>\n",
              "      <td>5063</td>\n",
              "      <td>5063</td>\n",
              "      <td>5063</td>\n",
              "      <td>5063</td>\n",
              "    </tr>\n",
              "    <tr>\n",
              "      <th>2017</th>\n",
              "      <td>4925</td>\n",
              "      <td>4925</td>\n",
              "      <td>4925</td>\n",
              "      <td>4925</td>\n",
              "      <td>4925</td>\n",
              "      <td>4925</td>\n",
              "      <td>4925</td>\n",
              "      <td>4925</td>\n",
              "      <td>4925</td>\n",
              "      <td>4925</td>\n",
              "      <td>...</td>\n",
              "      <td>4925</td>\n",
              "      <td>4925</td>\n",
              "      <td>4925</td>\n",
              "      <td>4925</td>\n",
              "      <td>4925</td>\n",
              "      <td>4925</td>\n",
              "      <td>4925</td>\n",
              "      <td>4925</td>\n",
              "      <td>4925</td>\n",
              "      <td>4925</td>\n",
              "    </tr>\n",
              "    <tr>\n",
              "      <th rowspan=\"2\" valign=\"top\">December</th>\n",
              "      <th>2015</th>\n",
              "      <td>2920</td>\n",
              "      <td>2920</td>\n",
              "      <td>2920</td>\n",
              "      <td>2920</td>\n",
              "      <td>2920</td>\n",
              "      <td>2920</td>\n",
              "      <td>2920</td>\n",
              "      <td>2920</td>\n",
              "      <td>2920</td>\n",
              "      <td>2920</td>\n",
              "      <td>...</td>\n",
              "      <td>2920</td>\n",
              "      <td>2920</td>\n",
              "      <td>2920</td>\n",
              "      <td>2920</td>\n",
              "      <td>2920</td>\n",
              "      <td>2920</td>\n",
              "      <td>2920</td>\n",
              "      <td>2920</td>\n",
              "      <td>2920</td>\n",
              "      <td>2920</td>\n",
              "    </tr>\n",
              "    <tr>\n",
              "      <th>2016</th>\n",
              "      <td>3860</td>\n",
              "      <td>3860</td>\n",
              "      <td>3860</td>\n",
              "      <td>3860</td>\n",
              "      <td>3860</td>\n",
              "      <td>3860</td>\n",
              "      <td>3860</td>\n",
              "      <td>3860</td>\n",
              "      <td>3860</td>\n",
              "      <td>3860</td>\n",
              "      <td>...</td>\n",
              "      <td>3860</td>\n",
              "      <td>3860</td>\n",
              "      <td>3860</td>\n",
              "      <td>3860</td>\n",
              "      <td>3860</td>\n",
              "      <td>3860</td>\n",
              "      <td>3860</td>\n",
              "      <td>3860</td>\n",
              "      <td>3860</td>\n",
              "      <td>3860</td>\n",
              "    </tr>\n",
              "    <tr>\n",
              "      <th rowspan=\"2\" valign=\"top\">February</th>\n",
              "      <th>2016</th>\n",
              "      <td>3891</td>\n",
              "      <td>3891</td>\n",
              "      <td>3891</td>\n",
              "      <td>3891</td>\n",
              "      <td>3891</td>\n",
              "      <td>3891</td>\n",
              "      <td>3891</td>\n",
              "      <td>3891</td>\n",
              "      <td>3891</td>\n",
              "      <td>3891</td>\n",
              "      <td>...</td>\n",
              "      <td>3891</td>\n",
              "      <td>3891</td>\n",
              "      <td>3891</td>\n",
              "      <td>3891</td>\n",
              "      <td>3891</td>\n",
              "      <td>3891</td>\n",
              "      <td>3891</td>\n",
              "      <td>3891</td>\n",
              "      <td>3891</td>\n",
              "      <td>3891</td>\n",
              "    </tr>\n",
              "    <tr>\n",
              "      <th>2017</th>\n",
              "      <td>4177</td>\n",
              "      <td>4177</td>\n",
              "      <td>4177</td>\n",
              "      <td>4177</td>\n",
              "      <td>4177</td>\n",
              "      <td>4177</td>\n",
              "      <td>4177</td>\n",
              "      <td>4177</td>\n",
              "      <td>4177</td>\n",
              "      <td>4177</td>\n",
              "      <td>...</td>\n",
              "      <td>4177</td>\n",
              "      <td>4177</td>\n",
              "      <td>4177</td>\n",
              "      <td>4177</td>\n",
              "      <td>4177</td>\n",
              "      <td>4177</td>\n",
              "      <td>4177</td>\n",
              "      <td>4177</td>\n",
              "      <td>4177</td>\n",
              "      <td>4177</td>\n",
              "    </tr>\n",
              "    <tr>\n",
              "      <th rowspan=\"2\" valign=\"top\">January</th>\n",
              "      <th>2016</th>\n",
              "      <td>2248</td>\n",
              "      <td>2248</td>\n",
              "      <td>2248</td>\n",
              "      <td>2248</td>\n",
              "      <td>2248</td>\n",
              "      <td>2248</td>\n",
              "      <td>2248</td>\n",
              "      <td>2248</td>\n",
              "      <td>2248</td>\n",
              "      <td>2248</td>\n",
              "      <td>...</td>\n",
              "      <td>2248</td>\n",
              "      <td>2248</td>\n",
              "      <td>2248</td>\n",
              "      <td>2248</td>\n",
              "      <td>2248</td>\n",
              "      <td>2248</td>\n",
              "      <td>2248</td>\n",
              "      <td>2248</td>\n",
              "      <td>2248</td>\n",
              "      <td>2248</td>\n",
              "    </tr>\n",
              "    <tr>\n",
              "      <th>2017</th>\n",
              "      <td>3681</td>\n",
              "      <td>3681</td>\n",
              "      <td>3681</td>\n",
              "      <td>3681</td>\n",
              "      <td>3681</td>\n",
              "      <td>3681</td>\n",
              "      <td>3681</td>\n",
              "      <td>3681</td>\n",
              "      <td>3681</td>\n",
              "      <td>3681</td>\n",
              "      <td>...</td>\n",
              "      <td>3681</td>\n",
              "      <td>3681</td>\n",
              "      <td>3681</td>\n",
              "      <td>3681</td>\n",
              "      <td>3681</td>\n",
              "      <td>3681</td>\n",
              "      <td>3681</td>\n",
              "      <td>3681</td>\n",
              "      <td>3681</td>\n",
              "      <td>3681</td>\n",
              "    </tr>\n",
              "    <tr>\n",
              "      <th rowspan=\"3\" valign=\"top\">July</th>\n",
              "      <th>2015</th>\n",
              "      <td>2776</td>\n",
              "      <td>2776</td>\n",
              "      <td>2776</td>\n",
              "      <td>2776</td>\n",
              "      <td>2776</td>\n",
              "      <td>2776</td>\n",
              "      <td>2776</td>\n",
              "      <td>2776</td>\n",
              "      <td>2776</td>\n",
              "      <td>2776</td>\n",
              "      <td>...</td>\n",
              "      <td>2776</td>\n",
              "      <td>2776</td>\n",
              "      <td>2776</td>\n",
              "      <td>2776</td>\n",
              "      <td>2776</td>\n",
              "      <td>2776</td>\n",
              "      <td>2776</td>\n",
              "      <td>2776</td>\n",
              "      <td>2776</td>\n",
              "      <td>2776</td>\n",
              "    </tr>\n",
              "    <tr>\n",
              "      <th>2016</th>\n",
              "      <td>4572</td>\n",
              "      <td>4572</td>\n",
              "      <td>4572</td>\n",
              "      <td>4572</td>\n",
              "      <td>4572</td>\n",
              "      <td>4572</td>\n",
              "      <td>4572</td>\n",
              "      <td>4572</td>\n",
              "      <td>4572</td>\n",
              "      <td>4572</td>\n",
              "      <td>...</td>\n",
              "      <td>4572</td>\n",
              "      <td>4572</td>\n",
              "      <td>4572</td>\n",
              "      <td>4572</td>\n",
              "      <td>4572</td>\n",
              "      <td>4572</td>\n",
              "      <td>4572</td>\n",
              "      <td>4572</td>\n",
              "      <td>4572</td>\n",
              "      <td>4572</td>\n",
              "    </tr>\n",
              "    <tr>\n",
              "      <th>2017</th>\n",
              "      <td>5313</td>\n",
              "      <td>5313</td>\n",
              "      <td>5313</td>\n",
              "      <td>5313</td>\n",
              "      <td>5313</td>\n",
              "      <td>5313</td>\n",
              "      <td>5313</td>\n",
              "      <td>5313</td>\n",
              "      <td>5313</td>\n",
              "      <td>5313</td>\n",
              "      <td>...</td>\n",
              "      <td>5313</td>\n",
              "      <td>5313</td>\n",
              "      <td>5313</td>\n",
              "      <td>5313</td>\n",
              "      <td>5313</td>\n",
              "      <td>5313</td>\n",
              "      <td>5313</td>\n",
              "      <td>5313</td>\n",
              "      <td>5313</td>\n",
              "      <td>5313</td>\n",
              "    </tr>\n",
              "    <tr>\n",
              "      <th rowspan=\"2\" valign=\"top\">June</th>\n",
              "      <th>2016</th>\n",
              "      <td>5292</td>\n",
              "      <td>5292</td>\n",
              "      <td>5292</td>\n",
              "      <td>5292</td>\n",
              "      <td>5292</td>\n",
              "      <td>5292</td>\n",
              "      <td>5292</td>\n",
              "      <td>5292</td>\n",
              "      <td>5292</td>\n",
              "      <td>5292</td>\n",
              "      <td>...</td>\n",
              "      <td>5292</td>\n",
              "      <td>5292</td>\n",
              "      <td>5292</td>\n",
              "      <td>5292</td>\n",
              "      <td>5292</td>\n",
              "      <td>5292</td>\n",
              "      <td>5292</td>\n",
              "      <td>5292</td>\n",
              "      <td>5292</td>\n",
              "      <td>5292</td>\n",
              "    </tr>\n",
              "    <tr>\n",
              "      <th>2017</th>\n",
              "      <td>5647</td>\n",
              "      <td>5647</td>\n",
              "      <td>5647</td>\n",
              "      <td>5647</td>\n",
              "      <td>5647</td>\n",
              "      <td>5647</td>\n",
              "      <td>5647</td>\n",
              "      <td>5647</td>\n",
              "      <td>5647</td>\n",
              "      <td>5647</td>\n",
              "      <td>...</td>\n",
              "      <td>5647</td>\n",
              "      <td>5647</td>\n",
              "      <td>5647</td>\n",
              "      <td>5647</td>\n",
              "      <td>5647</td>\n",
              "      <td>5647</td>\n",
              "      <td>5647</td>\n",
              "      <td>5647</td>\n",
              "      <td>5647</td>\n",
              "      <td>5647</td>\n",
              "    </tr>\n",
              "    <tr>\n",
              "      <th rowspan=\"2\" valign=\"top\">March</th>\n",
              "      <th>2016</th>\n",
              "      <td>4824</td>\n",
              "      <td>4824</td>\n",
              "      <td>4824</td>\n",
              "      <td>4824</td>\n",
              "      <td>4824</td>\n",
              "      <td>4824</td>\n",
              "      <td>4824</td>\n",
              "      <td>4824</td>\n",
              "      <td>4824</td>\n",
              "      <td>4824</td>\n",
              "      <td>...</td>\n",
              "      <td>4824</td>\n",
              "      <td>4824</td>\n",
              "      <td>4824</td>\n",
              "      <td>4824</td>\n",
              "      <td>4824</td>\n",
              "      <td>4824</td>\n",
              "      <td>4824</td>\n",
              "      <td>4824</td>\n",
              "      <td>4824</td>\n",
              "      <td>4824</td>\n",
              "    </tr>\n",
              "    <tr>\n",
              "      <th>2017</th>\n",
              "      <td>4970</td>\n",
              "      <td>4970</td>\n",
              "      <td>4970</td>\n",
              "      <td>4970</td>\n",
              "      <td>4970</td>\n",
              "      <td>4970</td>\n",
              "      <td>4970</td>\n",
              "      <td>4970</td>\n",
              "      <td>4970</td>\n",
              "      <td>4970</td>\n",
              "      <td>...</td>\n",
              "      <td>4970</td>\n",
              "      <td>4970</td>\n",
              "      <td>4970</td>\n",
              "      <td>4970</td>\n",
              "      <td>4970</td>\n",
              "      <td>4970</td>\n",
              "      <td>4970</td>\n",
              "      <td>4970</td>\n",
              "      <td>4970</td>\n",
              "      <td>4970</td>\n",
              "    </tr>\n",
              "    <tr>\n",
              "      <th rowspan=\"2\" valign=\"top\">May</th>\n",
              "      <th>2016</th>\n",
              "      <td>5478</td>\n",
              "      <td>5478</td>\n",
              "      <td>5478</td>\n",
              "      <td>5478</td>\n",
              "      <td>5478</td>\n",
              "      <td>5478</td>\n",
              "      <td>5478</td>\n",
              "      <td>5478</td>\n",
              "      <td>5478</td>\n",
              "      <td>5478</td>\n",
              "      <td>...</td>\n",
              "      <td>5478</td>\n",
              "      <td>5478</td>\n",
              "      <td>5478</td>\n",
              "      <td>5478</td>\n",
              "      <td>5478</td>\n",
              "      <td>5478</td>\n",
              "      <td>5478</td>\n",
              "      <td>5478</td>\n",
              "      <td>5478</td>\n",
              "      <td>5478</td>\n",
              "    </tr>\n",
              "    <tr>\n",
              "      <th>2017</th>\n",
              "      <td>6313</td>\n",
              "      <td>6313</td>\n",
              "      <td>6313</td>\n",
              "      <td>6313</td>\n",
              "      <td>6313</td>\n",
              "      <td>6313</td>\n",
              "      <td>6313</td>\n",
              "      <td>6313</td>\n",
              "      <td>6313</td>\n",
              "      <td>6313</td>\n",
              "      <td>...</td>\n",
              "      <td>6313</td>\n",
              "      <td>6313</td>\n",
              "      <td>6313</td>\n",
              "      <td>6313</td>\n",
              "      <td>6313</td>\n",
              "      <td>6313</td>\n",
              "      <td>6313</td>\n",
              "      <td>6313</td>\n",
              "      <td>6313</td>\n",
              "      <td>6313</td>\n",
              "    </tr>\n",
              "    <tr>\n",
              "      <th rowspan=\"2\" valign=\"top\">November</th>\n",
              "      <th>2015</th>\n",
              "      <td>2340</td>\n",
              "      <td>2340</td>\n",
              "      <td>2340</td>\n",
              "      <td>2340</td>\n",
              "      <td>2340</td>\n",
              "      <td>2340</td>\n",
              "      <td>2340</td>\n",
              "      <td>2340</td>\n",
              "      <td>2340</td>\n",
              "      <td>2340</td>\n",
              "      <td>...</td>\n",
              "      <td>2340</td>\n",
              "      <td>2340</td>\n",
              "      <td>2340</td>\n",
              "      <td>2340</td>\n",
              "      <td>2340</td>\n",
              "      <td>2340</td>\n",
              "      <td>2340</td>\n",
              "      <td>2340</td>\n",
              "      <td>2340</td>\n",
              "      <td>2340</td>\n",
              "    </tr>\n",
              "    <tr>\n",
              "      <th>2016</th>\n",
              "      <td>4454</td>\n",
              "      <td>4454</td>\n",
              "      <td>4454</td>\n",
              "      <td>4454</td>\n",
              "      <td>4454</td>\n",
              "      <td>4454</td>\n",
              "      <td>4454</td>\n",
              "      <td>4454</td>\n",
              "      <td>4454</td>\n",
              "      <td>4454</td>\n",
              "      <td>...</td>\n",
              "      <td>4454</td>\n",
              "      <td>4454</td>\n",
              "      <td>4454</td>\n",
              "      <td>4454</td>\n",
              "      <td>4454</td>\n",
              "      <td>4454</td>\n",
              "      <td>4454</td>\n",
              "      <td>4454</td>\n",
              "      <td>4454</td>\n",
              "      <td>4454</td>\n",
              "    </tr>\n",
              "    <tr>\n",
              "      <th rowspan=\"2\" valign=\"top\">October</th>\n",
              "      <th>2015</th>\n",
              "      <td>4957</td>\n",
              "      <td>4957</td>\n",
              "      <td>4957</td>\n",
              "      <td>4957</td>\n",
              "      <td>4957</td>\n",
              "      <td>4957</td>\n",
              "      <td>4957</td>\n",
              "      <td>4957</td>\n",
              "      <td>4957</td>\n",
              "      <td>4957</td>\n",
              "      <td>...</td>\n",
              "      <td>4957</td>\n",
              "      <td>4957</td>\n",
              "      <td>4957</td>\n",
              "      <td>4957</td>\n",
              "      <td>4957</td>\n",
              "      <td>4957</td>\n",
              "      <td>4957</td>\n",
              "      <td>4957</td>\n",
              "      <td>4957</td>\n",
              "      <td>4957</td>\n",
              "    </tr>\n",
              "    <tr>\n",
              "      <th>2016</th>\n",
              "      <td>6203</td>\n",
              "      <td>6203</td>\n",
              "      <td>6203</td>\n",
              "      <td>6203</td>\n",
              "      <td>6203</td>\n",
              "      <td>6203</td>\n",
              "      <td>6203</td>\n",
              "      <td>6203</td>\n",
              "      <td>6203</td>\n",
              "      <td>6203</td>\n",
              "      <td>...</td>\n",
              "      <td>6203</td>\n",
              "      <td>6203</td>\n",
              "      <td>6203</td>\n",
              "      <td>6203</td>\n",
              "      <td>6203</td>\n",
              "      <td>6203</td>\n",
              "      <td>6203</td>\n",
              "      <td>6203</td>\n",
              "      <td>6203</td>\n",
              "      <td>6203</td>\n",
              "    </tr>\n",
              "    <tr>\n",
              "      <th rowspan=\"2\" valign=\"top\">September</th>\n",
              "      <th>2015</th>\n",
              "      <td>5114</td>\n",
              "      <td>5114</td>\n",
              "      <td>5114</td>\n",
              "      <td>5114</td>\n",
              "      <td>5114</td>\n",
              "      <td>5114</td>\n",
              "      <td>5114</td>\n",
              "      <td>5114</td>\n",
              "      <td>5114</td>\n",
              "      <td>5114</td>\n",
              "      <td>...</td>\n",
              "      <td>5114</td>\n",
              "      <td>5114</td>\n",
              "      <td>5114</td>\n",
              "      <td>5114</td>\n",
              "      <td>5114</td>\n",
              "      <td>5114</td>\n",
              "      <td>5114</td>\n",
              "      <td>5114</td>\n",
              "      <td>5114</td>\n",
              "      <td>5114</td>\n",
              "    </tr>\n",
              "    <tr>\n",
              "      <th>2016</th>\n",
              "      <td>5394</td>\n",
              "      <td>5394</td>\n",
              "      <td>5394</td>\n",
              "      <td>5394</td>\n",
              "      <td>5394</td>\n",
              "      <td>5394</td>\n",
              "      <td>5394</td>\n",
              "      <td>5394</td>\n",
              "      <td>5394</td>\n",
              "      <td>5394</td>\n",
              "      <td>...</td>\n",
              "      <td>5394</td>\n",
              "      <td>5394</td>\n",
              "      <td>5394</td>\n",
              "      <td>5394</td>\n",
              "      <td>5394</td>\n",
              "      <td>5394</td>\n",
              "      <td>5394</td>\n",
              "      <td>5394</td>\n",
              "      <td>5394</td>\n",
              "      <td>5394</td>\n",
              "    </tr>\n",
              "  </tbody>\n",
              "</table>\n",
              "<p>26 rows × 24 columns</p>\n",
              "</div>\n",
              "      <button class=\"colab-df-convert\" onclick=\"convertToInteractive('df-b7f8abfd-1bac-42d0-ad81-b2264ecb7bf1')\"\n",
              "              title=\"Convert this dataframe to an interactive table.\"\n",
              "              style=\"display:none;\">\n",
              "        \n",
              "  <svg xmlns=\"http://www.w3.org/2000/svg\" height=\"24px\"viewBox=\"0 0 24 24\"\n",
              "       width=\"24px\">\n",
              "    <path d=\"M0 0h24v24H0V0z\" fill=\"none\"/>\n",
              "    <path d=\"M18.56 5.44l.94 2.06.94-2.06 2.06-.94-2.06-.94-.94-2.06-.94 2.06-2.06.94zm-11 1L8.5 8.5l.94-2.06 2.06-.94-2.06-.94L8.5 2.5l-.94 2.06-2.06.94zm10 10l.94 2.06.94-2.06 2.06-.94-2.06-.94-.94-2.06-.94 2.06-2.06.94z\"/><path d=\"M17.41 7.96l-1.37-1.37c-.4-.4-.92-.59-1.43-.59-.52 0-1.04.2-1.43.59L10.3 9.45l-7.72 7.72c-.78.78-.78 2.05 0 2.83L4 21.41c.39.39.9.59 1.41.59.51 0 1.02-.2 1.41-.59l7.78-7.78 2.81-2.81c.8-.78.8-2.07 0-2.86zM5.41 20L4 18.59l7.72-7.72 1.47 1.35L5.41 20z\"/>\n",
              "  </svg>\n",
              "      </button>\n",
              "      \n",
              "  <style>\n",
              "    .colab-df-container {\n",
              "      display:flex;\n",
              "      flex-wrap:wrap;\n",
              "      gap: 12px;\n",
              "    }\n",
              "\n",
              "    .colab-df-convert {\n",
              "      background-color: #E8F0FE;\n",
              "      border: none;\n",
              "      border-radius: 50%;\n",
              "      cursor: pointer;\n",
              "      display: none;\n",
              "      fill: #1967D2;\n",
              "      height: 32px;\n",
              "      padding: 0 0 0 0;\n",
              "      width: 32px;\n",
              "    }\n",
              "\n",
              "    .colab-df-convert:hover {\n",
              "      background-color: #E2EBFA;\n",
              "      box-shadow: 0px 1px 2px rgba(60, 64, 67, 0.3), 0px 1px 3px 1px rgba(60, 64, 67, 0.15);\n",
              "      fill: #174EA6;\n",
              "    }\n",
              "\n",
              "    [theme=dark] .colab-df-convert {\n",
              "      background-color: #3B4455;\n",
              "      fill: #D2E3FC;\n",
              "    }\n",
              "\n",
              "    [theme=dark] .colab-df-convert:hover {\n",
              "      background-color: #434B5C;\n",
              "      box-shadow: 0px 1px 3px 1px rgba(0, 0, 0, 0.15);\n",
              "      filter: drop-shadow(0px 1px 2px rgba(0, 0, 0, 0.3));\n",
              "      fill: #FFFFFF;\n",
              "    }\n",
              "  </style>\n",
              "\n",
              "      <script>\n",
              "        const buttonEl =\n",
              "          document.querySelector('#df-b7f8abfd-1bac-42d0-ad81-b2264ecb7bf1 button.colab-df-convert');\n",
              "        buttonEl.style.display =\n",
              "          google.colab.kernel.accessAllowed ? 'block' : 'none';\n",
              "\n",
              "        async function convertToInteractive(key) {\n",
              "          const element = document.querySelector('#df-b7f8abfd-1bac-42d0-ad81-b2264ecb7bf1');\n",
              "          const dataTable =\n",
              "            await google.colab.kernel.invokeFunction('convertToInteractive',\n",
              "                                                     [key], {});\n",
              "          if (!dataTable) return;\n",
              "\n",
              "          const docLinkHtml = 'Like what you see? Visit the ' +\n",
              "            '<a target=\"_blank\" href=https://colab.research.google.com/notebooks/data_table.ipynb>data table notebook</a>'\n",
              "            + ' to learn more about interactive tables.';\n",
              "          element.innerHTML = '';\n",
              "          dataTable['output_type'] = 'display_data';\n",
              "          await google.colab.output.renderOutput(dataTable, element);\n",
              "          const docLink = document.createElement('div');\n",
              "          docLink.innerHTML = docLinkHtml;\n",
              "          element.appendChild(docLink);\n",
              "        }\n",
              "      </script>\n",
              "    </div>\n",
              "  </div>\n",
              "  "
            ]
          },
          "metadata": {},
          "execution_count": 34
        }
      ],
      "source": [
        "df.groupby(['arrival_date_month', 'arrival_date_year']).count()"
      ]
    },
    {
      "cell_type": "code",
      "source": [
        "sns.set_style('darkgrid')\n",
        "plt.rcParams['figure.figsize'] = (12,6)\n",
        "plt.rcParams['font.size'] = 10"
      ],
      "metadata": {
        "id": "otgx1RaBZOS3"
      },
      "execution_count": null,
      "outputs": []
    },
    {
      "cell_type": "code",
      "source": [
        "sns.countplot(x = 'arrival_date_month', data = df, hue = 'hotel').set_title('Monthly Bookings')"
      ],
      "metadata": {
        "id": "ATD-vIjsZ69p",
        "outputId": "fe4116c7-c0ff-4c98-9d91-d2964b48b380",
        "colab": {
          "base_uri": "https://localhost:8080/"
        }
      },
      "execution_count": null,
      "outputs": [
        {
          "output_type": "execute_result",
          "data": {
            "text/plain": [
              "Text(0.5, 1.0, 'Monthly Bookings')"
            ]
          },
          "metadata": {},
          "execution_count": 36
        },
        {
          "output_type": "display_data",
          "data": {
            "text/plain": [
              "<Figure size 864x432 with 1 Axes>"
            ],
            "image/png": "[encoded data removed]"
          },
          "metadata": {}
        }
      ]
    },
    {
      "cell_type": "markdown",
      "metadata": {
        "id": "nvbOZoES1VKH"
      },
      "source": [
        "**Observations - Here we can clearly see that August Month has the highest bookings in both of the hotels. So over all the years August month is the busiest month for both of the hotels**"
      ]
    },
    {
      "cell_type": "markdown",
      "metadata": {
        "id": "hzpHHwULeYK4"
      },
      "source": [
        "## **Question4) What is the data for the repetition of guests for both of the hotels?**"
      ]
    },
    {
      "cell_type": "code",
      "execution_count": null,
      "metadata": {
        "id": "OFZYx2Wkz2Mp",
        "colab": {
          "base_uri": "https://localhost:8080/"
        },
        "outputId": "27e21a2c-eb37-40b7-d0bd-db71f79fb65e"
      },
      "outputs": [
        {
          "output_type": "execute_result",
          "data": {
            "text/plain": [
              "   is_repeated_guest\n",
              "0             115580\n",
              "1               3810"
            ],
            "text/html": [
              "\n",
              "  <div id=\"df-cbe9d304-dc00-4c92-9371-72071c5e5d42\">\n",
              "    <div class=\"colab-df-container\">\n",
              "      <div>\n",
              "<style scoped>\n",
              "    .dataframe tbody tr th:only-of-type {\n",
              "        vertical-align: middle;\n",
              "    }\n",
              "\n",
              "    .dataframe tbody tr th {\n",
              "        vertical-align: top;\n",
              "    }\n",
              "\n",
              "    .dataframe thead th {\n",
              "        text-align: right;\n",
              "    }\n",
              "</style>\n",
              "<table border=\"1\" class=\"dataframe\">\n",
              "  <thead>\n",
              "    <tr style=\"text-align: right;\">\n",
              "      <th></th>\n",
              "      <th>is_repeated_guest</th>\n",
              "    </tr>\n",
              "  </thead>\n",
              "  <tbody>\n",
              "    <tr>\n",
              "      <th>0</th>\n",
              "      <td>115580</td>\n",
              "    </tr>\n",
              "    <tr>\n",
              "      <th>1</th>\n",
              "      <td>3810</td>\n",
              "    </tr>\n",
              "  </tbody>\n",
              "</table>\n",
              "</div>\n",
              "      <button class=\"colab-df-convert\" onclick=\"convertToInteractive('df-cbe9d304-dc00-4c92-9371-72071c5e5d42')\"\n",
              "              title=\"Convert this dataframe to an interactive table.\"\n",
              "              style=\"display:none;\">\n",
              "        \n",
              "  <svg xmlns=\"http://www.w3.org/2000/svg\" height=\"24px\"viewBox=\"0 0 24 24\"\n",
              "       width=\"24px\">\n",
              "    <path d=\"M0 0h24v24H0V0z\" fill=\"none\"/>\n",
              "    <path d=\"M18.56 5.44l.94 2.06.94-2.06 2.06-.94-2.06-.94-.94-2.06-.94 2.06-2.06.94zm-11 1L8.5 8.5l.94-2.06 2.06-.94-2.06-.94L8.5 2.5l-.94 2.06-2.06.94zm10 10l.94 2.06.94-2.06 2.06-.94-2.06-.94-.94-2.06-.94 2.06-2.06.94z\"/><path d=\"M17.41 7.96l-1.37-1.37c-.4-.4-.92-.59-1.43-.59-.52 0-1.04.2-1.43.59L10.3 9.45l-7.72 7.72c-.78.78-.78 2.05 0 2.83L4 21.41c.39.39.9.59 1.41.59.51 0 1.02-.2 1.41-.59l7.78-7.78 2.81-2.81c.8-.78.8-2.07 0-2.86zM5.41 20L4 18.59l7.72-7.72 1.47 1.35L5.41 20z\"/>\n",
              "  </svg>\n",
              "      </button>\n",
              "      \n",
              "  <style>\n",
              "    .colab-df-container {\n",
              "      display:flex;\n",
              "      flex-wrap:wrap;\n",
              "      gap: 12px;\n",
              "    }\n",
              "\n",
              "    .colab-df-convert {\n",
              "      background-color: #E8F0FE;\n",
              "      border: none;\n",
              "      border-radius: 50%;\n",
              "      cursor: pointer;\n",
              "      display: none;\n",
              "      fill: #1967D2;\n",
              "      height: 32px;\n",
              "      padding: 0 0 0 0;\n",
              "      width: 32px;\n",
              "    }\n",
              "\n",
              "    .colab-df-convert:hover {\n",
              "      background-color: #E2EBFA;\n",
              "      box-shadow: 0px 1px 2px rgba(60, 64, 67, 0.3), 0px 1px 3px 1px rgba(60, 64, 67, 0.15);\n",
              "      fill: #174EA6;\n",
              "    }\n",
              "\n",
              "    [theme=dark] .colab-df-convert {\n",
              "      background-color: #3B4455;\n",
              "      fill: #D2E3FC;\n",
              "    }\n",
              "\n",
              "    [theme=dark] .colab-df-convert:hover {\n",
              "      background-color: #434B5C;\n",
              "      box-shadow: 0px 1px 3px 1px rgba(0, 0, 0, 0.15);\n",
              "      filter: drop-shadow(0px 1px 2px rgba(0, 0, 0, 0.3));\n",
              "      fill: #FFFFFF;\n",
              "    }\n",
              "  </style>\n",
              "\n",
              "      <script>\n",
              "        const buttonEl =\n",
              "          document.querySelector('#df-cbe9d304-dc00-4c92-9371-72071c5e5d42 button.colab-df-convert');\n",
              "        buttonEl.style.display =\n",
              "          google.colab.kernel.accessAllowed ? 'block' : 'none';\n",
              "\n",
              "        async function convertToInteractive(key) {\n",
              "          const element = document.querySelector('#df-cbe9d304-dc00-4c92-9371-72071c5e5d42');\n",
              "          const dataTable =\n",
              "            await google.colab.kernel.invokeFunction('convertToInteractive',\n",
              "                                                     [key], {});\n",
              "          if (!dataTable) return;\n",
              "\n",
              "          const docLinkHtml = 'Like what you see? Visit the ' +\n",
              "            '<a target=\"_blank\" href=https://colab.research.google.com/notebooks/data_table.ipynb>data table notebook</a>'\n",
              "            + ' to learn more about interactive tables.';\n",
              "          element.innerHTML = '';\n",
              "          dataTable['output_type'] = 'display_data';\n",
              "          await google.colab.output.renderOutput(dataTable, element);\n",
              "          const docLink = document.createElement('div');\n",
              "          docLink.innerHTML = docLinkHtml;\n",
              "          element.appendChild(docLink);\n",
              "        }\n",
              "      </script>\n",
              "    </div>\n",
              "  </div>\n",
              "  "
            ]
          },
          "metadata": {},
          "execution_count": 37
        }
      ],
      "source": [
        "pd.DataFrame(df['is_repeated_guest'].value_counts())"
      ]
    },
    {
      "cell_type": "code",
      "execution_count": null,
      "metadata": {
        "id": "96U6xwuj3pyq"
      },
      "outputs": [],
      "source": [
        "sns.countplot\n",
        "plt.rcParams['figure.figsize'] = (12,5)"
      ]
    },
    {
      "cell_type": "markdown",
      "metadata": {
        "id": "pnx4Ni0TDDYD"
      },
      "source": [
        "**Repeated Guests**"
      ]
    },
    {
      "cell_type": "code",
      "execution_count": null,
      "metadata": {
        "id": "yYZ853iHCoUc",
        "colab": {
          "base_uri": "https://localhost:8080/"
        },
        "outputId": "1dbcf96d-1694-46a4-fd2f-f48622a60b63"
      },
      "outputs": [
        {
          "output_type": "execute_result",
          "data": {
            "text/plain": [
              "3810"
            ]
          },
          "metadata": {},
          "execution_count": 39
        }
      ],
      "source": [
        "(df['is_repeated_guest']!=0).sum()\n"
      ]
    },
    {
      "cell_type": "markdown",
      "metadata": {
        "id": "Xla-lLpuDJpc"
      },
      "source": [
        "**Total number of guest**"
      ]
    },
    {
      "cell_type": "code",
      "execution_count": null,
      "metadata": {
        "id": "YeIXkcZqC3Db",
        "colab": {
          "base_uri": "https://localhost:8080/"
        },
        "outputId": "ed782c12-93c5-41f1-f7ee-0929a400182e"
      },
      "outputs": [
        {
          "output_type": "execute_result",
          "data": {
            "text/plain": [
              "119390"
            ]
          },
          "metadata": {},
          "execution_count": 40
        }
      ],
      "source": [
        "df['is_repeated_guest'].value_counts().sum()"
      ]
    },
    {
      "cell_type": "markdown",
      "metadata": {
        "id": "kEXaEKLlDO9F"
      },
      "source": [
        "**Calculating percentage of repeated guest**"
      ]
    },
    {
      "cell_type": "code",
      "execution_count": null,
      "metadata": {
        "id": "HOERtzxKC7eD",
        "colab": {
          "base_uri": "https://localhost:8080/"
        },
        "outputId": "aef0e6f2-95f4-4efe-93aa-b31af1701dbd"
      },
      "outputs": [
        {
          "output_type": "execute_result",
          "data": {
            "text/plain": [
              "3.191222045397437"
            ]
          },
          "metadata": {},
          "execution_count": 41
        }
      ],
      "source": [
        "((df['is_repeated_guest']!=0).sum()/df['is_repeated_guest'].value_counts().sum())*100"
      ]
    },
    {
      "cell_type": "code",
      "execution_count": null,
      "metadata": {
        "id": "IaWtEEek2ktT",
        "colab": {
          "base_uri": "https://localhost:8080/"
        },
        "outputId": "a0f912a2-58cb-4ebd-9279-9d7afa001438"
      },
      "outputs": [
        {
          "output_type": "display_data",
          "data": {
            "text/plain": [
              "<Figure size 864x360 with 1 Axes>"
            ],
            "image/png": "[encoded data removed]"
          },
          "metadata": {}
        }
      ],
      "source": [
        "ax = sns.countplot(x = 'is_repeated_guest', data = df, hue= 'hotel').set_title('Repeated_guest')"
      ]
    },
    {
      "cell_type": "markdown",
      "metadata": {
        "id": "yKSBXLxPDjsl"
      },
      "source": [
        "**Observations - So, possiblity of repeated customers is approx 3.2%.**"
      ]
    },
    {
      "cell_type": "markdown",
      "metadata": {
        "id": "SP75-oDyg3AL"
      },
      "source": [
        "## **Question5) Which hotel has longer waiting time?**"
      ]
    },
    {
      "cell_type": "code",
      "execution_count": null,
      "metadata": {
        "id": "y-ZwSXEo3lWg",
        "colab": {
          "base_uri": "https://localhost:8080/"
        },
        "outputId": "50e5ef0f-ac20-4031-ad24-36382f055964"
      },
      "outputs": [
        {
          "output_type": "execute_result",
          "data": {
            "text/plain": [
              "          hotel  avg_waiting_period\n",
              "0    City Hotel            3.226774\n",
              "1  Resort Hotel            0.527758"
            ],
            "text/html": [
              "\n",
              "  <div id=\"df-d0f0203a-c721-4f45-897a-f98e1f1c33d3\">\n",
              "    <div class=\"colab-df-container\">\n",
              "      <div>\n",
              "<style scoped>\n",
              "    .dataframe tbody tr th:only-of-type {\n",
              "        vertical-align: middle;\n",
              "    }\n",
              "\n",
              "    .dataframe tbody tr th {\n",
              "        vertical-align: top;\n",
              "    }\n",
              "\n",
              "    .dataframe thead th {\n",
              "        text-align: right;\n",
              "    }\n",
              "</style>\n",
              "<table border=\"1\" class=\"dataframe\">\n",
              "  <thead>\n",
              "    <tr style=\"text-align: right;\">\n",
              "      <th></th>\n",
              "      <th>hotel</th>\n",
              "      <th>avg_waiting_period</th>\n",
              "    </tr>\n",
              "  </thead>\n",
              "  <tbody>\n",
              "    <tr>\n",
              "      <th>0</th>\n",
              "      <td>City Hotel</td>\n",
              "      <td>3.226774</td>\n",
              "    </tr>\n",
              "    <tr>\n",
              "      <th>1</th>\n",
              "      <td>Resort Hotel</td>\n",
              "      <td>0.527758</td>\n",
              "    </tr>\n",
              "  </tbody>\n",
              "</table>\n",
              "</div>\n",
              "      <button class=\"colab-df-convert\" onclick=\"convertToInteractive('df-d0f0203a-c721-4f45-897a-f98e1f1c33d3')\"\n",
              "              title=\"Convert this dataframe to an interactive table.\"\n",
              "              style=\"display:none;\">\n",
              "        \n",
              "  <svg xmlns=\"http://www.w3.org/2000/svg\" height=\"24px\"viewBox=\"0 0 24 24\"\n",
              "       width=\"24px\">\n",
              "    <path d=\"M0 0h24v24H0V0z\" fill=\"none\"/>\n",
              "    <path d=\"M18.56 5.44l.94 2.06.94-2.06 2.06-.94-2.06-.94-.94-2.06-.94 2.06-2.06.94zm-11 1L8.5 8.5l.94-2.06 2.06-.94-2.06-.94L8.5 2.5l-.94 2.06-2.06.94zm10 10l.94 2.06.94-2.06 2.06-.94-2.06-.94-.94-2.06-.94 2.06-2.06.94z\"/><path d=\"M17.41 7.96l-1.37-1.37c-.4-.4-.92-.59-1.43-.59-.52 0-1.04.2-1.43.59L10.3 9.45l-7.72 7.72c-.78.78-.78 2.05 0 2.83L4 21.41c.39.39.9.59 1.41.59.51 0 1.02-.2 1.41-.59l7.78-7.78 2.81-2.81c.8-.78.8-2.07 0-2.86zM5.41 20L4 18.59l7.72-7.72 1.47 1.35L5.41 20z\"/>\n",
              "  </svg>\n",
              "      </button>\n",
              "      \n",
              "  <style>\n",
              "    .colab-df-container {\n",
              "      display:flex;\n",
              "      flex-wrap:wrap;\n",
              "      gap: 12px;\n",
              "    }\n",
              "\n",
              "    .colab-df-convert {\n",
              "      background-color: #E8F0FE;\n",
              "      border: none;\n",
              "      border-radius: 50%;\n",
              "      cursor: pointer;\n",
              "      display: none;\n",
              "      fill: #1967D2;\n",
              "      height: 32px;\n",
              "      padding: 0 0 0 0;\n",
              "      width: 32px;\n",
              "    }\n",
              "\n",
              "    .colab-df-convert:hover {\n",
              "      background-color: #E2EBFA;\n",
              "      box-shadow: 0px 1px 2px rgba(60, 64, 67, 0.3), 0px 1px 3px 1px rgba(60, 64, 67, 0.15);\n",
              "      fill: #174EA6;\n",
              "    }\n",
              "\n",
              "    [theme=dark] .colab-df-convert {\n",
              "      background-color: #3B4455;\n",
              "      fill: #D2E3FC;\n",
              "    }\n",
              "\n",
              "    [theme=dark] .colab-df-convert:hover {\n",
              "      background-color: #434B5C;\n",
              "      box-shadow: 0px 1px 3px 1px rgba(0, 0, 0, 0.15);\n",
              "      filter: drop-shadow(0px 1px 2px rgba(0, 0, 0, 0.3));\n",
              "      fill: #FFFFFF;\n",
              "    }\n",
              "  </style>\n",
              "\n",
              "      <script>\n",
              "        const buttonEl =\n",
              "          document.querySelector('#df-d0f0203a-c721-4f45-897a-f98e1f1c33d3 button.colab-df-convert');\n",
              "        buttonEl.style.display =\n",
              "          google.colab.kernel.accessAllowed ? 'block' : 'none';\n",
              "\n",
              "        async function convertToInteractive(key) {\n",
              "          const element = document.querySelector('#df-d0f0203a-c721-4f45-897a-f98e1f1c33d3');\n",
              "          const dataTable =\n",
              "            await google.colab.kernel.invokeFunction('convertToInteractive',\n",
              "                                                     [key], {});\n",
              "          if (!dataTable) return;\n",
              "\n",
              "          const docLinkHtml = 'Like what you see? Visit the ' +\n",
              "            '<a target=\"_blank\" href=https://colab.research.google.com/notebooks/data_table.ipynb>data table notebook</a>'\n",
              "            + ' to learn more about interactive tables.';\n",
              "          element.innerHTML = '';\n",
              "          dataTable['output_type'] = 'display_data';\n",
              "          await google.colab.output.renderOutput(dataTable, element);\n",
              "          const docLink = document.createElement('div');\n",
              "          docLink.innerHTML = docLinkHtml;\n",
              "          element.appendChild(docLink);\n",
              "        }\n",
              "      </script>\n",
              "    </div>\n",
              "  </div>\n",
              "  "
            ]
          },
          "metadata": {},
          "execution_count": 43
        }
      ],
      "source": [
        "avg_waiting_time_of_hotels = pd.DataFrame(grouped_by_hotel['days_in_waiting_list'].agg(np.mean).reset_index().rename(columns = {'days_in_waiting_list':'avg_waiting_period'}))\n",
        "avg_waiting_time_of_hotels"
      ]
    },
    {
      "cell_type": "code",
      "execution_count": null,
      "metadata": {
        "id": "8tLNPqeSHt26",
        "colab": {
          "base_uri": "https://localhost:8080/"
        },
        "outputId": "bc2a3799-3dc2-4eb5-ef4b-4e33f8357d26"
      },
      "outputs": [
        {
          "output_type": "display_data",
          "data": {
            "text/plain": [
              "<Figure size 360x360 with 1 Axes>"
            ],
            "image/png": "[encoded data removed]"
          },
          "metadata": {}
        }
      ],
      "source": [
        "plt.figure(figsize = (5,5))\n",
        "sns.barplot(x = avg_waiting_time_of_hotels['hotel'], y = avg_waiting_time_of_hotels['avg_waiting_period'])\n",
        "plt.show()"
      ]
    },
    {
      "cell_type": "markdown",
      "metadata": {
        "id": "sEYiOQ-2KcVW"
      },
      "source": [
        "**Observations - City hotel has significantly longer waiting time, hence City Hotel is much busier than Resort Hotel.**"
      ]
    },
    {
      "cell_type": "markdown",
      "metadata": {
        "id": "N34mKxMkhveT"
      },
      "source": [
        "## **Question6) Find the number of customers who booked Resort hotel and City and not cancelled booking further.**"
      ]
    },
    {
      "cell_type": "code",
      "execution_count": null,
      "metadata": {
        "id": "tmq-j0nOJx2D"
      },
      "outputs": [],
      "source": [
        "resort_booking = df[(df['hotel']=='Resort Hotel') & (df['is_canceled'] == 0)]\n"
      ]
    },
    {
      "cell_type": "code",
      "source": [
        "len(resort_booking)"
      ],
      "metadata": {
        "id": "rRXqqoKjl98a",
        "outputId": "e8460a49-7df3-440e-979e-f39de9bf4d85",
        "colab": {
          "base_uri": "https://localhost:8080/"
        }
      },
      "execution_count": null,
      "outputs": [
        {
          "output_type": "execute_result",
          "data": {
            "text/plain": [
              "28938"
            ]
          },
          "metadata": {},
          "execution_count": 46
        }
      ]
    },
    {
      "cell_type": "code",
      "execution_count": null,
      "metadata": {
        "id": "jIFvntbC8pNp"
      },
      "outputs": [],
      "source": [
        "city_booking = df[(df['hotel'] == 'City Hotel') & (df['is_canceled'] == 0)]"
      ]
    },
    {
      "cell_type": "code",
      "source": [
        "len(city_booking)"
      ],
      "metadata": {
        "id": "KdS3Wa8nmQ5K",
        "outputId": "af859776-7bf8-4c2f-c614-e7bc2ac2ada4",
        "colab": {
          "base_uri": "https://localhost:8080/"
        }
      },
      "execution_count": null,
      "outputs": [
        {
          "output_type": "execute_result",
          "data": {
            "text/plain": [
              "46228"
            ]
          },
          "metadata": {},
          "execution_count": 48
        }
      ]
    },
    {
      "cell_type": "markdown",
      "metadata": {
        "id": "RRvVhLwB_Cin"
      },
      "source": [
        "**Observations - There are 46228 Customers who booked Resort hotel and not cancelled it further also there are 28938 Customers who booked Resort hotel and not cancelled it further.**"
      ]
    },
    {
      "cell_type": "markdown",
      "metadata": {
        "id": "mF8j1HR1uX4V"
      },
      "source": [
        "## **Question 7) Find the first three months with maximum number of bookings and average rent across all the months for both Resort Hotel and City hotel.**"
      ]
    },
    {
      "cell_type": "markdown",
      "source": [
        "**Calculating months which have maximum number of bookings.**"
      ],
      "metadata": {
        "id": "0h9bEC-Tx8yg"
      }
    },
    {
      "cell_type": "code",
      "source": [
        "all_booking = df[df['is_canceled'] == 0]\n",
        "all_booking.shape"
      ],
      "metadata": {
        "id": "qgopFBlGzFJI",
        "outputId": "2ada8cd8-f4c2-4158-eb42-09279bc0240d",
        "colab": {
          "base_uri": "https://localhost:8080/"
        }
      },
      "execution_count": null,
      "outputs": [
        {
          "output_type": "execute_result",
          "data": {
            "text/plain": [
              "(75166, 26)"
            ]
          },
          "metadata": {},
          "execution_count": 49
        }
      ]
    },
    {
      "cell_type": "code",
      "source": [
        "count_bookings = all_booking['arrival_date_month'].value_counts().head(3).reset_index().rename(columns = {'index':'Country','arrival_date_month':'Count'})\n",
        "count_bookings"
      ],
      "metadata": {
        "id": "7wYMM1J9z986",
        "outputId": "05202719-c4f6-45a2-d84f-995cfc764f0a",
        "colab": {
          "base_uri": "https://localhost:8080/"
        }
      },
      "execution_count": null,
      "outputs": [
        {
          "output_type": "execute_result",
          "data": {
            "text/plain": [
              "  Country  Count\n",
              "0  August   8638\n",
              "1    July   7919\n",
              "2     May   7114"
            ],
            "text/html": [
              "\n",
              "  <div id=\"df-c07613dd-2dd5-4107-a0b7-b5bd7159bf5b\">\n",
              "    <div class=\"colab-df-container\">\n",
              "      <div>\n",
              "<style scoped>\n",
              "    .dataframe tbody tr th:only-of-type {\n",
              "        vertical-align: middle;\n",
              "    }\n",
              "\n",
              "    .dataframe tbody tr th {\n",
              "        vertical-align: top;\n",
              "    }\n",
              "\n",
              "    .dataframe thead th {\n",
              "        text-align: right;\n",
              "    }\n",
              "</style>\n",
              "<table border=\"1\" class=\"dataframe\">\n",
              "  <thead>\n",
              "    <tr style=\"text-align: right;\">\n",
              "      <th></th>\n",
              "      <th>Country</th>\n",
              "      <th>Count</th>\n",
              "    </tr>\n",
              "  </thead>\n",
              "  <tbody>\n",
              "    <tr>\n",
              "      <th>0</th>\n",
              "      <td>August</td>\n",
              "      <td>8638</td>\n",
              "    </tr>\n",
              "    <tr>\n",
              "      <th>1</th>\n",
              "      <td>July</td>\n",
              "      <td>7919</td>\n",
              "    </tr>\n",
              "    <tr>\n",
              "      <th>2</th>\n",
              "      <td>May</td>\n",
              "      <td>7114</td>\n",
              "    </tr>\n",
              "  </tbody>\n",
              "</table>\n",
              "</div>\n",
              "      <button class=\"colab-df-convert\" onclick=\"convertToInteractive('df-c07613dd-2dd5-4107-a0b7-b5bd7159bf5b')\"\n",
              "              title=\"Convert this dataframe to an interactive table.\"\n",
              "              style=\"display:none;\">\n",
              "        \n",
              "  <svg xmlns=\"http://www.w3.org/2000/svg\" height=\"24px\"viewBox=\"0 0 24 24\"\n",
              "       width=\"24px\">\n",
              "    <path d=\"M0 0h24v24H0V0z\" fill=\"none\"/>\n",
              "    <path d=\"M18.56 5.44l.94 2.06.94-2.06 2.06-.94-2.06-.94-.94-2.06-.94 2.06-2.06.94zm-11 1L8.5 8.5l.94-2.06 2.06-.94-2.06-.94L8.5 2.5l-.94 2.06-2.06.94zm10 10l.94 2.06.94-2.06 2.06-.94-2.06-.94-.94-2.06-.94 2.06-2.06.94z\"/><path d=\"M17.41 7.96l-1.37-1.37c-.4-.4-.92-.59-1.43-.59-.52 0-1.04.2-1.43.59L10.3 9.45l-7.72 7.72c-.78.78-.78 2.05 0 2.83L4 21.41c.39.39.9.59 1.41.59.51 0 1.02-.2 1.41-.59l7.78-7.78 2.81-2.81c.8-.78.8-2.07 0-2.86zM5.41 20L4 18.59l7.72-7.72 1.47 1.35L5.41 20z\"/>\n",
              "  </svg>\n",
              "      </button>\n",
              "      \n",
              "  <style>\n",
              "    .colab-df-container {\n",
              "      display:flex;\n",
              "      flex-wrap:wrap;\n",
              "      gap: 12px;\n",
              "    }\n",
              "\n",
              "    .colab-df-convert {\n",
              "      background-color: #E8F0FE;\n",
              "      border: none;\n",
              "      border-radius: 50%;\n",
              "      cursor: pointer;\n",
              "      display: none;\n",
              "      fill: #1967D2;\n",
              "      height: 32px;\n",
              "      padding: 0 0 0 0;\n",
              "      width: 32px;\n",
              "    }\n",
              "\n",
              "    .colab-df-convert:hover {\n",
              "      background-color: #E2EBFA;\n",
              "      box-shadow: 0px 1px 2px rgba(60, 64, 67, 0.3), 0px 1px 3px 1px rgba(60, 64, 67, 0.15);\n",
              "      fill: #174EA6;\n",
              "    }\n",
              "\n",
              "    [theme=dark] .colab-df-convert {\n",
              "      background-color: #3B4455;\n",
              "      fill: #D2E3FC;\n",
              "    }\n",
              "\n",
              "    [theme=dark] .colab-df-convert:hover {\n",
              "      background-color: #434B5C;\n",
              "      box-shadow: 0px 1px 3px 1px rgba(0, 0, 0, 0.15);\n",
              "      filter: drop-shadow(0px 1px 2px rgba(0, 0, 0, 0.3));\n",
              "      fill: #FFFFFF;\n",
              "    }\n",
              "  </style>\n",
              "\n",
              "      <script>\n",
              "        const buttonEl =\n",
              "          document.querySelector('#df-c07613dd-2dd5-4107-a0b7-b5bd7159bf5b button.colab-df-convert');\n",
              "        buttonEl.style.display =\n",
              "          google.colab.kernel.accessAllowed ? 'block' : 'none';\n",
              "\n",
              "        async function convertToInteractive(key) {\n",
              "          const element = document.querySelector('#df-c07613dd-2dd5-4107-a0b7-b5bd7159bf5b');\n",
              "          const dataTable =\n",
              "            await google.colab.kernel.invokeFunction('convertToInteractive',\n",
              "                                                     [key], {});\n",
              "          if (!dataTable) return;\n",
              "\n",
              "          const docLinkHtml = 'Like what you see? Visit the ' +\n",
              "            '<a target=\"_blank\" href=https://colab.research.google.com/notebooks/data_table.ipynb>data table notebook</a>'\n",
              "            + ' to learn more about interactive tables.';\n",
              "          element.innerHTML = '';\n",
              "          dataTable['output_type'] = 'display_data';\n",
              "          await google.colab.output.renderOutput(dataTable, element);\n",
              "          const docLink = document.createElement('div');\n",
              "          docLink.innerHTML = docLinkHtml;\n",
              "          element.appendChild(docLink);\n",
              "        }\n",
              "      </script>\n",
              "    </div>\n",
              "  </div>\n",
              "  "
            ]
          },
          "metadata": {},
          "execution_count": 50
        }
      ]
    },
    {
      "cell_type": "code",
      "execution_count": null,
      "metadata": {
        "id": "9lFbqrCbrPKQ",
        "colab": {
          "base_uri": "https://localhost:8080/"
        },
        "outputId": "579f1b45-1c8f-44df-f03e-c139270a51b0"
      },
      "outputs": [
        {
          "output_type": "display_data",
          "data": {
            "text/plain": [
              "<Figure size 576x360 with 1 Axes>"
            ],
            "image/png": "[encoded data removed]"
          },
          "metadata": {}
        }
      ],
      "source": [
        "sns.set_style('whitegrid')\n",
        "plt.rcParams['font.size'] = 10\n",
        "plt.rcParams['figure.figsize'] = (8,5)\n",
        "sns.countplot(x = count_bookings['Country']).set_title(\"Bookings of Country\")\n",
        "plt.show()"
      ]
    },
    {
      "cell_type": "markdown",
      "metadata": {
        "id": "CH24ZDivrr8w"
      },
      "source": [
        "**observations: From the data we can see that August,July and May are the most busiest moths for Resort hotel and City hotel.**"
      ]
    },
    {
      "cell_type": "markdown",
      "source": [
        "**Calculating the average rent for Resort hotel.**"
      ],
      "metadata": {
        "id": "-ZLlFaDK339X"
      }
    },
    {
      "cell_type": "code",
      "source": [
        "average_rent_resort_hotel = resort_booking.groupby('arrival_date_month')['adr'].agg('mean').reset_index()\n",
        "average_rent_resort_hotel"
      ],
      "metadata": {
        "id": "ke4FYZ2V4ElL",
        "outputId": "73457f15-ed16-43a6-848b-9a57e04cbc24",
        "colab": {
          "base_uri": "https://localhost:8080/"
        }
      },
      "execution_count": null,
      "outputs": [
        {
          "output_type": "execute_result",
          "data": {
            "text/plain": [
              "   arrival_date_month         adr\n",
              "0               April   75.867816\n",
              "1              August  181.205892\n",
              "2            December   68.322236\n",
              "3            February   54.147478\n",
              "4             January   48.708919\n",
              "5                July  150.122528\n",
              "6                June  107.921869\n",
              "7               March   57.012487\n",
              "8                 May   76.657558\n",
              "9            November   48.681640\n",
              "10            October   61.727505\n",
              "11          September   96.416860"
            ],
            "text/html": [
              "\n",
              "  <div id=\"df-f81417f1-0e6c-45bb-a102-b7e29a97cbe8\">\n",
              "    <div class=\"colab-df-container\">\n",
              "      <div>\n",
              "<style scoped>\n",
              "    .dataframe tbody tr th:only-of-type {\n",
              "        vertical-align: middle;\n",
              "    }\n",
              "\n",
              "    .dataframe tbody tr th {\n",
              "        vertical-align: top;\n",
              "    }\n",
              "\n",
              "    .dataframe thead th {\n",
              "        text-align: right;\n",
              "    }\n",
              "</style>\n",
              "<table border=\"1\" class=\"dataframe\">\n",
              "  <thead>\n",
              "    <tr style=\"text-align: right;\">\n",
              "      <th></th>\n",
              "      <th>arrival_date_month</th>\n",
              "      <th>adr</th>\n",
              "    </tr>\n",
              "  </thead>\n",
              "  <tbody>\n",
              "    <tr>\n",
              "      <th>0</th>\n",
              "      <td>April</td>\n",
              "      <td>75.867816</td>\n",
              "    </tr>\n",
              "    <tr>\n",
              "      <th>1</th>\n",
              "      <td>August</td>\n",
              "      <td>181.205892</td>\n",
              "    </tr>\n",
              "    <tr>\n",
              "      <th>2</th>\n",
              "      <td>December</td>\n",
              "      <td>68.322236</td>\n",
              "    </tr>\n",
              "    <tr>\n",
              "      <th>3</th>\n",
              "      <td>February</td>\n",
              "      <td>54.147478</td>\n",
              "    </tr>\n",
              "    <tr>\n",
              "      <th>4</th>\n",
              "      <td>January</td>\n",
              "      <td>48.708919</td>\n",
              "    </tr>\n",
              "    <tr>\n",
              "      <th>5</th>\n",
              "      <td>July</td>\n",
              "      <td>150.122528</td>\n",
              "    </tr>\n",
              "    <tr>\n",
              "      <th>6</th>\n",
              "      <td>June</td>\n",
              "      <td>107.921869</td>\n",
              "    </tr>\n",
              "    <tr>\n",
              "      <th>7</th>\n",
              "      <td>March</td>\n",
              "      <td>57.012487</td>\n",
              "    </tr>\n",
              "    <tr>\n",
              "      <th>8</th>\n",
              "      <td>May</td>\n",
              "      <td>76.657558</td>\n",
              "    </tr>\n",
              "    <tr>\n",
              "      <th>9</th>\n",
              "      <td>November</td>\n",
              "      <td>48.681640</td>\n",
              "    </tr>\n",
              "    <tr>\n",
              "      <th>10</th>\n",
              "      <td>October</td>\n",
              "      <td>61.727505</td>\n",
              "    </tr>\n",
              "    <tr>\n",
              "      <th>11</th>\n",
              "      <td>September</td>\n",
              "      <td>96.416860</td>\n",
              "    </tr>\n",
              "  </tbody>\n",
              "</table>\n",
              "</div>\n",
              "      <button class=\"colab-df-convert\" onclick=\"convertToInteractive('df-f81417f1-0e6c-45bb-a102-b7e29a97cbe8')\"\n",
              "              title=\"Convert this dataframe to an interactive table.\"\n",
              "              style=\"display:none;\">\n",
              "        \n",
              "  <svg xmlns=\"http://www.w3.org/2000/svg\" height=\"24px\"viewBox=\"0 0 24 24\"\n",
              "       width=\"24px\">\n",
              "    <path d=\"M0 0h24v24H0V0z\" fill=\"none\"/>\n",
              "    <path d=\"M18.56 5.44l.94 2.06.94-2.06 2.06-.94-2.06-.94-.94-2.06-.94 2.06-2.06.94zm-11 1L8.5 8.5l.94-2.06 2.06-.94-2.06-.94L8.5 2.5l-.94 2.06-2.06.94zm10 10l.94 2.06.94-2.06 2.06-.94-2.06-.94-.94-2.06-.94 2.06-2.06.94z\"/><path d=\"M17.41 7.96l-1.37-1.37c-.4-.4-.92-.59-1.43-.59-.52 0-1.04.2-1.43.59L10.3 9.45l-7.72 7.72c-.78.78-.78 2.05 0 2.83L4 21.41c.39.39.9.59 1.41.59.51 0 1.02-.2 1.41-.59l7.78-7.78 2.81-2.81c.8-.78.8-2.07 0-2.86zM5.41 20L4 18.59l7.72-7.72 1.47 1.35L5.41 20z\"/>\n",
              "  </svg>\n",
              "      </button>\n",
              "      \n",
              "  <style>\n",
              "    .colab-df-container {\n",
              "      display:flex;\n",
              "      flex-wrap:wrap;\n",
              "      gap: 12px;\n",
              "    }\n",
              "\n",
              "    .colab-df-convert {\n",
              "      background-color: #E8F0FE;\n",
              "      border: none;\n",
              "      border-radius: 50%;\n",
              "      cursor: pointer;\n",
              "      display: none;\n",
              "      fill: #1967D2;\n",
              "      height: 32px;\n",
              "      padding: 0 0 0 0;\n",
              "      width: 32px;\n",
              "    }\n",
              "\n",
              "    .colab-df-convert:hover {\n",
              "      background-color: #E2EBFA;\n",
              "      box-shadow: 0px 1px 2px rgba(60, 64, 67, 0.3), 0px 1px 3px 1px rgba(60, 64, 67, 0.15);\n",
              "      fill: #174EA6;\n",
              "    }\n",
              "\n",
              "    [theme=dark] .colab-df-convert {\n",
              "      background-color: #3B4455;\n",
              "      fill: #D2E3FC;\n",
              "    }\n",
              "\n",
              "    [theme=dark] .colab-df-convert:hover {\n",
              "      background-color: #434B5C;\n",
              "      box-shadow: 0px 1px 3px 1px rgba(0, 0, 0, 0.15);\n",
              "      filter: drop-shadow(0px 1px 2px rgba(0, 0, 0, 0.3));\n",
              "      fill: #FFFFFF;\n",
              "    }\n",
              "  </style>\n",
              "\n",
              "      <script>\n",
              "        const buttonEl =\n",
              "          document.querySelector('#df-f81417f1-0e6c-45bb-a102-b7e29a97cbe8 button.colab-df-convert');\n",
              "        buttonEl.style.display =\n",
              "          google.colab.kernel.accessAllowed ? 'block' : 'none';\n",
              "\n",
              "        async function convertToInteractive(key) {\n",
              "          const element = document.querySelector('#df-f81417f1-0e6c-45bb-a102-b7e29a97cbe8');\n",
              "          const dataTable =\n",
              "            await google.colab.kernel.invokeFunction('convertToInteractive',\n",
              "                                                     [key], {});\n",
              "          if (!dataTable) return;\n",
              "\n",
              "          const docLinkHtml = 'Like what you see? Visit the ' +\n",
              "            '<a target=\"_blank\" href=https://colab.research.google.com/notebooks/data_table.ipynb>data table notebook</a>'\n",
              "            + ' to learn more about interactive tables.';\n",
              "          element.innerHTML = '';\n",
              "          dataTable['output_type'] = 'display_data';\n",
              "          await google.colab.output.renderOutput(dataTable, element);\n",
              "          const docLink = document.createElement('div');\n",
              "          docLink.innerHTML = docLinkHtml;\n",
              "          element.appendChild(docLink);\n",
              "        }\n",
              "      </script>\n",
              "    </div>\n",
              "  </div>\n",
              "  "
            ]
          },
          "metadata": {},
          "execution_count": 52
        }
      ]
    },
    {
      "cell_type": "markdown",
      "metadata": {
        "id": "ZJWIY-SotRvm"
      },
      "source": [
        "**Changing the column name for easy understanding**"
      ]
    },
    {
      "cell_type": "code",
      "execution_count": null,
      "metadata": {
        "id": "Jegp-lGYs8bt",
        "colab": {
          "base_uri": "https://localhost:8080/"
        },
        "outputId": "11b65d64-e471-44a2-c0dc-f14b3cf152d8"
      },
      "outputs": [
        {
          "output_type": "execute_result",
          "data": {
            "text/plain": [
              "   arrival_date_month  average room Rent\n",
              "0               April          75.867816\n",
              "1              August         181.205892\n",
              "2            December          68.322236\n",
              "3            February          54.147478\n",
              "4             January          48.708919\n",
              "5                July         150.122528\n",
              "6                June         107.921869\n",
              "7               March          57.012487\n",
              "8                 May          76.657558\n",
              "9            November          48.681640\n",
              "10            October          61.727505\n",
              "11          September          96.416860"
            ],
            "text/html": [
              "\n",
              "  <div id=\"df-7875dc2b-0c3b-4df1-9dde-931f17624d96\">\n",
              "    <div class=\"colab-df-container\">\n",
              "      <div>\n",
              "<style scoped>\n",
              "    .dataframe tbody tr th:only-of-type {\n",
              "        vertical-align: middle;\n",
              "    }\n",
              "\n",
              "    .dataframe tbody tr th {\n",
              "        vertical-align: top;\n",
              "    }\n",
              "\n",
              "    .dataframe thead th {\n",
              "        text-align: right;\n",
              "    }\n",
              "</style>\n",
              "<table border=\"1\" class=\"dataframe\">\n",
              "  <thead>\n",
              "    <tr style=\"text-align: right;\">\n",
              "      <th></th>\n",
              "      <th>arrival_date_month</th>\n",
              "      <th>average room Rent</th>\n",
              "    </tr>\n",
              "  </thead>\n",
              "  <tbody>\n",
              "    <tr>\n",
              "      <th>0</th>\n",
              "      <td>April</td>\n",
              "      <td>75.867816</td>\n",
              "    </tr>\n",
              "    <tr>\n",
              "      <th>1</th>\n",
              "      <td>August</td>\n",
              "      <td>181.205892</td>\n",
              "    </tr>\n",
              "    <tr>\n",
              "      <th>2</th>\n",
              "      <td>December</td>\n",
              "      <td>68.322236</td>\n",
              "    </tr>\n",
              "    <tr>\n",
              "      <th>3</th>\n",
              "      <td>February</td>\n",
              "      <td>54.147478</td>\n",
              "    </tr>\n",
              "    <tr>\n",
              "      <th>4</th>\n",
              "      <td>January</td>\n",
              "      <td>48.708919</td>\n",
              "    </tr>\n",
              "    <tr>\n",
              "      <th>5</th>\n",
              "      <td>July</td>\n",
              "      <td>150.122528</td>\n",
              "    </tr>\n",
              "    <tr>\n",
              "      <th>6</th>\n",
              "      <td>June</td>\n",
              "      <td>107.921869</td>\n",
              "    </tr>\n",
              "    <tr>\n",
              "      <th>7</th>\n",
              "      <td>March</td>\n",
              "      <td>57.012487</td>\n",
              "    </tr>\n",
              "    <tr>\n",
              "      <th>8</th>\n",
              "      <td>May</td>\n",
              "      <td>76.657558</td>\n",
              "    </tr>\n",
              "    <tr>\n",
              "      <th>9</th>\n",
              "      <td>November</td>\n",
              "      <td>48.681640</td>\n",
              "    </tr>\n",
              "    <tr>\n",
              "      <th>10</th>\n",
              "      <td>October</td>\n",
              "      <td>61.727505</td>\n",
              "    </tr>\n",
              "    <tr>\n",
              "      <th>11</th>\n",
              "      <td>September</td>\n",
              "      <td>96.416860</td>\n",
              "    </tr>\n",
              "  </tbody>\n",
              "</table>\n",
              "</div>\n",
              "      <button class=\"colab-df-convert\" onclick=\"convertToInteractive('df-7875dc2b-0c3b-4df1-9dde-931f17624d96')\"\n",
              "              title=\"Convert this dataframe to an interactive table.\"\n",
              "              style=\"display:none;\">\n",
              "        \n",
              "  <svg xmlns=\"http://www.w3.org/2000/svg\" height=\"24px\"viewBox=\"0 0 24 24\"\n",
              "       width=\"24px\">\n",
              "    <path d=\"M0 0h24v24H0V0z\" fill=\"none\"/>\n",
              "    <path d=\"M18.56 5.44l.94 2.06.94-2.06 2.06-.94-2.06-.94-.94-2.06-.94 2.06-2.06.94zm-11 1L8.5 8.5l.94-2.06 2.06-.94-2.06-.94L8.5 2.5l-.94 2.06-2.06.94zm10 10l.94 2.06.94-2.06 2.06-.94-2.06-.94-.94-2.06-.94 2.06-2.06.94z\"/><path d=\"M17.41 7.96l-1.37-1.37c-.4-.4-.92-.59-1.43-.59-.52 0-1.04.2-1.43.59L10.3 9.45l-7.72 7.72c-.78.78-.78 2.05 0 2.83L4 21.41c.39.39.9.59 1.41.59.51 0 1.02-.2 1.41-.59l7.78-7.78 2.81-2.81c.8-.78.8-2.07 0-2.86zM5.41 20L4 18.59l7.72-7.72 1.47 1.35L5.41 20z\"/>\n",
              "  </svg>\n",
              "      </button>\n",
              "      \n",
              "  <style>\n",
              "    .colab-df-container {\n",
              "      display:flex;\n",
              "      flex-wrap:wrap;\n",
              "      gap: 12px;\n",
              "    }\n",
              "\n",
              "    .colab-df-convert {\n",
              "      background-color: #E8F0FE;\n",
              "      border: none;\n",
              "      border-radius: 50%;\n",
              "      cursor: pointer;\n",
              "      display: none;\n",
              "      fill: #1967D2;\n",
              "      height: 32px;\n",
              "      padding: 0 0 0 0;\n",
              "      width: 32px;\n",
              "    }\n",
              "\n",
              "    .colab-df-convert:hover {\n",
              "      background-color: #E2EBFA;\n",
              "      box-shadow: 0px 1px 2px rgba(60, 64, 67, 0.3), 0px 1px 3px 1px rgba(60, 64, 67, 0.15);\n",
              "      fill: #174EA6;\n",
              "    }\n",
              "\n",
              "    [theme=dark] .colab-df-convert {\n",
              "      background-color: #3B4455;\n",
              "      fill: #D2E3FC;\n",
              "    }\n",
              "\n",
              "    [theme=dark] .colab-df-convert:hover {\n",
              "      background-color: #434B5C;\n",
              "      box-shadow: 0px 1px 3px 1px rgba(0, 0, 0, 0.15);\n",
              "      filter: drop-shadow(0px 1px 2px rgba(0, 0, 0, 0.3));\n",
              "      fill: #FFFFFF;\n",
              "    }\n",
              "  </style>\n",
              "\n",
              "      <script>\n",
              "        const buttonEl =\n",
              "          document.querySelector('#df-7875dc2b-0c3b-4df1-9dde-931f17624d96 button.colab-df-convert');\n",
              "        buttonEl.style.display =\n",
              "          google.colab.kernel.accessAllowed ? 'block' : 'none';\n",
              "\n",
              "        async function convertToInteractive(key) {\n",
              "          const element = document.querySelector('#df-7875dc2b-0c3b-4df1-9dde-931f17624d96');\n",
              "          const dataTable =\n",
              "            await google.colab.kernel.invokeFunction('convertToInteractive',\n",
              "                                                     [key], {});\n",
              "          if (!dataTable) return;\n",
              "\n",
              "          const docLinkHtml = 'Like what you see? Visit the ' +\n",
              "            '<a target=\"_blank\" href=https://colab.research.google.com/notebooks/data_table.ipynb>data table notebook</a>'\n",
              "            + ' to learn more about interactive tables.';\n",
              "          element.innerHTML = '';\n",
              "          dataTable['output_type'] = 'display_data';\n",
              "          await google.colab.output.renderOutput(dataTable, element);\n",
              "          const docLink = document.createElement('div');\n",
              "          docLink.innerHTML = docLinkHtml;\n",
              "          element.appendChild(docLink);\n",
              "        }\n",
              "      </script>\n",
              "    </div>\n",
              "  </div>\n",
              "  "
            ]
          },
          "metadata": {},
          "execution_count": 53
        }
      ],
      "source": [
        "average_rent_resort_hotel = average_rent_resort_hotel.rename(columns={'adr':'average room Rent'})\n",
        "average_rent_resort_hotel"
      ]
    },
    {
      "cell_type": "code",
      "source": [
        "average_rent_resort_hotel.sort_values('average room Rent',ascending=False)"
      ],
      "metadata": {
        "id": "sxT5N-Fp7rmo",
        "outputId": "bd74c91e-d6d4-4693-8db6-6013a5564be7",
        "colab": {
          "base_uri": "https://localhost:8080/"
        }
      },
      "execution_count": null,
      "outputs": [
        {
          "output_type": "execute_result",
          "data": {
            "text/plain": [
              "   arrival_date_month  average room Rent\n",
              "1              August         181.205892\n",
              "5                July         150.122528\n",
              "6                June         107.921869\n",
              "11          September          96.416860\n",
              "8                 May          76.657558\n",
              "0               April          75.867816\n",
              "2            December          68.322236\n",
              "10            October          61.727505\n",
              "7               March          57.012487\n",
              "3            February          54.147478\n",
              "4             January          48.708919\n",
              "9            November          48.681640"
            ],
            "text/html": [
              "\n",
              "  <div id=\"df-4f5a9303-b05c-4203-84b4-ee834d58daab\">\n",
              "    <div class=\"colab-df-container\">\n",
              "      <div>\n",
              "<style scoped>\n",
              "    .dataframe tbody tr th:only-of-type {\n",
              "        vertical-align: middle;\n",
              "    }\n",
              "\n",
              "    .dataframe tbody tr th {\n",
              "        vertical-align: top;\n",
              "    }\n",
              "\n",
              "    .dataframe thead th {\n",
              "        text-align: right;\n",
              "    }\n",
              "</style>\n",
              "<table border=\"1\" class=\"dataframe\">\n",
              "  <thead>\n",
              "    <tr style=\"text-align: right;\">\n",
              "      <th></th>\n",
              "      <th>arrival_date_month</th>\n",
              "      <th>average room Rent</th>\n",
              "    </tr>\n",
              "  </thead>\n",
              "  <tbody>\n",
              "    <tr>\n",
              "      <th>1</th>\n",
              "      <td>August</td>\n",
              "      <td>181.205892</td>\n",
              "    </tr>\n",
              "    <tr>\n",
              "      <th>5</th>\n",
              "      <td>July</td>\n",
              "      <td>150.122528</td>\n",
              "    </tr>\n",
              "    <tr>\n",
              "      <th>6</th>\n",
              "      <td>June</td>\n",
              "      <td>107.921869</td>\n",
              "    </tr>\n",
              "    <tr>\n",
              "      <th>11</th>\n",
              "      <td>September</td>\n",
              "      <td>96.416860</td>\n",
              "    </tr>\n",
              "    <tr>\n",
              "      <th>8</th>\n",
              "      <td>May</td>\n",
              "      <td>76.657558</td>\n",
              "    </tr>\n",
              "    <tr>\n",
              "      <th>0</th>\n",
              "      <td>April</td>\n",
              "      <td>75.867816</td>\n",
              "    </tr>\n",
              "    <tr>\n",
              "      <th>2</th>\n",
              "      <td>December</td>\n",
              "      <td>68.322236</td>\n",
              "    </tr>\n",
              "    <tr>\n",
              "      <th>10</th>\n",
              "      <td>October</td>\n",
              "      <td>61.727505</td>\n",
              "    </tr>\n",
              "    <tr>\n",
              "      <th>7</th>\n",
              "      <td>March</td>\n",
              "      <td>57.012487</td>\n",
              "    </tr>\n",
              "    <tr>\n",
              "      <th>3</th>\n",
              "      <td>February</td>\n",
              "      <td>54.147478</td>\n",
              "    </tr>\n",
              "    <tr>\n",
              "      <th>4</th>\n",
              "      <td>January</td>\n",
              "      <td>48.708919</td>\n",
              "    </tr>\n",
              "    <tr>\n",
              "      <th>9</th>\n",
              "      <td>November</td>\n",
              "      <td>48.681640</td>\n",
              "    </tr>\n",
              "  </tbody>\n",
              "</table>\n",
              "</div>\n",
              "      <button class=\"colab-df-convert\" onclick=\"convertToInteractive('df-4f5a9303-b05c-4203-84b4-ee834d58daab')\"\n",
              "              title=\"Convert this dataframe to an interactive table.\"\n",
              "              style=\"display:none;\">\n",
              "        \n",
              "  <svg xmlns=\"http://www.w3.org/2000/svg\" height=\"24px\"viewBox=\"0 0 24 24\"\n",
              "       width=\"24px\">\n",
              "    <path d=\"M0 0h24v24H0V0z\" fill=\"none\"/>\n",
              "    <path d=\"M18.56 5.44l.94 2.06.94-2.06 2.06-.94-2.06-.94-.94-2.06-.94 2.06-2.06.94zm-11 1L8.5 8.5l.94-2.06 2.06-.94-2.06-.94L8.5 2.5l-.94 2.06-2.06.94zm10 10l.94 2.06.94-2.06 2.06-.94-2.06-.94-.94-2.06-.94 2.06-2.06.94z\"/><path d=\"M17.41 7.96l-1.37-1.37c-.4-.4-.92-.59-1.43-.59-.52 0-1.04.2-1.43.59L10.3 9.45l-7.72 7.72c-.78.78-.78 2.05 0 2.83L4 21.41c.39.39.9.59 1.41.59.51 0 1.02-.2 1.41-.59l7.78-7.78 2.81-2.81c.8-.78.8-2.07 0-2.86zM5.41 20L4 18.59l7.72-7.72 1.47 1.35L5.41 20z\"/>\n",
              "  </svg>\n",
              "      </button>\n",
              "      \n",
              "  <style>\n",
              "    .colab-df-container {\n",
              "      display:flex;\n",
              "      flex-wrap:wrap;\n",
              "      gap: 12px;\n",
              "    }\n",
              "\n",
              "    .colab-df-convert {\n",
              "      background-color: #E8F0FE;\n",
              "      border: none;\n",
              "      border-radius: 50%;\n",
              "      cursor: pointer;\n",
              "      display: none;\n",
              "      fill: #1967D2;\n",
              "      height: 32px;\n",
              "      padding: 0 0 0 0;\n",
              "      width: 32px;\n",
              "    }\n",
              "\n",
              "    .colab-df-convert:hover {\n",
              "      background-color: #E2EBFA;\n",
              "      box-shadow: 0px 1px 2px rgba(60, 64, 67, 0.3), 0px 1px 3px 1px rgba(60, 64, 67, 0.15);\n",
              "      fill: #174EA6;\n",
              "    }\n",
              "\n",
              "    [theme=dark] .colab-df-convert {\n",
              "      background-color: #3B4455;\n",
              "      fill: #D2E3FC;\n",
              "    }\n",
              "\n",
              "    [theme=dark] .colab-df-convert:hover {\n",
              "      background-color: #434B5C;\n",
              "      box-shadow: 0px 1px 3px 1px rgba(0, 0, 0, 0.15);\n",
              "      filter: drop-shadow(0px 1px 2px rgba(0, 0, 0, 0.3));\n",
              "      fill: #FFFFFF;\n",
              "    }\n",
              "  </style>\n",
              "\n",
              "      <script>\n",
              "        const buttonEl =\n",
              "          document.querySelector('#df-4f5a9303-b05c-4203-84b4-ee834d58daab button.colab-df-convert');\n",
              "        buttonEl.style.display =\n",
              "          google.colab.kernel.accessAllowed ? 'block' : 'none';\n",
              "\n",
              "        async function convertToInteractive(key) {\n",
              "          const element = document.querySelector('#df-4f5a9303-b05c-4203-84b4-ee834d58daab');\n",
              "          const dataTable =\n",
              "            await google.colab.kernel.invokeFunction('convertToInteractive',\n",
              "                                                     [key], {});\n",
              "          if (!dataTable) return;\n",
              "\n",
              "          const docLinkHtml = 'Like what you see? Visit the ' +\n",
              "            '<a target=\"_blank\" href=https://colab.research.google.com/notebooks/data_table.ipynb>data table notebook</a>'\n",
              "            + ' to learn more about interactive tables.';\n",
              "          element.innerHTML = '';\n",
              "          dataTable['output_type'] = 'display_data';\n",
              "          await google.colab.output.renderOutput(dataTable, element);\n",
              "          const docLink = document.createElement('div');\n",
              "          docLink.innerHTML = docLinkHtml;\n",
              "          element.appendChild(docLink);\n",
              "        }\n",
              "      </script>\n",
              "    </div>\n",
              "  </div>\n",
              "  "
            ]
          },
          "metadata": {},
          "execution_count": 54
        }
      ]
    },
    {
      "cell_type": "code",
      "execution_count": null,
      "metadata": {
        "id": "TQbuRpHGtlZ-",
        "colab": {
          "base_uri": "https://localhost:8080/"
        },
        "outputId": "8df3059d-ff7e-410e-d4a4-f4b8cb4a11ea"
      },
      "outputs": [
        {
          "output_type": "display_data",
          "data": {
            "text/plain": [
              "<Figure size 1008x360 with 1 Axes>"
            ],
            "image/png": "[encoded data removed]"
          },
          "metadata": {}
        }
      ],
      "source": [
        "sns.set_style('whitegrid')\n",
        "plt.rcParams['font.size'] = 10\n",
        "plt.rcParams['figure.figsize'] = (14,5)\n",
        "sns.barplot(x = 'arrival_date_month', y = 'average room Rent', data =average_rent_resort_hotel , order = average_rent_resort_hotel.sort_values('average room Rent', ascending = False).arrival_date_month).set_title(\"Average Room rent across 12 months for Resort Hotel\")\n",
        "plt.show()"
      ]
    },
    {
      "cell_type": "markdown",
      "metadata": {
        "id": "m1-xeTV_tgze"
      },
      "source": [
        "**Observation:The above data shows the average rent for the Resort hotel for all the 12 months and the average rent is maximum for the month of August and minimum for the month of January**"
      ]
    },
    {
      "cell_type": "markdown",
      "source": [
        "**Calculating average rent for City Hotel.**"
      ],
      "metadata": {
        "id": "E6pMS7978hi5"
      }
    },
    {
      "cell_type": "code",
      "source": [
        "average_rent_city_hotel = city_booking.groupby('arrival_date_month')['adr'].agg('mean').reset_index()\n",
        "average_rent_city_hotel"
      ],
      "metadata": {
        "id": "FwBnTqMJ8Cnz",
        "outputId": "6cb195c9-88d5-4f59-ea66-7d16b9ddb135",
        "colab": {
          "base_uri": "https://localhost:8080/"
        }
      },
      "execution_count": null,
      "outputs": [
        {
          "output_type": "execute_result",
          "data": {
            "text/plain": [
              "   arrival_date_month         adr\n",
              "0               April  111.856824\n",
              "1              August  118.412083\n",
              "2            December   87.856764\n",
              "3            February   86.183025\n",
              "4             January   82.160634\n",
              "5                July  115.563810\n",
              "6                June  117.702075\n",
              "7               March   90.170722\n",
              "8                 May  120.445842\n",
              "9            November   86.500456\n",
              "10            October  101.745956\n",
              "11          September  112.598452"
            ],
            "text/html": [
              "\n",
              "  <div id=\"df-a23964c8-348f-46ec-9a64-f7ce3ba9fcd8\">\n",
              "    <div class=\"colab-df-container\">\n",
              "      <div>\n",
              "<style scoped>\n",
              "    .dataframe tbody tr th:only-of-type {\n",
              "        vertical-align: middle;\n",
              "    }\n",
              "\n",
              "    .dataframe tbody tr th {\n",
              "        vertical-align: top;\n",
              "    }\n",
              "\n",
              "    .dataframe thead th {\n",
              "        text-align: right;\n",
              "    }\n",
              "</style>\n",
              "<table border=\"1\" class=\"dataframe\">\n",
              "  <thead>\n",
              "    <tr style=\"text-align: right;\">\n",
              "      <th></th>\n",
              "      <th>arrival_date_month</th>\n",
              "      <th>adr</th>\n",
              "    </tr>\n",
              "  </thead>\n",
              "  <tbody>\n",
              "    <tr>\n",
              "      <th>0</th>\n",
              "      <td>April</td>\n",
              "      <td>111.856824</td>\n",
              "    </tr>\n",
              "    <tr>\n",
              "      <th>1</th>\n",
              "      <td>August</td>\n",
              "      <td>118.412083</td>\n",
              "    </tr>\n",
              "    <tr>\n",
              "      <th>2</th>\n",
              "      <td>December</td>\n",
              "      <td>87.856764</td>\n",
              "    </tr>\n",
              "    <tr>\n",
              "      <th>3</th>\n",
              "      <td>February</td>\n",
              "      <td>86.183025</td>\n",
              "    </tr>\n",
              "    <tr>\n",
              "      <th>4</th>\n",
              "      <td>January</td>\n",
              "      <td>82.160634</td>\n",
              "    </tr>\n",
              "    <tr>\n",
              "      <th>5</th>\n",
              "      <td>July</td>\n",
              "      <td>115.563810</td>\n",
              "    </tr>\n",
              "    <tr>\n",
              "      <th>6</th>\n",
              "      <td>June</td>\n",
              "      <td>117.702075</td>\n",
              "    </tr>\n",
              "    <tr>\n",
              "      <th>7</th>\n",
              "      <td>March</td>\n",
              "      <td>90.170722</td>\n",
              "    </tr>\n",
              "    <tr>\n",
              "      <th>8</th>\n",
              "      <td>May</td>\n",
              "      <td>120.445842</td>\n",
              "    </tr>\n",
              "    <tr>\n",
              "      <th>9</th>\n",
              "      <td>November</td>\n",
              "      <td>86.500456</td>\n",
              "    </tr>\n",
              "    <tr>\n",
              "      <th>10</th>\n",
              "      <td>October</td>\n",
              "      <td>101.745956</td>\n",
              "    </tr>\n",
              "    <tr>\n",
              "      <th>11</th>\n",
              "      <td>September</td>\n",
              "      <td>112.598452</td>\n",
              "    </tr>\n",
              "  </tbody>\n",
              "</table>\n",
              "</div>\n",
              "      <button class=\"colab-df-convert\" onclick=\"convertToInteractive('df-a23964c8-348f-46ec-9a64-f7ce3ba9fcd8')\"\n",
              "              title=\"Convert this dataframe to an interactive table.\"\n",
              "              style=\"display:none;\">\n",
              "        \n",
              "  <svg xmlns=\"http://www.w3.org/2000/svg\" height=\"24px\"viewBox=\"0 0 24 24\"\n",
              "       width=\"24px\">\n",
              "    <path d=\"M0 0h24v24H0V0z\" fill=\"none\"/>\n",
              "    <path d=\"M18.56 5.44l.94 2.06.94-2.06 2.06-.94-2.06-.94-.94-2.06-.94 2.06-2.06.94zm-11 1L8.5 8.5l.94-2.06 2.06-.94-2.06-.94L8.5 2.5l-.94 2.06-2.06.94zm10 10l.94 2.06.94-2.06 2.06-.94-2.06-.94-.94-2.06-.94 2.06-2.06.94z\"/><path d=\"M17.41 7.96l-1.37-1.37c-.4-.4-.92-.59-1.43-.59-.52 0-1.04.2-1.43.59L10.3 9.45l-7.72 7.72c-.78.78-.78 2.05 0 2.83L4 21.41c.39.39.9.59 1.41.59.51 0 1.02-.2 1.41-.59l7.78-7.78 2.81-2.81c.8-.78.8-2.07 0-2.86zM5.41 20L4 18.59l7.72-7.72 1.47 1.35L5.41 20z\"/>\n",
              "  </svg>\n",
              "      </button>\n",
              "      \n",
              "  <style>\n",
              "    .colab-df-container {\n",
              "      display:flex;\n",
              "      flex-wrap:wrap;\n",
              "      gap: 12px;\n",
              "    }\n",
              "\n",
              "    .colab-df-convert {\n",
              "      background-color: #E8F0FE;\n",
              "      border: none;\n",
              "      border-radius: 50%;\n",
              "      cursor: pointer;\n",
              "      display: none;\n",
              "      fill: #1967D2;\n",
              "      height: 32px;\n",
              "      padding: 0 0 0 0;\n",
              "      width: 32px;\n",
              "    }\n",
              "\n",
              "    .colab-df-convert:hover {\n",
              "      background-color: #E2EBFA;\n",
              "      box-shadow: 0px 1px 2px rgba(60, 64, 67, 0.3), 0px 1px 3px 1px rgba(60, 64, 67, 0.15);\n",
              "      fill: #174EA6;\n",
              "    }\n",
              "\n",
              "    [theme=dark] .colab-df-convert {\n",
              "      background-color: #3B4455;\n",
              "      fill: #D2E3FC;\n",
              "    }\n",
              "\n",
              "    [theme=dark] .colab-df-convert:hover {\n",
              "      background-color: #434B5C;\n",
              "      box-shadow: 0px 1px 3px 1px rgba(0, 0, 0, 0.15);\n",
              "      filter: drop-shadow(0px 1px 2px rgba(0, 0, 0, 0.3));\n",
              "      fill: #FFFFFF;\n",
              "    }\n",
              "  </style>\n",
              "\n",
              "      <script>\n",
              "        const buttonEl =\n",
              "          document.querySelector('#df-a23964c8-348f-46ec-9a64-f7ce3ba9fcd8 button.colab-df-convert');\n",
              "        buttonEl.style.display =\n",
              "          google.colab.kernel.accessAllowed ? 'block' : 'none';\n",
              "\n",
              "        async function convertToInteractive(key) {\n",
              "          const element = document.querySelector('#df-a23964c8-348f-46ec-9a64-f7ce3ba9fcd8');\n",
              "          const dataTable =\n",
              "            await google.colab.kernel.invokeFunction('convertToInteractive',\n",
              "                                                     [key], {});\n",
              "          if (!dataTable) return;\n",
              "\n",
              "          const docLinkHtml = 'Like what you see? Visit the ' +\n",
              "            '<a target=\"_blank\" href=https://colab.research.google.com/notebooks/data_table.ipynb>data table notebook</a>'\n",
              "            + ' to learn more about interactive tables.';\n",
              "          element.innerHTML = '';\n",
              "          dataTable['output_type'] = 'display_data';\n",
              "          await google.colab.output.renderOutput(dataTable, element);\n",
              "          const docLink = document.createElement('div');\n",
              "          docLink.innerHTML = docLinkHtml;\n",
              "          element.appendChild(docLink);\n",
              "        }\n",
              "      </script>\n",
              "    </div>\n",
              "  </div>\n",
              "  "
            ]
          },
          "metadata": {},
          "execution_count": 56
        }
      ]
    },
    {
      "cell_type": "code",
      "source": [
        "average_rent_city_hotel = average_rent_city_hotel.rename(columns = {'adr': 'average room rent'})"
      ],
      "metadata": {
        "id": "mKEPXLaL-mdn"
      },
      "execution_count": null,
      "outputs": []
    },
    {
      "cell_type": "code",
      "source": [
        "average_rent_city_hotel.sort_values('average room rent', ascending = False)"
      ],
      "metadata": {
        "id": "np91NMhK_F3A",
        "outputId": "f108d011-3d52-43cf-cefb-ed198dc3e7a3",
        "colab": {
          "base_uri": "https://localhost:8080/"
        }
      },
      "execution_count": null,
      "outputs": [
        {
          "output_type": "execute_result",
          "data": {
            "text/plain": [
              "   arrival_date_month  average room rent\n",
              "8                 May         120.445842\n",
              "1              August         118.412083\n",
              "6                June         117.702075\n",
              "5                July         115.563810\n",
              "11          September         112.598452\n",
              "0               April         111.856824\n",
              "10            October         101.745956\n",
              "7               March          90.170722\n",
              "2            December          87.856764\n",
              "9            November          86.500456\n",
              "3            February          86.183025\n",
              "4             January          82.160634"
            ],
            "text/html": [
              "\n",
              "  <div id=\"df-d9f993bb-ca72-4028-9f90-8f8fd0ce1b2e\">\n",
              "    <div class=\"colab-df-container\">\n",
              "      <div>\n",
              "<style scoped>\n",
              "    .dataframe tbody tr th:only-of-type {\n",
              "        vertical-align: middle;\n",
              "    }\n",
              "\n",
              "    .dataframe tbody tr th {\n",
              "        vertical-align: top;\n",
              "    }\n",
              "\n",
              "    .dataframe thead th {\n",
              "        text-align: right;\n",
              "    }\n",
              "</style>\n",
              "<table border=\"1\" class=\"dataframe\">\n",
              "  <thead>\n",
              "    <tr style=\"text-align: right;\">\n",
              "      <th></th>\n",
              "      <th>arrival_date_month</th>\n",
              "      <th>average room rent</th>\n",
              "    </tr>\n",
              "  </thead>\n",
              "  <tbody>\n",
              "    <tr>\n",
              "      <th>8</th>\n",
              "      <td>May</td>\n",
              "      <td>120.445842</td>\n",
              "    </tr>\n",
              "    <tr>\n",
              "      <th>1</th>\n",
              "      <td>August</td>\n",
              "      <td>118.412083</td>\n",
              "    </tr>\n",
              "    <tr>\n",
              "      <th>6</th>\n",
              "      <td>June</td>\n",
              "      <td>117.702075</td>\n",
              "    </tr>\n",
              "    <tr>\n",
              "      <th>5</th>\n",
              "      <td>July</td>\n",
              "      <td>115.563810</td>\n",
              "    </tr>\n",
              "    <tr>\n",
              "      <th>11</th>\n",
              "      <td>September</td>\n",
              "      <td>112.598452</td>\n",
              "    </tr>\n",
              "    <tr>\n",
              "      <th>0</th>\n",
              "      <td>April</td>\n",
              "      <td>111.856824</td>\n",
              "    </tr>\n",
              "    <tr>\n",
              "      <th>10</th>\n",
              "      <td>October</td>\n",
              "      <td>101.745956</td>\n",
              "    </tr>\n",
              "    <tr>\n",
              "      <th>7</th>\n",
              "      <td>March</td>\n",
              "      <td>90.170722</td>\n",
              "    </tr>\n",
              "    <tr>\n",
              "      <th>2</th>\n",
              "      <td>December</td>\n",
              "      <td>87.856764</td>\n",
              "    </tr>\n",
              "    <tr>\n",
              "      <th>9</th>\n",
              "      <td>November</td>\n",
              "      <td>86.500456</td>\n",
              "    </tr>\n",
              "    <tr>\n",
              "      <th>3</th>\n",
              "      <td>February</td>\n",
              "      <td>86.183025</td>\n",
              "    </tr>\n",
              "    <tr>\n",
              "      <th>4</th>\n",
              "      <td>January</td>\n",
              "      <td>82.160634</td>\n",
              "    </tr>\n",
              "  </tbody>\n",
              "</table>\n",
              "</div>\n",
              "      <button class=\"colab-df-convert\" onclick=\"convertToInteractive('df-d9f993bb-ca72-4028-9f90-8f8fd0ce1b2e')\"\n",
              "              title=\"Convert this dataframe to an interactive table.\"\n",
              "              style=\"display:none;\">\n",
              "        \n",
              "  <svg xmlns=\"http://www.w3.org/2000/svg\" height=\"24px\"viewBox=\"0 0 24 24\"\n",
              "       width=\"24px\">\n",
              "    <path d=\"M0 0h24v24H0V0z\" fill=\"none\"/>\n",
              "    <path d=\"M18.56 5.44l.94 2.06.94-2.06 2.06-.94-2.06-.94-.94-2.06-.94 2.06-2.06.94zm-11 1L8.5 8.5l.94-2.06 2.06-.94-2.06-.94L8.5 2.5l-.94 2.06-2.06.94zm10 10l.94 2.06.94-2.06 2.06-.94-2.06-.94-.94-2.06-.94 2.06-2.06.94z\"/><path d=\"M17.41 7.96l-1.37-1.37c-.4-.4-.92-.59-1.43-.59-.52 0-1.04.2-1.43.59L10.3 9.45l-7.72 7.72c-.78.78-.78 2.05 0 2.83L4 21.41c.39.39.9.59 1.41.59.51 0 1.02-.2 1.41-.59l7.78-7.78 2.81-2.81c.8-.78.8-2.07 0-2.86zM5.41 20L4 18.59l7.72-7.72 1.47 1.35L5.41 20z\"/>\n",
              "  </svg>\n",
              "      </button>\n",
              "      \n",
              "  <style>\n",
              "    .colab-df-container {\n",
              "      display:flex;\n",
              "      flex-wrap:wrap;\n",
              "      gap: 12px;\n",
              "    }\n",
              "\n",
              "    .colab-df-convert {\n",
              "      background-color: #E8F0FE;\n",
              "      border: none;\n",
              "      border-radius: 50%;\n",
              "      cursor: pointer;\n",
              "      display: none;\n",
              "      fill: #1967D2;\n",
              "      height: 32px;\n",
              "      padding: 0 0 0 0;\n",
              "      width: 32px;\n",
              "    }\n",
              "\n",
              "    .colab-df-convert:hover {\n",
              "      background-color: #E2EBFA;\n",
              "      box-shadow: 0px 1px 2px rgba(60, 64, 67, 0.3), 0px 1px 3px 1px rgba(60, 64, 67, 0.15);\n",
              "      fill: #174EA6;\n",
              "    }\n",
              "\n",
              "    [theme=dark] .colab-df-convert {\n",
              "      background-color: #3B4455;\n",
              "      fill: #D2E3FC;\n",
              "    }\n",
              "\n",
              "    [theme=dark] .colab-df-convert:hover {\n",
              "      background-color: #434B5C;\n",
              "      box-shadow: 0px 1px 3px 1px rgba(0, 0, 0, 0.15);\n",
              "      filter: drop-shadow(0px 1px 2px rgba(0, 0, 0, 0.3));\n",
              "      fill: #FFFFFF;\n",
              "    }\n",
              "  </style>\n",
              "\n",
              "      <script>\n",
              "        const buttonEl =\n",
              "          document.querySelector('#df-d9f993bb-ca72-4028-9f90-8f8fd0ce1b2e button.colab-df-convert');\n",
              "        buttonEl.style.display =\n",
              "          google.colab.kernel.accessAllowed ? 'block' : 'none';\n",
              "\n",
              "        async function convertToInteractive(key) {\n",
              "          const element = document.querySelector('#df-d9f993bb-ca72-4028-9f90-8f8fd0ce1b2e');\n",
              "          const dataTable =\n",
              "            await google.colab.kernel.invokeFunction('convertToInteractive',\n",
              "                                                     [key], {});\n",
              "          if (!dataTable) return;\n",
              "\n",
              "          const docLinkHtml = 'Like what you see? Visit the ' +\n",
              "            '<a target=\"_blank\" href=https://colab.research.google.com/notebooks/data_table.ipynb>data table notebook</a>'\n",
              "            + ' to learn more about interactive tables.';\n",
              "          element.innerHTML = '';\n",
              "          dataTable['output_type'] = 'display_data';\n",
              "          await google.colab.output.renderOutput(dataTable, element);\n",
              "          const docLink = document.createElement('div');\n",
              "          docLink.innerHTML = docLinkHtml;\n",
              "          element.appendChild(docLink);\n",
              "        }\n",
              "      </script>\n",
              "    </div>\n",
              "  </div>\n",
              "  "
            ]
          },
          "metadata": {},
          "execution_count": 58
        }
      ]
    },
    {
      "cell_type": "code",
      "execution_count": null,
      "metadata": {
        "colab": {
          "base_uri": "https://localhost:8080/"
        },
        "outputId": "cc8c6823-7893-4b97-81e5-805b4ca8490e",
        "id": "6MVjIS4H_nsP"
      },
      "outputs": [
        {
          "output_type": "display_data",
          "data": {
            "text/plain": [
              "<Figure size 1008x360 with 1 Axes>"
            ],
            "image/png": "[encoded data removed]"
          },
          "metadata": {}
        }
      ],
      "source": [
        "sns.set_style('whitegrid')\n",
        "plt.rcParams['font.size'] = 10\n",
        "plt.rcParams['figure.figsize'] = (14,5)\n",
        "sns.barplot(x = 'arrival_date_month', y = 'average room rent', data =average_rent_city_hotel , order = average_rent_city_hotel.sort_values('average room rent', ascending = False).arrival_date_month).set_title(\"Average Room rent across 12 months for Resort Hotel\")\n",
        "plt.show()"
      ]
    },
    {
      "cell_type": "markdown",
      "metadata": {
        "id": "EVLHMmLZukdn"
      },
      "source": [
        "**Observation: The above data shows the average rent for the City hotel for all the 12 months and the average rent is maximum for the month of May and minimum for the month of January.**"
      ]
    },
    {
      "cell_type": "markdown",
      "source": [
        "## **Comparing the Average Total Revenue for Resort hotel and City Hotel**"
      ],
      "metadata": {
        "id": "bN4KEyDAoNcM"
      }
    },
    {
      "cell_type": "markdown",
      "source": [
        "**Calculating the average total revenue for Resort hotel for 1 year.**"
      ],
      "metadata": {
        "id": "1DrwWKWfBWLe"
      }
    },
    {
      "cell_type": "code",
      "source": [
        "total_revenue = average_rent_resort_hotel['average room Rent'].sum()\n",
        "total_revenue.round(2)"
      ],
      "metadata": {
        "id": "CNkCnOL6pJXc",
        "outputId": "5b086f2c-524f-47d7-c91b-ab018e9bd087",
        "colab": {
          "base_uri": "https://localhost:8080/"
        }
      },
      "execution_count": null,
      "outputs": [
        {
          "output_type": "execute_result",
          "data": {
            "text/plain": [
              "1026.79"
            ]
          },
          "metadata": {},
          "execution_count": 60
        }
      ]
    },
    {
      "cell_type": "markdown",
      "source": [
        "**Calculating the average total revenue for City hotel for 1 year.**"
      ],
      "metadata": {
        "id": "uBRrRQfeBOd9"
      }
    },
    {
      "cell_type": "code",
      "source": [
        "total_city_revenue = average_rent_city_hotel['average room rent'].sum()\n",
        "total_city_revenue"
      ],
      "metadata": {
        "id": "qoJq5TCEYQuz",
        "outputId": "48a70cfb-d2bf-442a-b36a-5a0cebb7df06",
        "colab": {
          "base_uri": "https://localhost:8080/"
        }
      },
      "execution_count": null,
      "outputs": [
        {
          "output_type": "execute_result",
          "data": {
            "text/plain": [
              "1231.1966450767577"
            ]
          },
          "metadata": {},
          "execution_count": 61
        }
      ]
    },
    {
      "cell_type": "code",
      "source": [
        "total_city_revenue.round(2)"
      ],
      "metadata": {
        "id": "8nAzjf6ABfqk",
        "outputId": "571e491e-8733-4fdd-b8c7-2eb5c0e0416e",
        "colab": {
          "base_uri": "https://localhost:8080/"
        }
      },
      "execution_count": null,
      "outputs": [
        {
          "output_type": "execute_result",
          "data": {
            "text/plain": [
              "1231.2"
            ]
          },
          "metadata": {},
          "execution_count": 62
        }
      ]
    },
    {
      "cell_type": "markdown",
      "source": [
        "**Observation: Total revenue for Resort Hotel is 1026.79 and for City Hotel is 1231.2 so, from the above data we can see that City hotel is making more revenue than Resort Hotel**"
      ],
      "metadata": {
        "id": "a6PHWQXlnhw7"
      }
    },
    {
      "cell_type": "markdown",
      "metadata": {
        "id": "dcgYl58NvIxT"
      },
      "source": [
        "## **Question 8) Find out the average rent and waiting time for different types of customers for City hotel and Resort Hotel.**"
      ]
    },
    {
      "cell_type": "markdown",
      "source": [
        "**For Resort Hotel customer.**"
      ],
      "metadata": {
        "id": "gLYvJNbK85VH"
      }
    },
    {
      "cell_type": "code",
      "execution_count": null,
      "metadata": {
        "id": "p2TWmB2gugbV",
        "colab": {
          "base_uri": "https://localhost:8080/"
        },
        "outputId": "1aef718b-e0cc-45b3-a745-ad5d63026419"
      },
      "outputs": [
        {
          "output_type": "execute_result",
          "data": {
            "text/plain": [
              "                 avg_waiting_period   avg_rent\n",
              "customer_type                                 \n",
              "Contract                   0.099444  78.581674\n",
              "Group                      0.492126  77.306575\n",
              "Transient                  0.011735  96.001928\n",
              "Transient-Party            3.121811  77.204010"
            ],
            "text/html": [
              "\n",
              "  <div id=\"df-6314a0b3-3754-49c8-9dca-49c953afdac9\">\n",
              "    <div class=\"colab-df-container\">\n",
              "      <div>\n",
              "<style scoped>\n",
              "    .dataframe tbody tr th:only-of-type {\n",
              "        vertical-align: middle;\n",
              "    }\n",
              "\n",
              "    .dataframe tbody tr th {\n",
              "        vertical-align: top;\n",
              "    }\n",
              "\n",
              "    .dataframe thead th {\n",
              "        text-align: right;\n",
              "    }\n",
              "</style>\n",
              "<table border=\"1\" class=\"dataframe\">\n",
              "  <thead>\n",
              "    <tr style=\"text-align: right;\">\n",
              "      <th></th>\n",
              "      <th>avg_waiting_period</th>\n",
              "      <th>avg_rent</th>\n",
              "    </tr>\n",
              "    <tr>\n",
              "      <th>customer_type</th>\n",
              "      <th></th>\n",
              "      <th></th>\n",
              "    </tr>\n",
              "  </thead>\n",
              "  <tbody>\n",
              "    <tr>\n",
              "      <th>Contract</th>\n",
              "      <td>0.099444</td>\n",
              "      <td>78.581674</td>\n",
              "    </tr>\n",
              "    <tr>\n",
              "      <th>Group</th>\n",
              "      <td>0.492126</td>\n",
              "      <td>77.306575</td>\n",
              "    </tr>\n",
              "    <tr>\n",
              "      <th>Transient</th>\n",
              "      <td>0.011735</td>\n",
              "      <td>96.001928</td>\n",
              "    </tr>\n",
              "    <tr>\n",
              "      <th>Transient-Party</th>\n",
              "      <td>3.121811</td>\n",
              "      <td>77.204010</td>\n",
              "    </tr>\n",
              "  </tbody>\n",
              "</table>\n",
              "</div>\n",
              "      <button class=\"colab-df-convert\" onclick=\"convertToInteractive('df-6314a0b3-3754-49c8-9dca-49c953afdac9')\"\n",
              "              title=\"Convert this dataframe to an interactive table.\"\n",
              "              style=\"display:none;\">\n",
              "        \n",
              "  <svg xmlns=\"http://www.w3.org/2000/svg\" height=\"24px\"viewBox=\"0 0 24 24\"\n",
              "       width=\"24px\">\n",
              "    <path d=\"M0 0h24v24H0V0z\" fill=\"none\"/>\n",
              "    <path d=\"M18.56 5.44l.94 2.06.94-2.06 2.06-.94-2.06-.94-.94-2.06-.94 2.06-2.06.94zm-11 1L8.5 8.5l.94-2.06 2.06-.94-2.06-.94L8.5 2.5l-.94 2.06-2.06.94zm10 10l.94 2.06.94-2.06 2.06-.94-2.06-.94-.94-2.06-.94 2.06-2.06.94z\"/><path d=\"M17.41 7.96l-1.37-1.37c-.4-.4-.92-.59-1.43-.59-.52 0-1.04.2-1.43.59L10.3 9.45l-7.72 7.72c-.78.78-.78 2.05 0 2.83L4 21.41c.39.39.9.59 1.41.59.51 0 1.02-.2 1.41-.59l7.78-7.78 2.81-2.81c.8-.78.8-2.07 0-2.86zM5.41 20L4 18.59l7.72-7.72 1.47 1.35L5.41 20z\"/>\n",
              "  </svg>\n",
              "      </button>\n",
              "      \n",
              "  <style>\n",
              "    .colab-df-container {\n",
              "      display:flex;\n",
              "      flex-wrap:wrap;\n",
              "      gap: 12px;\n",
              "    }\n",
              "\n",
              "    .colab-df-convert {\n",
              "      background-color: #E8F0FE;\n",
              "      border: none;\n",
              "      border-radius: 50%;\n",
              "      cursor: pointer;\n",
              "      display: none;\n",
              "      fill: #1967D2;\n",
              "      height: 32px;\n",
              "      padding: 0 0 0 0;\n",
              "      width: 32px;\n",
              "    }\n",
              "\n",
              "    .colab-df-convert:hover {\n",
              "      background-color: #E2EBFA;\n",
              "      box-shadow: 0px 1px 2px rgba(60, 64, 67, 0.3), 0px 1px 3px 1px rgba(60, 64, 67, 0.15);\n",
              "      fill: #174EA6;\n",
              "    }\n",
              "\n",
              "    [theme=dark] .colab-df-convert {\n",
              "      background-color: #3B4455;\n",
              "      fill: #D2E3FC;\n",
              "    }\n",
              "\n",
              "    [theme=dark] .colab-df-convert:hover {\n",
              "      background-color: #434B5C;\n",
              "      box-shadow: 0px 1px 3px 1px rgba(0, 0, 0, 0.15);\n",
              "      filter: drop-shadow(0px 1px 2px rgba(0, 0, 0, 0.3));\n",
              "      fill: #FFFFFF;\n",
              "    }\n",
              "  </style>\n",
              "\n",
              "      <script>\n",
              "        const buttonEl =\n",
              "          document.querySelector('#df-6314a0b3-3754-49c8-9dca-49c953afdac9 button.colab-df-convert');\n",
              "        buttonEl.style.display =\n",
              "          google.colab.kernel.accessAllowed ? 'block' : 'none';\n",
              "\n",
              "        async function convertToInteractive(key) {\n",
              "          const element = document.querySelector('#df-6314a0b3-3754-49c8-9dca-49c953afdac9');\n",
              "          const dataTable =\n",
              "            await google.colab.kernel.invokeFunction('convertToInteractive',\n",
              "                                                     [key], {});\n",
              "          if (!dataTable) return;\n",
              "\n",
              "          const docLinkHtml = 'Like what you see? Visit the ' +\n",
              "            '<a target=\"_blank\" href=https://colab.research.google.com/notebooks/data_table.ipynb>data table notebook</a>'\n",
              "            + ' to learn more about interactive tables.';\n",
              "          element.innerHTML = '';\n",
              "          dataTable['output_type'] = 'display_data';\n",
              "          await google.colab.output.renderOutput(dataTable, element);\n",
              "          const docLink = document.createElement('div');\n",
              "          docLink.innerHTML = docLinkHtml;\n",
              "          element.appendChild(docLink);\n",
              "        }\n",
              "      </script>\n",
              "    </div>\n",
              "  </div>\n",
              "  "
            ]
          },
          "metadata": {},
          "execution_count": 63
        }
      ],
      "source": [
        "average_values = resort_booking.groupby('customer_type').agg({'days_in_waiting_list':\"mean\",'adr':\"mean\"}).rename(columns = {'days_in_waiting_list':'avg_waiting_period','adr':'avg_rent'})\n",
        "average_values"
      ]
    },
    {
      "cell_type": "markdown",
      "metadata": {
        "id": "eAVoTnUMYC7l"
      },
      "source": [
        "**Observations - For Contract ,Transient and Group type customers the wating period is zero where as for Transient-Party it is 3.12, So it is clear that if the booking was made as 'Contract' or 'Group' or 'Transient' the rooms will be booked immedietly without waiting time.**\n",
        "\n",
        "**The average rent is maximum for 'Transient' type of customers and minimum for 'Transient-Party' type of customers.**\n",
        "\n",
        "**It is represented graphically as follows:**\n",
        "\n"
      ]
    },
    {
      "cell_type": "code",
      "execution_count": null,
      "metadata": {
        "id": "f8DONH1zX1DN",
        "colab": {
          "base_uri": "https://localhost:8080/"
        },
        "outputId": "b4e701f8-20a7-455c-adf2-5c07b15be0f3"
      },
      "outputs": [
        {
          "output_type": "display_data",
          "data": {
            "text/plain": [
              "<Figure size 864x864 with 1 Axes>"
            ],
            "image/png": "[encoded data removed]"
          },
          "metadata": {}
        }
      ],
      "source": [
        "ax=average_values.plot(figsize=(12,12),title='Average waiting period of different types of customers of Resort Hotel')"
      ]
    },
    {
      "cell_type": "markdown",
      "source": [
        "**For City Hotel customer.**"
      ],
      "metadata": {
        "id": "A-x_Ez3U9UF5"
      }
    },
    {
      "cell_type": "code",
      "source": [
        "average_city_values = city_booking.groupby('customer_type').agg({'days_in_waiting_list':\"mean\",'adr':\"mean\"}).rename(columns = {'days_in_waiting_list':'avg_waiting_period','adr':'avg_rent'})"
      ],
      "metadata": {
        "id": "k_Ieh5kZLmIB"
      },
      "execution_count": null,
      "outputs": []
    },
    {
      "cell_type": "code",
      "source": [
        "average_city_values"
      ],
      "metadata": {
        "id": "bwIjnXjX9gpI",
        "outputId": "b5607e7a-747b-4dab-ec42-08921cb9628a",
        "colab": {
          "base_uri": "https://localhost:8080/"
        }
      },
      "execution_count": null,
      "outputs": [
        {
          "output_type": "execute_result",
          "data": {
            "text/plain": [
              "                 avg_waiting_period    avg_rent\n",
              "customer_type                                  \n",
              "Contract                   0.000000  108.929255\n",
              "Group                      0.333333   87.398712\n",
              "Transient                  0.033554  110.423280\n",
              "Transient-Party            7.881088   93.705007"
            ],
            "text/html": [
              "\n",
              "  <div id=\"df-cc9f3888-30d5-4dbe-9fd0-596e6a127728\">\n",
              "    <div class=\"colab-df-container\">\n",
              "      <div>\n",
              "<style scoped>\n",
              "    .dataframe tbody tr th:only-of-type {\n",
              "        vertical-align: middle;\n",
              "    }\n",
              "\n",
              "    .dataframe tbody tr th {\n",
              "        vertical-align: top;\n",
              "    }\n",
              "\n",
              "    .dataframe thead th {\n",
              "        text-align: right;\n",
              "    }\n",
              "</style>\n",
              "<table border=\"1\" class=\"dataframe\">\n",
              "  <thead>\n",
              "    <tr style=\"text-align: right;\">\n",
              "      <th></th>\n",
              "      <th>avg_waiting_period</th>\n",
              "      <th>avg_rent</th>\n",
              "    </tr>\n",
              "    <tr>\n",
              "      <th>customer_type</th>\n",
              "      <th></th>\n",
              "      <th></th>\n",
              "    </tr>\n",
              "  </thead>\n",
              "  <tbody>\n",
              "    <tr>\n",
              "      <th>Contract</th>\n",
              "      <td>0.000000</td>\n",
              "      <td>108.929255</td>\n",
              "    </tr>\n",
              "    <tr>\n",
              "      <th>Group</th>\n",
              "      <td>0.333333</td>\n",
              "      <td>87.398712</td>\n",
              "    </tr>\n",
              "    <tr>\n",
              "      <th>Transient</th>\n",
              "      <td>0.033554</td>\n",
              "      <td>110.423280</td>\n",
              "    </tr>\n",
              "    <tr>\n",
              "      <th>Transient-Party</th>\n",
              "      <td>7.881088</td>\n",
              "      <td>93.705007</td>\n",
              "    </tr>\n",
              "  </tbody>\n",
              "</table>\n",
              "</div>\n",
              "      <button class=\"colab-df-convert\" onclick=\"convertToInteractive('df-cc9f3888-30d5-4dbe-9fd0-596e6a127728')\"\n",
              "              title=\"Convert this dataframe to an interactive table.\"\n",
              "              style=\"display:none;\">\n",
              "        \n",
              "  <svg xmlns=\"http://www.w3.org/2000/svg\" height=\"24px\"viewBox=\"0 0 24 24\"\n",
              "       width=\"24px\">\n",
              "    <path d=\"M0 0h24v24H0V0z\" fill=\"none\"/>\n",
              "    <path d=\"M18.56 5.44l.94 2.06.94-2.06 2.06-.94-2.06-.94-.94-2.06-.94 2.06-2.06.94zm-11 1L8.5 8.5l.94-2.06 2.06-.94-2.06-.94L8.5 2.5l-.94 2.06-2.06.94zm10 10l.94 2.06.94-2.06 2.06-.94-2.06-.94-.94-2.06-.94 2.06-2.06.94z\"/><path d=\"M17.41 7.96l-1.37-1.37c-.4-.4-.92-.59-1.43-.59-.52 0-1.04.2-1.43.59L10.3 9.45l-7.72 7.72c-.78.78-.78 2.05 0 2.83L4 21.41c.39.39.9.59 1.41.59.51 0 1.02-.2 1.41-.59l7.78-7.78 2.81-2.81c.8-.78.8-2.07 0-2.86zM5.41 20L4 18.59l7.72-7.72 1.47 1.35L5.41 20z\"/>\n",
              "  </svg>\n",
              "      </button>\n",
              "      \n",
              "  <style>\n",
              "    .colab-df-container {\n",
              "      display:flex;\n",
              "      flex-wrap:wrap;\n",
              "      gap: 12px;\n",
              "    }\n",
              "\n",
              "    .colab-df-convert {\n",
              "      background-color: #E8F0FE;\n",
              "      border: none;\n",
              "      border-radius: 50%;\n",
              "      cursor: pointer;\n",
              "      display: none;\n",
              "      fill: #1967D2;\n",
              "      height: 32px;\n",
              "      padding: 0 0 0 0;\n",
              "      width: 32px;\n",
              "    }\n",
              "\n",
              "    .colab-df-convert:hover {\n",
              "      background-color: #E2EBFA;\n",
              "      box-shadow: 0px 1px 2px rgba(60, 64, 67, 0.3), 0px 1px 3px 1px rgba(60, 64, 67, 0.15);\n",
              "      fill: #174EA6;\n",
              "    }\n",
              "\n",
              "    [theme=dark] .colab-df-convert {\n",
              "      background-color: #3B4455;\n",
              "      fill: #D2E3FC;\n",
              "    }\n",
              "\n",
              "    [theme=dark] .colab-df-convert:hover {\n",
              "      background-color: #434B5C;\n",
              "      box-shadow: 0px 1px 3px 1px rgba(0, 0, 0, 0.15);\n",
              "      filter: drop-shadow(0px 1px 2px rgba(0, 0, 0, 0.3));\n",
              "      fill: #FFFFFF;\n",
              "    }\n",
              "  </style>\n",
              "\n",
              "      <script>\n",
              "        const buttonEl =\n",
              "          document.querySelector('#df-cc9f3888-30d5-4dbe-9fd0-596e6a127728 button.colab-df-convert');\n",
              "        buttonEl.style.display =\n",
              "          google.colab.kernel.accessAllowed ? 'block' : 'none';\n",
              "\n",
              "        async function convertToInteractive(key) {\n",
              "          const element = document.querySelector('#df-cc9f3888-30d5-4dbe-9fd0-596e6a127728');\n",
              "          const dataTable =\n",
              "            await google.colab.kernel.invokeFunction('convertToInteractive',\n",
              "                                                     [key], {});\n",
              "          if (!dataTable) return;\n",
              "\n",
              "          const docLinkHtml = 'Like what you see? Visit the ' +\n",
              "            '<a target=\"_blank\" href=https://colab.research.google.com/notebooks/data_table.ipynb>data table notebook</a>'\n",
              "            + ' to learn more about interactive tables.';\n",
              "          element.innerHTML = '';\n",
              "          dataTable['output_type'] = 'display_data';\n",
              "          await google.colab.output.renderOutput(dataTable, element);\n",
              "          const docLink = document.createElement('div');\n",
              "          docLink.innerHTML = docLinkHtml;\n",
              "          element.appendChild(docLink);\n",
              "        }\n",
              "      </script>\n",
              "    </div>\n",
              "  </div>\n",
              "  "
            ]
          },
          "metadata": {},
          "execution_count": 66
        }
      ]
    },
    {
      "cell_type": "code",
      "source": [
        "ax = average_city_values.plot(figsize=(8,8),title='Average waiting period and rent for different type of customers of City Hotel')\n"
      ],
      "metadata": {
        "id": "alXHZDFbL8OS",
        "colab": {
          "base_uri": "https://localhost:8080/"
        },
        "outputId": "2c6d1913-e0e8-4a10-df55-844929b34040"
      },
      "execution_count": null,
      "outputs": [
        {
          "output_type": "display_data",
          "data": {
            "text/plain": [
              "<Figure size 576x576 with 1 Axes>"
            ],
            "image/png": "[encoded data removed]"
          },
          "metadata": {}
        }
      ]
    },
    {
      "cell_type": "markdown",
      "source": [
        "**Observation: For Contract ,Transient and Group type customers the wating period is zero where as for Transient-Party it is 7.88 So it is clear that if the booking was made as 'Contract' or 'Group' or 'Transient' the rooms will be booked immedietly without waiting time.**"
      ],
      "metadata": {
        "id": "xv7z6M_DL-z5"
      }
    },
    {
      "cell_type": "markdown",
      "source": [
        "**The average rent is maximum for 'Transient' type of customers and minimum for 'Transient-Party' type of customers.**"
      ],
      "metadata": {
        "id": "RdEIhQQ0Mjre"
      }
    },
    {
      "cell_type": "markdown",
      "source": [
        "# **Question 9) Find the Agent who has done most number of bookings for Resort hotel and City Hotel.**"
      ],
      "metadata": {
        "id": "1N2aDJ4PdU56"
      }
    },
    {
      "cell_type": "markdown",
      "source": [
        "**Calculating the agent who has done maximum number of bookings for Resort Hotel.**"
      ],
      "metadata": {
        "id": "MeJXrI2Z9_vW"
      }
    },
    {
      "cell_type": "code",
      "source": [
        "booking_count = resort_booking['agent'].value_counts().reset_index().rename(columns = {'index':'agent','agent':'num_of_bookings'}).sort_values(by = 'num_of_bookings',ascending=False)"
      ],
      "metadata": {
        "id": "qFMjvWVHa6QM"
      },
      "execution_count": null,
      "outputs": []
    },
    {
      "cell_type": "code",
      "source": [
        "booking_count = booking_count.iloc[0:5]"
      ],
      "metadata": {
        "id": "ikvtfmbZ-Gfd"
      },
      "execution_count": null,
      "outputs": []
    },
    {
      "cell_type": "code",
      "source": [
        "booking_count"
      ],
      "metadata": {
        "id": "wQdyrMg4-Ra5",
        "outputId": "33a31bb1-4b2c-45ad-fe68-55259ea03e5a",
        "colab": {
          "base_uri": "https://localhost:8080/",
          "height": 206
        }
      },
      "execution_count": null,
      "outputs": [
        {
          "output_type": "execute_result",
          "data": {
            "text/plain": [
              "   agent  num_of_bookings\n",
              "0  240.0             8422\n",
              "1    0.0             6788\n",
              "2  250.0             2356\n",
              "3  241.0             1485\n",
              "4   40.0              920"
            ],
            "text/html": [
              "\n",
              "  <div id=\"df-3d55c700-f945-4197-b44e-80895fbc6302\">\n",
              "    <div class=\"colab-df-container\">\n",
              "      <div>\n",
              "<style scoped>\n",
              "    .dataframe tbody tr th:only-of-type {\n",
              "        vertical-align: middle;\n",
              "    }\n",
              "\n",
              "    .dataframe tbody tr th {\n",
              "        vertical-align: top;\n",
              "    }\n",
              "\n",
              "    .dataframe thead th {\n",
              "        text-align: right;\n",
              "    }\n",
              "</style>\n",
              "<table border=\"1\" class=\"dataframe\">\n",
              "  <thead>\n",
              "    <tr style=\"text-align: right;\">\n",
              "      <th></th>\n",
              "      <th>agent</th>\n",
              "      <th>num_of_bookings</th>\n",
              "    </tr>\n",
              "  </thead>\n",
              "  <tbody>\n",
              "    <tr>\n",
              "      <th>0</th>\n",
              "      <td>240.0</td>\n",
              "      <td>8422</td>\n",
              "    </tr>\n",
              "    <tr>\n",
              "      <th>1</th>\n",
              "      <td>0.0</td>\n",
              "      <td>6788</td>\n",
              "    </tr>\n",
              "    <tr>\n",
              "      <th>2</th>\n",
              "      <td>250.0</td>\n",
              "      <td>2356</td>\n",
              "    </tr>\n",
              "    <tr>\n",
              "      <th>3</th>\n",
              "      <td>241.0</td>\n",
              "      <td>1485</td>\n",
              "    </tr>\n",
              "    <tr>\n",
              "      <th>4</th>\n",
              "      <td>40.0</td>\n",
              "      <td>920</td>\n",
              "    </tr>\n",
              "  </tbody>\n",
              "</table>\n",
              "</div>\n",
              "      <button class=\"colab-df-convert\" onclick=\"convertToInteractive('df-3d55c700-f945-4197-b44e-80895fbc6302')\"\n",
              "              title=\"Convert this dataframe to an interactive table.\"\n",
              "              style=\"display:none;\">\n",
              "        \n",
              "  <svg xmlns=\"http://www.w3.org/2000/svg\" height=\"24px\"viewBox=\"0 0 24 24\"\n",
              "       width=\"24px\">\n",
              "    <path d=\"M0 0h24v24H0V0z\" fill=\"none\"/>\n",
              "    <path d=\"M18.56 5.44l.94 2.06.94-2.06 2.06-.94-2.06-.94-.94-2.06-.94 2.06-2.06.94zm-11 1L8.5 8.5l.94-2.06 2.06-.94-2.06-.94L8.5 2.5l-.94 2.06-2.06.94zm10 10l.94 2.06.94-2.06 2.06-.94-2.06-.94-.94-2.06-.94 2.06-2.06.94z\"/><path d=\"M17.41 7.96l-1.37-1.37c-.4-.4-.92-.59-1.43-.59-.52 0-1.04.2-1.43.59L10.3 9.45l-7.72 7.72c-.78.78-.78 2.05 0 2.83L4 21.41c.39.39.9.59 1.41.59.51 0 1.02-.2 1.41-.59l7.78-7.78 2.81-2.81c.8-.78.8-2.07 0-2.86zM5.41 20L4 18.59l7.72-7.72 1.47 1.35L5.41 20z\"/>\n",
              "  </svg>\n",
              "      </button>\n",
              "      \n",
              "  <style>\n",
              "    .colab-df-container {\n",
              "      display:flex;\n",
              "      flex-wrap:wrap;\n",
              "      gap: 12px;\n",
              "    }\n",
              "\n",
              "    .colab-df-convert {\n",
              "      background-color: #E8F0FE;\n",
              "      border: none;\n",
              "      border-radius: 50%;\n",
              "      cursor: pointer;\n",
              "      display: none;\n",
              "      fill: #1967D2;\n",
              "      height: 32px;\n",
              "      padding: 0 0 0 0;\n",
              "      width: 32px;\n",
              "    }\n",
              "\n",
              "    .colab-df-convert:hover {\n",
              "      background-color: #E2EBFA;\n",
              "      box-shadow: 0px 1px 2px rgba(60, 64, 67, 0.3), 0px 1px 3px 1px rgba(60, 64, 67, 0.15);\n",
              "      fill: #174EA6;\n",
              "    }\n",
              "\n",
              "    [theme=dark] .colab-df-convert {\n",
              "      background-color: #3B4455;\n",
              "      fill: #D2E3FC;\n",
              "    }\n",
              "\n",
              "    [theme=dark] .colab-df-convert:hover {\n",
              "      background-color: #434B5C;\n",
              "      box-shadow: 0px 1px 3px 1px rgba(0, 0, 0, 0.15);\n",
              "      filter: drop-shadow(0px 1px 2px rgba(0, 0, 0, 0.3));\n",
              "      fill: #FFFFFF;\n",
              "    }\n",
              "  </style>\n",
              "\n",
              "      <script>\n",
              "        const buttonEl =\n",
              "          document.querySelector('#df-3d55c700-f945-4197-b44e-80895fbc6302 button.colab-df-convert');\n",
              "        buttonEl.style.display =\n",
              "          google.colab.kernel.accessAllowed ? 'block' : 'none';\n",
              "\n",
              "        async function convertToInteractive(key) {\n",
              "          const element = document.querySelector('#df-3d55c700-f945-4197-b44e-80895fbc6302');\n",
              "          const dataTable =\n",
              "            await google.colab.kernel.invokeFunction('convertToInteractive',\n",
              "                                                     [key], {});\n",
              "          if (!dataTable) return;\n",
              "\n",
              "          const docLinkHtml = 'Like what you see? Visit the ' +\n",
              "            '<a target=\"_blank\" href=https://colab.research.google.com/notebooks/data_table.ipynb>data table notebook</a>'\n",
              "            + ' to learn more about interactive tables.';\n",
              "          element.innerHTML = '';\n",
              "          dataTable['output_type'] = 'display_data';\n",
              "          await google.colab.output.renderOutput(dataTable, element);\n",
              "          const docLink = document.createElement('div');\n",
              "          docLink.innerHTML = docLinkHtml;\n",
              "          element.appendChild(docLink);\n",
              "        }\n",
              "      </script>\n",
              "    </div>\n",
              "  </div>\n",
              "  "
            ]
          },
          "metadata": {},
          "execution_count": 70
        }
      ]
    },
    {
      "cell_type": "code",
      "source": [
        "plt.figure(figsize = (10,5))\n",
        "sns.barplot(x = 'agent', y = 'num_of_bookings', data = booking_count, order = booking_count.sort_values('num_of_bookings', ascending = False).agent).set_title(\"Number of bookings made by Agents for Resort hotel \")"
      ],
      "metadata": {
        "id": "9JI44vUzKwgQ",
        "colab": {
          "base_uri": "https://localhost:8080/",
          "height": 367
        },
        "outputId": "71554150-969a-4fc2-b15e-2859f8527966"
      },
      "execution_count": null,
      "outputs": [
        {
          "output_type": "execute_result",
          "data": {
            "text/plain": [
              "Text(0.5, 1.0, 'Number of bookings made by Agents for Resort hotel ')"
            ]
          },
          "metadata": {},
          "execution_count": 71
        },
        {
          "output_type": "display_data",
          "data": {
            "text/plain": [
              "<Figure size 720x360 with 1 Axes>"
            ],
            "image/png": "[encoded data removed]"
          },
          "metadata": {}
        }
      ]
    },
    {
      "cell_type": "markdown",
      "source": [
        "**Observation: The above data shows the top five agents who have made maximum number of bookings in Resort hotel. We can see that Agent number 240 has made maximum number of booking**"
      ],
      "metadata": {
        "id": "OTa9uizPSxRW"
      }
    },
    {
      "cell_type": "markdown",
      "source": [
        "**Calculating the agent who has done maximum number of bookings for City Hotel.**"
      ],
      "metadata": {
        "id": "2qjKcuNL-j1u"
      }
    },
    {
      "cell_type": "code",
      "source": [
        "booking_city_count = city_booking['agent'].value_counts().reset_index().rename(columns = {'index':'agent','agent':'num_of_bookings'}).sort_values(by = 'num_of_bookings',ascending=False)"
      ],
      "metadata": {
        "id": "s-pO6CjkTZc8"
      },
      "execution_count": null,
      "outputs": []
    },
    {
      "cell_type": "code",
      "source": [
        "booking_city_count = booking_city_count.iloc[0:5]"
      ],
      "metadata": {
        "id": "iCKzN99t-qjb"
      },
      "execution_count": null,
      "outputs": []
    },
    {
      "cell_type": "code",
      "source": [
        "booking_city_count"
      ],
      "metadata": {
        "id": "ej0SWptJ_NPl",
        "outputId": "e0b5df9c-ec35-458f-84c9-2385ce2f3c39",
        "colab": {
          "base_uri": "https://localhost:8080/",
          "height": 206
        }
      },
      "execution_count": null,
      "outputs": [
        {
          "output_type": "execute_result",
          "data": {
            "text/plain": [
              "   agent  num_of_bookings\n",
              "0    9.0            18693\n",
              "1    0.0             5522\n",
              "2    7.0             3065\n",
              "3   14.0             2988\n",
              "4    1.0             1907"
            ],
            "text/html": [
              "\n",
              "  <div id=\"df-f71b42b1-928b-4803-8703-7cd7fcb58eb7\">\n",
              "    <div class=\"colab-df-container\">\n",
              "      <div>\n",
              "<style scoped>\n",
              "    .dataframe tbody tr th:only-of-type {\n",
              "        vertical-align: middle;\n",
              "    }\n",
              "\n",
              "    .dataframe tbody tr th {\n",
              "        vertical-align: top;\n",
              "    }\n",
              "\n",
              "    .dataframe thead th {\n",
              "        text-align: right;\n",
              "    }\n",
              "</style>\n",
              "<table border=\"1\" class=\"dataframe\">\n",
              "  <thead>\n",
              "    <tr style=\"text-align: right;\">\n",
              "      <th></th>\n",
              "      <th>agent</th>\n",
              "      <th>num_of_bookings</th>\n",
              "    </tr>\n",
              "  </thead>\n",
              "  <tbody>\n",
              "    <tr>\n",
              "      <th>0</th>\n",
              "      <td>9.0</td>\n",
              "      <td>18693</td>\n",
              "    </tr>\n",
              "    <tr>\n",
              "      <th>1</th>\n",
              "      <td>0.0</td>\n",
              "      <td>5522</td>\n",
              "    </tr>\n",
              "    <tr>\n",
              "      <th>2</th>\n",
              "      <td>7.0</td>\n",
              "      <td>3065</td>\n",
              "    </tr>\n",
              "    <tr>\n",
              "      <th>3</th>\n",
              "      <td>14.0</td>\n",
              "      <td>2988</td>\n",
              "    </tr>\n",
              "    <tr>\n",
              "      <th>4</th>\n",
              "      <td>1.0</td>\n",
              "      <td>1907</td>\n",
              "    </tr>\n",
              "  </tbody>\n",
              "</table>\n",
              "</div>\n",
              "      <button class=\"colab-df-convert\" onclick=\"convertToInteractive('df-f71b42b1-928b-4803-8703-7cd7fcb58eb7')\"\n",
              "              title=\"Convert this dataframe to an interactive table.\"\n",
              "              style=\"display:none;\">\n",
              "        \n",
              "  <svg xmlns=\"http://www.w3.org/2000/svg\" height=\"24px\"viewBox=\"0 0 24 24\"\n",
              "       width=\"24px\">\n",
              "    <path d=\"M0 0h24v24H0V0z\" fill=\"none\"/>\n",
              "    <path d=\"M18.56 5.44l.94 2.06.94-2.06 2.06-.94-2.06-.94-.94-2.06-.94 2.06-2.06.94zm-11 1L8.5 8.5l.94-2.06 2.06-.94-2.06-.94L8.5 2.5l-.94 2.06-2.06.94zm10 10l.94 2.06.94-2.06 2.06-.94-2.06-.94-.94-2.06-.94 2.06-2.06.94z\"/><path d=\"M17.41 7.96l-1.37-1.37c-.4-.4-.92-.59-1.43-.59-.52 0-1.04.2-1.43.59L10.3 9.45l-7.72 7.72c-.78.78-.78 2.05 0 2.83L4 21.41c.39.39.9.59 1.41.59.51 0 1.02-.2 1.41-.59l7.78-7.78 2.81-2.81c.8-.78.8-2.07 0-2.86zM5.41 20L4 18.59l7.72-7.72 1.47 1.35L5.41 20z\"/>\n",
              "  </svg>\n",
              "      </button>\n",
              "      \n",
              "  <style>\n",
              "    .colab-df-container {\n",
              "      display:flex;\n",
              "      flex-wrap:wrap;\n",
              "      gap: 12px;\n",
              "    }\n",
              "\n",
              "    .colab-df-convert {\n",
              "      background-color: #E8F0FE;\n",
              "      border: none;\n",
              "      border-radius: 50%;\n",
              "      cursor: pointer;\n",
              "      display: none;\n",
              "      fill: #1967D2;\n",
              "      height: 32px;\n",
              "      padding: 0 0 0 0;\n",
              "      width: 32px;\n",
              "    }\n",
              "\n",
              "    .colab-df-convert:hover {\n",
              "      background-color: #E2EBFA;\n",
              "      box-shadow: 0px 1px 2px rgba(60, 64, 67, 0.3), 0px 1px 3px 1px rgba(60, 64, 67, 0.15);\n",
              "      fill: #174EA6;\n",
              "    }\n",
              "\n",
              "    [theme=dark] .colab-df-convert {\n",
              "      background-color: #3B4455;\n",
              "      fill: #D2E3FC;\n",
              "    }\n",
              "\n",
              "    [theme=dark] .colab-df-convert:hover {\n",
              "      background-color: #434B5C;\n",
              "      box-shadow: 0px 1px 3px 1px rgba(0, 0, 0, 0.15);\n",
              "      filter: drop-shadow(0px 1px 2px rgba(0, 0, 0, 0.3));\n",
              "      fill: #FFFFFF;\n",
              "    }\n",
              "  </style>\n",
              "\n",
              "      <script>\n",
              "        const buttonEl =\n",
              "          document.querySelector('#df-f71b42b1-928b-4803-8703-7cd7fcb58eb7 button.colab-df-convert');\n",
              "        buttonEl.style.display =\n",
              "          google.colab.kernel.accessAllowed ? 'block' : 'none';\n",
              "\n",
              "        async function convertToInteractive(key) {\n",
              "          const element = document.querySelector('#df-f71b42b1-928b-4803-8703-7cd7fcb58eb7');\n",
              "          const dataTable =\n",
              "            await google.colab.kernel.invokeFunction('convertToInteractive',\n",
              "                                                     [key], {});\n",
              "          if (!dataTable) return;\n",
              "\n",
              "          const docLinkHtml = 'Like what you see? Visit the ' +\n",
              "            '<a target=\"_blank\" href=https://colab.research.google.com/notebooks/data_table.ipynb>data table notebook</a>'\n",
              "            + ' to learn more about interactive tables.';\n",
              "          element.innerHTML = '';\n",
              "          dataTable['output_type'] = 'display_data';\n",
              "          await google.colab.output.renderOutput(dataTable, element);\n",
              "          const docLink = document.createElement('div');\n",
              "          docLink.innerHTML = docLinkHtml;\n",
              "          element.appendChild(docLink);\n",
              "        }\n",
              "      </script>\n",
              "    </div>\n",
              "  </div>\n",
              "  "
            ]
          },
          "metadata": {},
          "execution_count": 74
        }
      ]
    },
    {
      "cell_type": "code",
      "source": [
        "plt.figure(figsize =(10,5))\n",
        "sns.barplot(x = 'agent', y = 'num_of_bookings', data = booking_city_count, order = booking_city_count.sort_values('num_of_bookings', ascending = False).agent).set_title(\"Number of bookings made by Agents For City Hotel\")"
      ],
      "metadata": {
        "id": "SyZaBDDLUh8E",
        "colab": {
          "base_uri": "https://localhost:8080/",
          "height": 367
        },
        "outputId": "fe95d973-8885-4ad0-af01-de65a61588f0"
      },
      "execution_count": null,
      "outputs": [
        {
          "output_type": "execute_result",
          "data": {
            "text/plain": [
              "Text(0.5, 1.0, 'Number of bookings made by Agents For City Hotel')"
            ]
          },
          "metadata": {},
          "execution_count": 75
        },
        {
          "output_type": "display_data",
          "data": {
            "text/plain": [
              "<Figure size 720x360 with 1 Axes>"
            ],
            "image/png": "[encoded data removed]"
          },
          "metadata": {}
        }
      ]
    },
    {
      "cell_type": "markdown",
      "source": [
        "**Observation: We can see from the above data that the maximum bookings were done by the Agent  with agent numbered '9'. The minimum booking was made by the agent numbered '6' for City Hotel**"
      ],
      "metadata": {
        "id": "wB6G3Xf-s3OH"
      }
    },
    {
      "cell_type": "markdown",
      "source": [
        "## **Question 10) Find out the count of customers who booked tickets through various modes and through which mode highest booking was made.**"
      ],
      "metadata": {
        "id": "qikWoeztaT13"
      }
    },
    {
      "cell_type": "code",
      "source": [
        "booking_mode=all_booking.groupby('distribution_channel')['hotel'].count().reset_index().rename(columns = {'hotel':'Number of booking'})"
      ],
      "metadata": {
        "id": "_TuIWNnkuF9T"
      },
      "execution_count": null,
      "outputs": []
    },
    {
      "cell_type": "code",
      "source": [
        "booking_mode.sort_values('Number of booking',ascending=False)"
      ],
      "metadata": {
        "id": "sCG-bmANuSA3",
        "colab": {
          "base_uri": "https://localhost:8080/",
          "height": 206
        },
        "outputId": "3fa19feb-3602-4550-e20c-1b7ecb1760f1"
      },
      "execution_count": null,
      "outputs": [
        {
          "output_type": "execute_result",
          "data": {
            "text/plain": [
              "  distribution_channel  Number of booking\n",
              "3                TA/TO              57718\n",
              "1               Direct              12088\n",
              "0            Corporate               5203\n",
              "2                  GDS                156\n",
              "4            Undefined                  1"
            ],
            "text/html": [
              "\n",
              "  <div id=\"df-1c6d24ba-26c1-434e-8555-8c887a05e34e\">\n",
              "    <div class=\"colab-df-container\">\n",
              "      <div>\n",
              "<style scoped>\n",
              "    .dataframe tbody tr th:only-of-type {\n",
              "        vertical-align: middle;\n",
              "    }\n",
              "\n",
              "    .dataframe tbody tr th {\n",
              "        vertical-align: top;\n",
              "    }\n",
              "\n",
              "    .dataframe thead th {\n",
              "        text-align: right;\n",
              "    }\n",
              "</style>\n",
              "<table border=\"1\" class=\"dataframe\">\n",
              "  <thead>\n",
              "    <tr style=\"text-align: right;\">\n",
              "      <th></th>\n",
              "      <th>distribution_channel</th>\n",
              "      <th>Number of booking</th>\n",
              "    </tr>\n",
              "  </thead>\n",
              "  <tbody>\n",
              "    <tr>\n",
              "      <th>3</th>\n",
              "      <td>TA/TO</td>\n",
              "      <td>57718</td>\n",
              "    </tr>\n",
              "    <tr>\n",
              "      <th>1</th>\n",
              "      <td>Direct</td>\n",
              "      <td>12088</td>\n",
              "    </tr>\n",
              "    <tr>\n",
              "      <th>0</th>\n",
              "      <td>Corporate</td>\n",
              "      <td>5203</td>\n",
              "    </tr>\n",
              "    <tr>\n",
              "      <th>2</th>\n",
              "      <td>GDS</td>\n",
              "      <td>156</td>\n",
              "    </tr>\n",
              "    <tr>\n",
              "      <th>4</th>\n",
              "      <td>Undefined</td>\n",
              "      <td>1</td>\n",
              "    </tr>\n",
              "  </tbody>\n",
              "</table>\n",
              "</div>\n",
              "      <button class=\"colab-df-convert\" onclick=\"convertToInteractive('df-1c6d24ba-26c1-434e-8555-8c887a05e34e')\"\n",
              "              title=\"Convert this dataframe to an interactive table.\"\n",
              "              style=\"display:none;\">\n",
              "        \n",
              "  <svg xmlns=\"http://www.w3.org/2000/svg\" height=\"24px\"viewBox=\"0 0 24 24\"\n",
              "       width=\"24px\">\n",
              "    <path d=\"M0 0h24v24H0V0z\" fill=\"none\"/>\n",
              "    <path d=\"M18.56 5.44l.94 2.06.94-2.06 2.06-.94-2.06-.94-.94-2.06-.94 2.06-2.06.94zm-11 1L8.5 8.5l.94-2.06 2.06-.94-2.06-.94L8.5 2.5l-.94 2.06-2.06.94zm10 10l.94 2.06.94-2.06 2.06-.94-2.06-.94-.94-2.06-.94 2.06-2.06.94z\"/><path d=\"M17.41 7.96l-1.37-1.37c-.4-.4-.92-.59-1.43-.59-.52 0-1.04.2-1.43.59L10.3 9.45l-7.72 7.72c-.78.78-.78 2.05 0 2.83L4 21.41c.39.39.9.59 1.41.59.51 0 1.02-.2 1.41-.59l7.78-7.78 2.81-2.81c.8-.78.8-2.07 0-2.86zM5.41 20L4 18.59l7.72-7.72 1.47 1.35L5.41 20z\"/>\n",
              "  </svg>\n",
              "      </button>\n",
              "      \n",
              "  <style>\n",
              "    .colab-df-container {\n",
              "      display:flex;\n",
              "      flex-wrap:wrap;\n",
              "      gap: 12px;\n",
              "    }\n",
              "\n",
              "    .colab-df-convert {\n",
              "      background-color: #E8F0FE;\n",
              "      border: none;\n",
              "      border-radius: 50%;\n",
              "      cursor: pointer;\n",
              "      display: none;\n",
              "      fill: #1967D2;\n",
              "      height: 32px;\n",
              "      padding: 0 0 0 0;\n",
              "      width: 32px;\n",
              "    }\n",
              "\n",
              "    .colab-df-convert:hover {\n",
              "      background-color: #E2EBFA;\n",
              "      box-shadow: 0px 1px 2px rgba(60, 64, 67, 0.3), 0px 1px 3px 1px rgba(60, 64, 67, 0.15);\n",
              "      fill: #174EA6;\n",
              "    }\n",
              "\n",
              "    [theme=dark] .colab-df-convert {\n",
              "      background-color: #3B4455;\n",
              "      fill: #D2E3FC;\n",
              "    }\n",
              "\n",
              "    [theme=dark] .colab-df-convert:hover {\n",
              "      background-color: #434B5C;\n",
              "      box-shadow: 0px 1px 3px 1px rgba(0, 0, 0, 0.15);\n",
              "      filter: drop-shadow(0px 1px 2px rgba(0, 0, 0, 0.3));\n",
              "      fill: #FFFFFF;\n",
              "    }\n",
              "  </style>\n",
              "\n",
              "      <script>\n",
              "        const buttonEl =\n",
              "          document.querySelector('#df-1c6d24ba-26c1-434e-8555-8c887a05e34e button.colab-df-convert');\n",
              "        buttonEl.style.display =\n",
              "          google.colab.kernel.accessAllowed ? 'block' : 'none';\n",
              "\n",
              "        async function convertToInteractive(key) {\n",
              "          const element = document.querySelector('#df-1c6d24ba-26c1-434e-8555-8c887a05e34e');\n",
              "          const dataTable =\n",
              "            await google.colab.kernel.invokeFunction('convertToInteractive',\n",
              "                                                     [key], {});\n",
              "          if (!dataTable) return;\n",
              "\n",
              "          const docLinkHtml = 'Like what you see? Visit the ' +\n",
              "            '<a target=\"_blank\" href=https://colab.research.google.com/notebooks/data_table.ipynb>data table notebook</a>'\n",
              "            + ' to learn more about interactive tables.';\n",
              "          element.innerHTML = '';\n",
              "          dataTable['output_type'] = 'display_data';\n",
              "          await google.colab.output.renderOutput(dataTable, element);\n",
              "          const docLink = document.createElement('div');\n",
              "          docLink.innerHTML = docLinkHtml;\n",
              "          element.appendChild(docLink);\n",
              "        }\n",
              "      </script>\n",
              "    </div>\n",
              "  </div>\n",
              "  "
            ]
          },
          "metadata": {},
          "execution_count": 77
        }
      ]
    },
    {
      "cell_type": "markdown",
      "source": [
        "**Graphical Representation**"
      ],
      "metadata": {
        "id": "BV4G0rTjHSxC"
      }
    },
    {
      "cell_type": "code",
      "source": [
        "booking_vals=['57718' , '12088' ,'5203' , '156' ,]\n",
        "channel_labels=['TA/TO' ,'Direct' ,'Corporate' ,'GDS']\n",
        "exp=[0.1,0,0,0]\n",
        "plt.pie(booking_vals,labels=channel_labels , explode=exp,autopct='%0.1f%%',radius= 1.5,)\n",
        "\n",
        "plt.show()\n",
        "\n",
        "\n"
      ],
      "metadata": {
        "colab": {
          "base_uri": "https://localhost:8080/",
          "height": 364
        },
        "id": "M9ixw-Kr8T52",
        "outputId": "512dab84-f5f7-4f12-c201-0b38f2a05d98"
      },
      "execution_count": null,
      "outputs": [
        {
          "output_type": "display_data",
          "data": {
            "text/plain": [
              "<Figure size 1008x360 with 1 Axes>"
            ],
            "image/png": "[encoded data removed]"
          },
          "metadata": {}
        }
      ]
    },
    {
      "cell_type": "markdown",
      "source": [
        "**Observation: We can see from the above data maximum number of bookings by customers were made through the channel TA/TO.Whereas very few booked through the channel GDS.**\n",
        "**Hence TA/TO is very popular channel to book tickets for hotel.**"
      ],
      "metadata": {
        "id": "c7ldw_ZwSpCy"
      }
    },
    {
      "cell_type": "markdown",
      "source": [
        "## **Question 11) Find the most popular Rooms booked and their  respective rents.**"
      ],
      "metadata": {
        "id": "tHxFwhqzUN_P"
      }
    },
    {
      "cell_type": "markdown",
      "source": [
        "**Calculating the room which has highest count of bookings**"
      ],
      "metadata": {
        "id": "AurPMr_O2zeb"
      }
    },
    {
      "cell_type": "code",
      "source": [
        "room_type=all_booking['reserved_room_type'].value_counts().reset_index().rename(columns = {'index':'room type','reserved_room_type':'number_of_bookings'}).sort_values(by = 'number_of_bookings',ascending=False)"
      ],
      "metadata": {
        "id": "If2cFE4TUmZa"
      },
      "execution_count": null,
      "outputs": []
    },
    {
      "cell_type": "code",
      "source": [
        "max_room_type = room_type.iloc[0:3]"
      ],
      "metadata": {
        "id": "SvCgHpfpU7V-"
      },
      "execution_count": null,
      "outputs": []
    },
    {
      "cell_type": "code",
      "source": [
        "max_room_type"
      ],
      "metadata": {
        "id": "tFpgaoUV3Epp",
        "outputId": "1d64cc1a-3dab-4d6d-ada2-0431bc1a9f0f",
        "colab": {
          "base_uri": "https://localhost:8080/",
          "height": 143
        }
      },
      "execution_count": null,
      "outputs": [
        {
          "output_type": "execute_result",
          "data": {
            "text/plain": [
              "  room type  number_of_bookings\n",
              "0         A               52364\n",
              "1         D               13099\n",
              "2         E                4621"
            ],
            "text/html": [
              "\n",
              "  <div id=\"df-38a23586-8a8c-4059-b11c-7474ac9ae8a7\">\n",
              "    <div class=\"colab-df-container\">\n",
              "      <div>\n",
              "<style scoped>\n",
              "    .dataframe tbody tr th:only-of-type {\n",
              "        vertical-align: middle;\n",
              "    }\n",
              "\n",
              "    .dataframe tbody tr th {\n",
              "        vertical-align: top;\n",
              "    }\n",
              "\n",
              "    .dataframe thead th {\n",
              "        text-align: right;\n",
              "    }\n",
              "</style>\n",
              "<table border=\"1\" class=\"dataframe\">\n",
              "  <thead>\n",
              "    <tr style=\"text-align: right;\">\n",
              "      <th></th>\n",
              "      <th>room type</th>\n",
              "      <th>number_of_bookings</th>\n",
              "    </tr>\n",
              "  </thead>\n",
              "  <tbody>\n",
              "    <tr>\n",
              "      <th>0</th>\n",
              "      <td>A</td>\n",
              "      <td>52364</td>\n",
              "    </tr>\n",
              "    <tr>\n",
              "      <th>1</th>\n",
              "      <td>D</td>\n",
              "      <td>13099</td>\n",
              "    </tr>\n",
              "    <tr>\n",
              "      <th>2</th>\n",
              "      <td>E</td>\n",
              "      <td>4621</td>\n",
              "    </tr>\n",
              "  </tbody>\n",
              "</table>\n",
              "</div>\n",
              "      <button class=\"colab-df-convert\" onclick=\"convertToInteractive('df-38a23586-8a8c-4059-b11c-7474ac9ae8a7')\"\n",
              "              title=\"Convert this dataframe to an interactive table.\"\n",
              "              style=\"display:none;\">\n",
              "        \n",
              "  <svg xmlns=\"http://www.w3.org/2000/svg\" height=\"24px\"viewBox=\"0 0 24 24\"\n",
              "       width=\"24px\">\n",
              "    <path d=\"M0 0h24v24H0V0z\" fill=\"none\"/>\n",
              "    <path d=\"M18.56 5.44l.94 2.06.94-2.06 2.06-.94-2.06-.94-.94-2.06-.94 2.06-2.06.94zm-11 1L8.5 8.5l.94-2.06 2.06-.94-2.06-.94L8.5 2.5l-.94 2.06-2.06.94zm10 10l.94 2.06.94-2.06 2.06-.94-2.06-.94-.94-2.06-.94 2.06-2.06.94z\"/><path d=\"M17.41 7.96l-1.37-1.37c-.4-.4-.92-.59-1.43-.59-.52 0-1.04.2-1.43.59L10.3 9.45l-7.72 7.72c-.78.78-.78 2.05 0 2.83L4 21.41c.39.39.9.59 1.41.59.51 0 1.02-.2 1.41-.59l7.78-7.78 2.81-2.81c.8-.78.8-2.07 0-2.86zM5.41 20L4 18.59l7.72-7.72 1.47 1.35L5.41 20z\"/>\n",
              "  </svg>\n",
              "      </button>\n",
              "      \n",
              "  <style>\n",
              "    .colab-df-container {\n",
              "      display:flex;\n",
              "      flex-wrap:wrap;\n",
              "      gap: 12px;\n",
              "    }\n",
              "\n",
              "    .colab-df-convert {\n",
              "      background-color: #E8F0FE;\n",
              "      border: none;\n",
              "      border-radius: 50%;\n",
              "      cursor: pointer;\n",
              "      display: none;\n",
              "      fill: #1967D2;\n",
              "      height: 32px;\n",
              "      padding: 0 0 0 0;\n",
              "      width: 32px;\n",
              "    }\n",
              "\n",
              "    .colab-df-convert:hover {\n",
              "      background-color: #E2EBFA;\n",
              "      box-shadow: 0px 1px 2px rgba(60, 64, 67, 0.3), 0px 1px 3px 1px rgba(60, 64, 67, 0.15);\n",
              "      fill: #174EA6;\n",
              "    }\n",
              "\n",
              "    [theme=dark] .colab-df-convert {\n",
              "      background-color: #3B4455;\n",
              "      fill: #D2E3FC;\n",
              "    }\n",
              "\n",
              "    [theme=dark] .colab-df-convert:hover {\n",
              "      background-color: #434B5C;\n",
              "      box-shadow: 0px 1px 3px 1px rgba(0, 0, 0, 0.15);\n",
              "      filter: drop-shadow(0px 1px 2px rgba(0, 0, 0, 0.3));\n",
              "      fill: #FFFFFF;\n",
              "    }\n",
              "  </style>\n",
              "\n",
              "      <script>\n",
              "        const buttonEl =\n",
              "          document.querySelector('#df-38a23586-8a8c-4059-b11c-7474ac9ae8a7 button.colab-df-convert');\n",
              "        buttonEl.style.display =\n",
              "          google.colab.kernel.accessAllowed ? 'block' : 'none';\n",
              "\n",
              "        async function convertToInteractive(key) {\n",
              "          const element = document.querySelector('#df-38a23586-8a8c-4059-b11c-7474ac9ae8a7');\n",
              "          const dataTable =\n",
              "            await google.colab.kernel.invokeFunction('convertToInteractive',\n",
              "                                                     [key], {});\n",
              "          if (!dataTable) return;\n",
              "\n",
              "          const docLinkHtml = 'Like what you see? Visit the ' +\n",
              "            '<a target=\"_blank\" href=https://colab.research.google.com/notebooks/data_table.ipynb>data table notebook</a>'\n",
              "            + ' to learn more about interactive tables.';\n",
              "          element.innerHTML = '';\n",
              "          dataTable['output_type'] = 'display_data';\n",
              "          await google.colab.output.renderOutput(dataTable, element);\n",
              "          const docLink = document.createElement('div');\n",
              "          docLink.innerHTML = docLinkHtml;\n",
              "          element.appendChild(docLink);\n",
              "        }\n",
              "      </script>\n",
              "    </div>\n",
              "  </div>\n",
              "  "
            ]
          },
          "metadata": {},
          "execution_count": 81
        }
      ]
    },
    {
      "cell_type": "code",
      "source": [
        "booking_number=['52364' , '13099' ,'4621']\n",
        "rooms_type=['A' ,'D' ,'E']\n",
        "exp=[0.1,0,0]\n",
        "colors=[\"#d62728\", \"#9467bd\", \"#8c564b\"]\n",
        "plt.pie(booking_number,labels=rooms_type, explode=exp,autopct='%0.1f%%',radius=1.5, colors=colors)\n",
        "plt.title(\"Agents and their number of bookings\")\n",
        "\n",
        "plt.show()"
      ],
      "metadata": {
        "id": "5mqYotFVa739",
        "colab": {
          "base_uri": "https://localhost:8080/",
          "height": 368
        },
        "outputId": "9c74f698-641d-45c3-e23b-cd53fb89d195"
      },
      "execution_count": null,
      "outputs": [
        {
          "output_type": "display_data",
          "data": {
            "text/plain": [
              "<Figure size 1008x360 with 1 Axes>"
            ],
            "image/png": "[encoded data removed]"
          },
          "metadata": {}
        }
      ]
    },
    {
      "cell_type": "markdown",
      "source": [],
      "metadata": {
        "id": "22VE6-oY3bnG"
      }
    },
    {
      "cell_type": "markdown",
      "source": [
        "**Observation: The above data shows the maximum three type of rooms that are booked the most.**\n",
        "**It is seen that room type A has maximum number of bookings and room type E stands in third place.**"
      ],
      "metadata": {
        "id": "RcnT-3_viiFE"
      }
    },
    {
      "cell_type": "markdown",
      "source": [
        "##How are the types of rooms booked related to rent of the room"
      ],
      "metadata": {
        "id": "PpaAii8igP1e"
      }
    },
    {
      "cell_type": "code",
      "source": [
        "type_of_rooms = all_booking.groupby('reserved_room_type')['adr'].mean().reset_index().rename(columns={'adr':'average room rent'}).sort_values('average room rent', ascending=True)"
      ],
      "metadata": {
        "id": "6VmWQxQvb6hy"
      },
      "execution_count": null,
      "outputs": []
    },
    {
      "cell_type": "code",
      "source": [
        "type_of_rooms"
      ],
      "metadata": {
        "id": "O7MA9DJi3rIg",
        "outputId": "8ef7ab1c-8461-4b62-ddd2-c160dec527c4",
        "colab": {
          "base_uri": "https://localhost:8080/",
          "height": 332
        }
      },
      "execution_count": null,
      "outputs": [
        {
          "output_type": "execute_result",
          "data": {
            "text/plain": [
              "  reserved_room_type  average room rent\n",
              "1                  B          87.425000\n",
              "0                  A          89.156889\n",
              "3                  D         116.371997\n",
              "4                  E         119.067942\n",
              "8                  L         151.000000\n",
              "2                  C         153.020609\n",
              "5                  F         159.242142\n",
              "6                  G         169.237483\n",
              "7                  H         180.870112"
            ],
            "text/html": [
              "\n",
              "  <div id=\"df-fbeba019-bed2-48e1-afd8-2e5bbbefa39a\">\n",
              "    <div class=\"colab-df-container\">\n",
              "      <div>\n",
              "<style scoped>\n",
              "    .dataframe tbody tr th:only-of-type {\n",
              "        vertical-align: middle;\n",
              "    }\n",
              "\n",
              "    .dataframe tbody tr th {\n",
              "        vertical-align: top;\n",
              "    }\n",
              "\n",
              "    .dataframe thead th {\n",
              "        text-align: right;\n",
              "    }\n",
              "</style>\n",
              "<table border=\"1\" class=\"dataframe\">\n",
              "  <thead>\n",
              "    <tr style=\"text-align: right;\">\n",
              "      <th></th>\n",
              "      <th>reserved_room_type</th>\n",
              "      <th>average room rent</th>\n",
              "    </tr>\n",
              "  </thead>\n",
              "  <tbody>\n",
              "    <tr>\n",
              "      <th>1</th>\n",
              "      <td>B</td>\n",
              "      <td>87.425000</td>\n",
              "    </tr>\n",
              "    <tr>\n",
              "      <th>0</th>\n",
              "      <td>A</td>\n",
              "      <td>89.156889</td>\n",
              "    </tr>\n",
              "    <tr>\n",
              "      <th>3</th>\n",
              "      <td>D</td>\n",
              "      <td>116.371997</td>\n",
              "    </tr>\n",
              "    <tr>\n",
              "      <th>4</th>\n",
              "      <td>E</td>\n",
              "      <td>119.067942</td>\n",
              "    </tr>\n",
              "    <tr>\n",
              "      <th>8</th>\n",
              "      <td>L</td>\n",
              "      <td>151.000000</td>\n",
              "    </tr>\n",
              "    <tr>\n",
              "      <th>2</th>\n",
              "      <td>C</td>\n",
              "      <td>153.020609</td>\n",
              "    </tr>\n",
              "    <tr>\n",
              "      <th>5</th>\n",
              "      <td>F</td>\n",
              "      <td>159.242142</td>\n",
              "    </tr>\n",
              "    <tr>\n",
              "      <th>6</th>\n",
              "      <td>G</td>\n",
              "      <td>169.237483</td>\n",
              "    </tr>\n",
              "    <tr>\n",
              "      <th>7</th>\n",
              "      <td>H</td>\n",
              "      <td>180.870112</td>\n",
              "    </tr>\n",
              "  </tbody>\n",
              "</table>\n",
              "</div>\n",
              "      <button class=\"colab-df-convert\" onclick=\"convertToInteractive('df-fbeba019-bed2-48e1-afd8-2e5bbbefa39a')\"\n",
              "              title=\"Convert this dataframe to an interactive table.\"\n",
              "              style=\"display:none;\">\n",
              "        \n",
              "  <svg xmlns=\"http://www.w3.org/2000/svg\" height=\"24px\"viewBox=\"0 0 24 24\"\n",
              "       width=\"24px\">\n",
              "    <path d=\"M0 0h24v24H0V0z\" fill=\"none\"/>\n",
              "    <path d=\"M18.56 5.44l.94 2.06.94-2.06 2.06-.94-2.06-.94-.94-2.06-.94 2.06-2.06.94zm-11 1L8.5 8.5l.94-2.06 2.06-.94-2.06-.94L8.5 2.5l-.94 2.06-2.06.94zm10 10l.94 2.06.94-2.06 2.06-.94-2.06-.94-.94-2.06-.94 2.06-2.06.94z\"/><path d=\"M17.41 7.96l-1.37-1.37c-.4-.4-.92-.59-1.43-.59-.52 0-1.04.2-1.43.59L10.3 9.45l-7.72 7.72c-.78.78-.78 2.05 0 2.83L4 21.41c.39.39.9.59 1.41.59.51 0 1.02-.2 1.41-.59l7.78-7.78 2.81-2.81c.8-.78.8-2.07 0-2.86zM5.41 20L4 18.59l7.72-7.72 1.47 1.35L5.41 20z\"/>\n",
              "  </svg>\n",
              "      </button>\n",
              "      \n",
              "  <style>\n",
              "    .colab-df-container {\n",
              "      display:flex;\n",
              "      flex-wrap:wrap;\n",
              "      gap: 12px;\n",
              "    }\n",
              "\n",
              "    .colab-df-convert {\n",
              "      background-color: #E8F0FE;\n",
              "      border: none;\n",
              "      border-radius: 50%;\n",
              "      cursor: pointer;\n",
              "      display: none;\n",
              "      fill: #1967D2;\n",
              "      height: 32px;\n",
              "      padding: 0 0 0 0;\n",
              "      width: 32px;\n",
              "    }\n",
              "\n",
              "    .colab-df-convert:hover {\n",
              "      background-color: #E2EBFA;\n",
              "      box-shadow: 0px 1px 2px rgba(60, 64, 67, 0.3), 0px 1px 3px 1px rgba(60, 64, 67, 0.15);\n",
              "      fill: #174EA6;\n",
              "    }\n",
              "\n",
              "    [theme=dark] .colab-df-convert {\n",
              "      background-color: #3B4455;\n",
              "      fill: #D2E3FC;\n",
              "    }\n",
              "\n",
              "    [theme=dark] .colab-df-convert:hover {\n",
              "      background-color: #434B5C;\n",
              "      box-shadow: 0px 1px 3px 1px rgba(0, 0, 0, 0.15);\n",
              "      filter: drop-shadow(0px 1px 2px rgba(0, 0, 0, 0.3));\n",
              "      fill: #FFFFFF;\n",
              "    }\n",
              "  </style>\n",
              "\n",
              "      <script>\n",
              "        const buttonEl =\n",
              "          document.querySelector('#df-fbeba019-bed2-48e1-afd8-2e5bbbefa39a button.colab-df-convert');\n",
              "        buttonEl.style.display =\n",
              "          google.colab.kernel.accessAllowed ? 'block' : 'none';\n",
              "\n",
              "        async function convertToInteractive(key) {\n",
              "          const element = document.querySelector('#df-fbeba019-bed2-48e1-afd8-2e5bbbefa39a');\n",
              "          const dataTable =\n",
              "            await google.colab.kernel.invokeFunction('convertToInteractive',\n",
              "                                                     [key], {});\n",
              "          if (!dataTable) return;\n",
              "\n",
              "          const docLinkHtml = 'Like what you see? Visit the ' +\n",
              "            '<a target=\"_blank\" href=https://colab.research.google.com/notebooks/data_table.ipynb>data table notebook</a>'\n",
              "            + ' to learn more about interactive tables.';\n",
              "          element.innerHTML = '';\n",
              "          dataTable['output_type'] = 'display_data';\n",
              "          await google.colab.output.renderOutput(dataTable, element);\n",
              "          const docLink = document.createElement('div');\n",
              "          docLink.innerHTML = docLinkHtml;\n",
              "          element.appendChild(docLink);\n",
              "        }\n",
              "      </script>\n",
              "    </div>\n",
              "  </div>\n",
              "  "
            ]
          },
          "metadata": {},
          "execution_count": 85
        }
      ]
    },
    {
      "cell_type": "markdown",
      "source": [
        "#Graphical representation"
      ],
      "metadata": {
        "id": "IMSxb_PA30dz"
      }
    },
    {
      "cell_type": "code",
      "source": [
        "sns.scatterplot( x = type_of_rooms['reserved_room_type'], y = type_of_rooms['average room rent']).set_title(\"Relationship between room type and aveerage room rent\")\n"
      ],
      "metadata": {
        "id": "cXJBkewLmL-7",
        "colab": {
          "base_uri": "https://localhost:8080/",
          "height": 368
        },
        "outputId": "addd4e0a-ba40-4d73-97c7-4f77de0576fc"
      },
      "execution_count": null,
      "outputs": [
        {
          "output_type": "execute_result",
          "data": {
            "text/plain": [
              "Text(0.5, 1.0, 'Relationship between room type and aveerage room rent')"
            ]
          },
          "metadata": {},
          "execution_count": 86
        },
        {
          "output_type": "display_data",
          "data": {
            "text/plain": [
              "<Figure size 1008x360 with 1 Axes>"
            ],
            "image/png": "[encoded data removed]"
          },
          "metadata": {}
        }
      ]
    },
    {
      "cell_type": "markdown",
      "source": [
        "**Observation: The above data shows how the types of room booked and the rent of the rooms are related.It is observed that the most common rooms booked namel room types 'A' , 'D' and 'E' have minimal or moderate room rents whereas rarely booked rooms have high room rent.Hence if the room rent is minimal or moderate more number of bookings can be expected.**"
      ],
      "metadata": {
        "id": "qfX6rZ1UxBZU"
      }
    },
    {
      "cell_type": "markdown",
      "metadata": {
        "id": "XD2cGIb8wAIy"
      },
      "source": [
        "# **Conclusions**\n",
        "\n",
        "\n",
        "\n",
        " **1) Most of the customers come from Portugal, Great Britain, France and Spain.**\n",
        "\n",
        "**2) The maximum of repeated customers have come from the country Portugal represented as 'PRT' for bothb of the hotels.**\n",
        "\n",
        "**3) Almost 41% of City Hotel and 27% of Resort Hotel were cancelled. So, we can clearly see that maximum percentage of people cancelled City Hotel.**\n",
        "\n",
        "**4) Repeated customers is approx 3.2% for both of the hotels.**\n",
        "\n",
        "**5) City hotel has significantly longer waiting time, hence City Hotel is much busier than Resort Hotel.**\n",
        "\n",
        "**6) There are 46228 Customers who booked Resort hotel and not cancelled it further also there are 28938 Customers who booked City hotel and not cancelled it further.**\n",
        "\n",
        "**7)From the data we can see that August,July and May are the most busiest moths for Resort hotel and City hotel.**\n",
        "\n",
        "* **The average rent for Resort hotel for all the 12 months  is highest in the month of August and lowest in the month of January.**\n",
        "\n",
        "* **Also for City hotel the average rent is at its peak in the month of May and very low in the month of January.**\n",
        "\n",
        "*  **Also we have seen that City hotel is making more revenue than Resort Hotel**\n",
        "\n",
        "**8) Regarding Resort Hotel  for 'Contract' , 'Transient' and 'Group' type customers the wiating period is zero where as for Transient-Party it is 3.12. So it is clear that if the booking was made as 'Contract' or 'Group' or 'Transient' the rooms will be booked immedietly without waiting time.**\n",
        "\n",
        "**The average rent is maximum for 'Transient' type of customers and minimum for 'Transient-Party' type of customers.**\n",
        "\n",
        "**Regarding City Hotel for 'Contract' , 'Transient' and 'Group type' customers the wating period is zero where as for 'Transient-Party' it is 7.88 So it is clear that if the booking was made as 'Contract' or 'Group' or 'Transient' the rooms will be booked immedietly without waiting time.**\n",
        "\n",
        "**The average rent is maximum for 'Transient' type of customers and minimum for 'Group' type of customers.**\n",
        "\n",
        "**9) The above data shows the top five agents who have made maximum number of bookings in Resort hotel. We can see that Agent number 240 has made maximum number of booking.**\n",
        "\n",
        "**Agent numbered '9'has booked highest number of rooms for City Hotel.**\n",
        "\n",
        "**We can see from the above data that the maximum bookings were done by the Agent with agent numbered '9'. The minimum booking was made by the agent numbered '6' for City Hotel.**\n",
        "\n",
        "**10) We can see from the above data maximum number of bookings by customers were made through the channel TA/TO.Whereas very few booked through the channel GDS. Hence TA/TO is very popular channel to book tickets for hotel.**\n",
        "\n",
        "**10)Out of all the agents who were booking rooms ,we can see that agent numbered '240' has booked highest number of rooms for Resort Hotel.**\n",
        "**Agent numbered '9'has booked highest number of rooms for City Hotel.**\n",
        "\n",
        "**11) The above data shows how the types of room booked and the rent of the rooms are related.It is observed that the most common rooms booked namel room types 'A' , 'D' and 'E' have minimal or moderate room rents whereas rarely booked rooms have high room rent.Hence if the room rent is minimal or moderate more number of bookings can be expected.**\n",
        "\n",
        "\n",
        "\n"
      ]
    },
    {
      "cell_type": "markdown",
      "source": [
        "#**Overall Summary**"
      ],
      "metadata": {
        "id": "wTL3S-u14v7V"
      }
    },
    {
      "cell_type": "markdown",
      "source": [
        "Hotel Booking Analysis was done by a group of two members: Abhilasha.M ,Jatin, Kishan kumar bafna.\n",
        "In the project we have had HotelBooking.csv file as input.\n",
        "\n",
        "Abhilasha.M:We decided to first solely take up the project and analyse the data\n",
        "set individudly.I went through various columns in HotelBooking.csv file and understood what each column means.Also understood the relationship between some of the important columns like 'is_cancelled' ' 'lead_time' 'adr' and many more.\n",
        "I tried to analyse the corelation between few such columns.I found out some of the statistics such as maximum number of repeated customers are comming  from the country Portugal.There are 46228 Customers who booked Resort hotel and not cancelled it further also there are 28938 Customers who booked City hotel and not cancelled it further.I tried to find out the months that are busiest and average rent across all the months for both the hotels.I found out that the most busiest months for City hotel and Resort hotel are July , May and August.Also  for Resort hotel  average rent is highest for the month of August and minimun for the month of November.For City hotel the average rent is highest for the month of May and minimum in the month of January.I also wanted to find out that which hotel is making more revenue.So I explored the 'adr' column and found out that 'City hotel' has more revenue than 'Resort hotel'.I also wanted to know the booking statistics for different types of customers for both the hotels.So I explored the 'customer_type' column and found out that regarding Resort Hotel for 'Contract' , 'Transient' and 'Group' type customers the wiating period is zero where as for Transient-Party it is 3.12.Also the average rent is maximum for 'Transient' type of customers and minimum for 'Transient-Party' type of customers.Regarding City Hotel for 'Contract' , 'Transient' and 'Group type' customers the wating period is zero where as for 'Transient-Party' it is 7.88.The average rent is maximum for 'Transient' type of customers and minimum for 'Group' type of customers.In addition to this I wanted to exhibit the top five agents who booked hotels.Hence I explored the agent column and also found out that agent 240 has made highest bookings for Resort hotel and agent 9 has made highest bookings for city hotel.Further I wanted to check which is the most popular channel for booking hotel tickets.Therefore I explored the column 'Distribution_channel' and came up with the following insights:TA/TO is a very popular means to book tickets than other channels.Also I wanted to explore the maximum type of rooms and their rent.So I explored the 'Reserved_room_type' column and the relation between the rooms booked and their rent and foundout that the room types:'A' , 'D' , 'E' are booked the maximum .Also their rates are moderate.So If rooms have moderate rent they have more chances of booking."
      ],
      "metadata": {
        "id": "k_U9BnhrL8kM"
      }
    },
    {
      "cell_type": "markdown",
      "source": [
        "Jatin : Firstly we decided to analyse the project one by one like what is the insights we can get and what will be a good analysis for the hotels. Then we all came up with some questions which is really great for the business in hotel booking e.g From where the maximum number of guest are coming from, what are their requirments, what kind of hotels maximum customers are looking for(On the basis of loction, price, ameneties etc). After that my team and i started EDA on the data of hotel bookings. I found that there are two types of hotels i.e city hotel and resort hotel. There were total 32 columns with different type of data and 119390 rows. I tried to correlate between few important columns and went for extracting insights from the columns then i found that maximum number of customers are coming from the country pourtgal(PRT)and also maximum number of repeated customers from pourtgal. Almost 41% of City Hotel and 27% of Resort Hotel were cancelled. So, we can clearly see that maximum percentage of people cancelled City Hotel. I analyzed that in August, May and July months are the most busiest months over all the year. Also The average rent for Resort hotel for all the 12 months is highest in the month of August and lowest in the month of January and for City hotel the average rent is at its peak in the month of May and very low in the month of January. Also i found that City hotel is making more revenue than Resort Hotel."
      ],
      "metadata": {
        "id": "vRxAMJ1vehil"
      }
    },
    {
      "cell_type": "markdown",
      "source": [
        "Kishan Kumar Bafna : In the begining we all decided to analyse all the columns  individually after loading the data. Then i analyzed that not all the columns are important then i started working on the important columns. Then i started coding on the whole data set. I found that there are total 32 columns and 119390 rows. Then i started EDA and found that there are some countries where the maximum numbers of guests are coming and top four are from Pourtgal, Great Britain, France and Spain.  Almost 41% of City Hotel and 27% of Resort Hotel were cancelled. So, we can clearly see that maximum percentage of people cancelled City Hotel after the bookings. Then i analyzed that there are very few customers who are repeatedly coming to visit the hotel which is approx 3.12%. Then i came up with the hotels which have the longer waiting time and i analyzed that the City hotel has significantly longer waiting time(Waiting time is the time between the time of booking and checkin into the hotel), hence City Hotel is much busier than Resort Hotel."
      ],
      "metadata": {
        "id": "TZJidbfnlMBP"
      }
    }
  ]
}